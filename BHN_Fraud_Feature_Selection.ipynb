{
 "cells": [
  {
   "cell_type": "raw",
   "metadata": {
    "id": "733e45f0"
   },
   "source": [
    "\n",
    "##############################\n",
    "# -#- coding utf-8 -#-\n",
    "# Project Name: Fraud Detection\n",
    "# Created on 10/25/2023\n",
    "# @author: Bala Daks\n",
    "##############################\n"
   ]
  },
  {
   "cell_type": "markdown",
   "metadata": {
    "id": "2dc6f465"
   },
   "source": [
    "# Question of Interest    Fraud Detection Case Study - Prediction Whether Fraud Or Not\n",
    "***Due data: October 29, 2023***\n",
    "Notebook 2: Feature Engineering\n",
    "\n",
    "Objective: Transform and engineer features to improve the model's performance and predictive power.\n",
    "\n",
    "Steps recommended:\n",
    "1.\tFeature Transformation:\n",
    "a.\tHandle missing values (if any) using appropriate techniques like imputation or removal based on justification.\n",
    "b.\tEncode categorical variables using suitable encoding methods (label encoding, one-hot encoding) and explain the choice for each variable.\n",
    "c.\tScale numerical features using techniques like Min-Max scaling or Standardization, etc.\n",
    "2.\tFeature Creation:\n",
    "a.\tCreate new features from existing ones if it adds value to the model (e.g., aggregations, interaction terms).\n",
    "b.\tJustify the creation of each new feature based on its relevance to fraud detection.\n",
    "3.\tFeature Selection:\n",
    "a.\tUse techniques like correlation, feature importance from tree-based models, or other relevant methods to select the most important features.\n",
    "b.\tExplain the rationale behind selecting specific features for the model.\n",
    "4.\tSummary:\n"
   ]
  },
  {
   "cell_type": "markdown",
   "metadata": {
    "id": "255b8688"
   },
   "source": [
    "### Importing Python Libraries"
   ]
  },
  {
   "cell_type": "code",
   "execution_count": 1,
   "metadata": {
    "colab": {
     "base_uri": "https://localhost:8080/"
    },
    "id": "c47d59af",
    "outputId": "8783103d-76c2-468b-962e-c1667921c7b3"
   },
   "outputs": [
    {
     "name": "stdout",
     "output_type": "stream",
     "text": [
      "Collecting pycodestyle\n",
      "  Downloading pycodestyle-2.11.1-py2.py3-none-any.whl (31 kB)\n",
      "Collecting pyflakes\n",
      "  Downloading pyflakes-3.1.0-py2.py3-none-any.whl (62 kB)\n",
      "\u001b[2K     \u001b[90m━━━━━━━━━━━━━━━━━━━━━━━━━━━━━━━━━━━━━━━━\u001b[0m \u001b[32m62.6/62.6 kB\u001b[0m \u001b[31m4.2 MB/s\u001b[0m eta \u001b[36m0:00:00\u001b[0m\n",
      "\u001b[?25hCollecting shap\n",
      "  Downloading shap-0.43.0-cp310-cp310-manylinux_2_12_x86_64.manylinux2010_x86_64.manylinux_2_17_x86_64.manylinux2014_x86_64.whl (532 kB)\n",
      "\u001b[2K     \u001b[90m━━━━━━━━━━━━━━━━━━━━━━━━━━━━━━━━━━━━━━━━\u001b[0m \u001b[32m532.9/532.9 kB\u001b[0m \u001b[31m14.2 MB/s\u001b[0m eta \u001b[36m0:00:00\u001b[0m\n",
      "\u001b[?25hCollecting sweetviz\n",
      "  Downloading sweetviz-2.2.1-py3-none-any.whl (15.1 MB)\n",
      "\u001b[2K     \u001b[90m━━━━━━━━━━━━━━━━━━━━━━━━━━━━━━━━━━━━━━━━\u001b[0m \u001b[32m15.1/15.1 MB\u001b[0m \u001b[31m43.9 MB/s\u001b[0m eta \u001b[36m0:00:00\u001b[0m\n",
      "\u001b[?25hCollecting haversine\n",
      "  Downloading haversine-2.8.0-py2.py3-none-any.whl (7.7 kB)\n",
      "Requirement already satisfied: numpy in /usr/local/lib/python3.10/dist-packages (from shap) (1.23.5)\n",
      "Requirement already satisfied: scipy in /usr/local/lib/python3.10/dist-packages (from shap) (1.11.3)\n",
      "Requirement already satisfied: scikit-learn in /usr/local/lib/python3.10/dist-packages (from shap) (1.2.2)\n",
      "Requirement already satisfied: pandas in /usr/local/lib/python3.10/dist-packages (from shap) (1.5.3)\n",
      "Requirement already satisfied: tqdm>=4.27.0 in /usr/local/lib/python3.10/dist-packages (from shap) (4.66.1)\n",
      "Requirement already satisfied: packaging>20.9 in /usr/local/lib/python3.10/dist-packages (from shap) (23.2)\n",
      "Collecting slicer==0.0.7 (from shap)\n",
      "  Downloading slicer-0.0.7-py3-none-any.whl (14 kB)\n",
      "Requirement already satisfied: numba in /usr/local/lib/python3.10/dist-packages (from shap) (0.56.4)\n",
      "Requirement already satisfied: cloudpickle in /usr/local/lib/python3.10/dist-packages (from shap) (2.2.1)\n",
      "Requirement already satisfied: matplotlib>=3.1.3 in /usr/local/lib/python3.10/dist-packages (from sweetviz) (3.7.1)\n",
      "Requirement already satisfied: jinja2>=2.11.1 in /usr/local/lib/python3.10/dist-packages (from sweetviz) (3.1.2)\n",
      "Requirement already satisfied: importlib-resources>=1.2.0 in /usr/local/lib/python3.10/dist-packages (from sweetviz) (6.1.0)\n",
      "Requirement already satisfied: MarkupSafe>=2.0 in /usr/local/lib/python3.10/dist-packages (from jinja2>=2.11.1->sweetviz) (2.1.3)\n",
      "Requirement already satisfied: contourpy>=1.0.1 in /usr/local/lib/python3.10/dist-packages (from matplotlib>=3.1.3->sweetviz) (1.1.1)\n",
      "Requirement already satisfied: cycler>=0.10 in /usr/local/lib/python3.10/dist-packages (from matplotlib>=3.1.3->sweetviz) (0.12.1)\n",
      "Requirement already satisfied: fonttools>=4.22.0 in /usr/local/lib/python3.10/dist-packages (from matplotlib>=3.1.3->sweetviz) (4.43.1)\n",
      "Requirement already satisfied: kiwisolver>=1.0.1 in /usr/local/lib/python3.10/dist-packages (from matplotlib>=3.1.3->sweetviz) (1.4.5)\n",
      "Requirement already satisfied: pillow>=6.2.0 in /usr/local/lib/python3.10/dist-packages (from matplotlib>=3.1.3->sweetviz) (9.4.0)\n",
      "Requirement already satisfied: pyparsing>=2.3.1 in /usr/local/lib/python3.10/dist-packages (from matplotlib>=3.1.3->sweetviz) (3.1.1)\n",
      "Requirement already satisfied: python-dateutil>=2.7 in /usr/local/lib/python3.10/dist-packages (from matplotlib>=3.1.3->sweetviz) (2.8.2)\n",
      "Requirement already satisfied: pytz>=2020.1 in /usr/local/lib/python3.10/dist-packages (from pandas->shap) (2023.3.post1)\n",
      "Requirement already satisfied: llvmlite<0.40,>=0.39.0dev0 in /usr/local/lib/python3.10/dist-packages (from numba->shap) (0.39.1)\n",
      "Requirement already satisfied: setuptools in /usr/local/lib/python3.10/dist-packages (from numba->shap) (67.7.2)\n",
      "Requirement already satisfied: joblib>=1.1.1 in /usr/local/lib/python3.10/dist-packages (from scikit-learn->shap) (1.3.2)\n",
      "Requirement already satisfied: threadpoolctl>=2.0.0 in /usr/local/lib/python3.10/dist-packages (from scikit-learn->shap) (3.2.0)\n",
      "Requirement already satisfied: six>=1.5 in /usr/local/lib/python3.10/dist-packages (from python-dateutil>=2.7->matplotlib>=3.1.3->sweetviz) (1.16.0)\n",
      "Installing collected packages: slicer, pyflakes, pycodestyle, haversine, sweetviz, shap\n",
      "Successfully installed haversine-2.8.0 pycodestyle-2.11.1 pyflakes-3.1.0 shap-0.43.0 slicer-0.0.7 sweetviz-2.2.1\n"
     ]
    }
   ],
   "source": [
    "#For linting standard and code error check\n",
    "!pip install pycodestyle pyflakes shap sweetviz haversine"
   ]
  },
  {
   "cell_type": "code",
   "execution_count": 83,
   "metadata": {
    "id": "fb29ecbf"
   },
   "outputs": [],
   "source": [
    "#Importing all the python libraries\n",
    "import pandas as pd\n",
    "import seaborn as sns\n",
    "from sklearn import svm\n",
    "from sklearn.linear_model import LogisticRegression\n",
    "from sklearn.ensemble import RandomForestClassifier, AdaBoostClassifier\n",
    "from sklearn.tree import DecisionTreeClassifier\n",
    "from sklearn.neighbors import KNeighborsClassifier\n",
    "from sklearn.ensemble import GradientBoostingClassifier\n",
    "from sklearn.model_selection import train_test_split\n",
    "import matplotlib.pyplot as plt\n",
    "%matplotlib inline\n",
    "import numpy as np\n",
    "from sklearn.svm import SVC\n",
    "from sklearn import preprocessing\n",
    "from sklearn.preprocessing import OneHotEncoder\n",
    "from sklearn.preprocessing import StandardScaler\n",
    "from sklearn.preprocessing import MinMaxScaler\n",
    "from sklearn.preprocessing import LabelEncoder\n",
    "from sklearn.metrics import roc_auc_score\n",
    "from sklearn.metrics import roc_curve\n",
    "from sklearn.metrics import classification_report\n",
    "from sklearn.metrics import confusion_matrix\n",
    "from sklearn.linear_model import LogisticRegression\n",
    "from sklearn.linear_model import SGDClassifier\n",
    "from sklearn.model_selection import KFold\n",
    "from sklearn.model_selection import train_test_split\n",
    "from sklearn.model_selection import ShuffleSplit\n",
    "from sklearn.model_selection import StratifiedKFold\n",
    "from sklearn.model_selection import GridSearchCV\n",
    "from sklearn import metrics as mt\n",
    "from sklearn.ensemble import RandomForestClassifier\n",
    "from sklearn.model_selection import RandomizedSearchCV\n",
    "import statsmodels.api as sm\n",
    "from imblearn.over_sampling import SMOTE\n",
    "from sklearn.feature_selection import RFE\n",
    "from sklearn.model_selection import cross_val_score\n",
    "from sklearn.ensemble import VotingClassifier\n",
    "from imblearn.under_sampling import RandomUnderSampler\n",
    "from imblearn.over_sampling import RandomOverSampler\n",
    "from sklearn.linear_model import Lasso, LassoCV\n",
    "from sklearn.linear_model import Ridge, RidgeCV,RidgeClassifier\n",
    "from sklearn.linear_model import ElasticNet, ElasticNetCV\n",
    "import seaborn as sns\n",
    "import warnings\n",
    "warnings.filterwarnings('ignore')\n",
    "from datetime import datetime\n",
    "from geopy.distance import geodesic\n",
    "from geopy.geocoders import Nominatim\n",
    "from geopy import distance\n",
    "import xgboost as xgb\n",
    "from xgboost import XGBClassifier\n",
    "from sklearn.feature_selection import chi2\n",
    "#Shap Import\n",
    "import shap\n",
    "\n"
   ]
  },
  {
   "cell_type": "code",
   "execution_count": 3,
   "metadata": {
    "colab": {
     "base_uri": "https://localhost:8080/"
    },
    "id": "e1a62fac",
    "outputId": "0cdbc27e-6ef9-449b-a915-e51c5cff1829"
   },
   "outputs": [
    {
     "name": "stdout",
     "output_type": "stream",
     "text": [
      "Mounted at /content/gdrive\n"
     ]
    }
   ],
   "source": [
    "from google.colab import drive\n",
    "drive.mount('/content/gdrive')"
   ]
  },
  {
   "cell_type": "code",
   "execution_count": 5,
   "metadata": {
    "colab": {
     "base_uri": "https://localhost:8080/",
     "height": 194
    },
    "id": "fb5e3847",
    "outputId": "1708b9a1-8559-449e-d217-eb960f9887e4"
   },
   "outputs": [
    {
     "name": "stdout",
     "output_type": "stream",
     "text": [
      "(1852394, 22)\n"
     ]
    },
    {
     "data": {
      "text/html": [
       "\n",
       "  <div id=\"df-cdc5034a-d52f-441e-83ce-511f0d11628a\" class=\"colab-df-container\">\n",
       "    <div>\n",
       "<style scoped>\n",
       "    .dataframe tbody tr th:only-of-type {\n",
       "        vertical-align: middle;\n",
       "    }\n",
       "\n",
       "    .dataframe tbody tr th {\n",
       "        vertical-align: top;\n",
       "    }\n",
       "\n",
       "    .dataframe thead th {\n",
       "        text-align: right;\n",
       "    }\n",
       "</style>\n",
       "<table border=\"1\" class=\"dataframe\">\n",
       "  <thead>\n",
       "    <tr style=\"text-align: right;\">\n",
       "      <th></th>\n",
       "      <th>trans_date_trans_time</th>\n",
       "      <th>cc_num</th>\n",
       "      <th>merchant</th>\n",
       "      <th>category</th>\n",
       "      <th>amt</th>\n",
       "      <th>first</th>\n",
       "      <th>last</th>\n",
       "      <th>gender</th>\n",
       "      <th>street</th>\n",
       "      <th>city</th>\n",
       "      <th>...</th>\n",
       "      <th>lat</th>\n",
       "      <th>long</th>\n",
       "      <th>city_pop</th>\n",
       "      <th>job</th>\n",
       "      <th>dob</th>\n",
       "      <th>trans_num</th>\n",
       "      <th>unix_time</th>\n",
       "      <th>merch_lat</th>\n",
       "      <th>merch_long</th>\n",
       "      <th>is_fraud</th>\n",
       "    </tr>\n",
       "  </thead>\n",
       "  <tbody>\n",
       "    <tr>\n",
       "      <th>0</th>\n",
       "      <td>2019-01-01 00:00:18</td>\n",
       "      <td>2703186189652095</td>\n",
       "      <td>fraud_Rippin, Kub and Mann</td>\n",
       "      <td>misc_net</td>\n",
       "      <td>4.97</td>\n",
       "      <td>Jennifer</td>\n",
       "      <td>Banks</td>\n",
       "      <td>F</td>\n",
       "      <td>561 Perry Cove</td>\n",
       "      <td>Moravian Falls</td>\n",
       "      <td>...</td>\n",
       "      <td>36.0788</td>\n",
       "      <td>-81.1781</td>\n",
       "      <td>3495</td>\n",
       "      <td>Psychologist, counselling</td>\n",
       "      <td>1988-03-09</td>\n",
       "      <td>0b242abb623afc578575680df30655b9</td>\n",
       "      <td>1325376018</td>\n",
       "      <td>36.011293</td>\n",
       "      <td>-82.048315</td>\n",
       "      <td>0</td>\n",
       "    </tr>\n",
       "    <tr>\n",
       "      <th>1</th>\n",
       "      <td>2019-01-01 00:00:44</td>\n",
       "      <td>630423337322</td>\n",
       "      <td>fraud_Heller, Gutmann and Zieme</td>\n",
       "      <td>grocery_pos</td>\n",
       "      <td>107.23</td>\n",
       "      <td>Stephanie</td>\n",
       "      <td>Gill</td>\n",
       "      <td>F</td>\n",
       "      <td>43039 Riley Greens Suite 393</td>\n",
       "      <td>Orient</td>\n",
       "      <td>...</td>\n",
       "      <td>48.8878</td>\n",
       "      <td>-118.2105</td>\n",
       "      <td>149</td>\n",
       "      <td>Special educational needs teacher</td>\n",
       "      <td>1978-06-21</td>\n",
       "      <td>1f76529f8574734946361c461b024d99</td>\n",
       "      <td>1325376044</td>\n",
       "      <td>49.159047</td>\n",
       "      <td>-118.186462</td>\n",
       "      <td>0</td>\n",
       "    </tr>\n",
       "  </tbody>\n",
       "</table>\n",
       "<p>2 rows × 22 columns</p>\n",
       "</div>\n",
       "    <div class=\"colab-df-buttons\">\n",
       "\n",
       "  <div class=\"colab-df-container\">\n",
       "    <button class=\"colab-df-convert\" onclick=\"convertToInteractive('df-cdc5034a-d52f-441e-83ce-511f0d11628a')\"\n",
       "            title=\"Convert this dataframe to an interactive table.\"\n",
       "            style=\"display:none;\">\n",
       "\n",
       "  <svg xmlns=\"http://www.w3.org/2000/svg\" height=\"24px\" viewBox=\"0 -960 960 960\">\n",
       "    <path d=\"M120-120v-720h720v720H120Zm60-500h600v-160H180v160Zm220 220h160v-160H400v160Zm0 220h160v-160H400v160ZM180-400h160v-160H180v160Zm440 0h160v-160H620v160ZM180-180h160v-160H180v160Zm440 0h160v-160H620v160Z\"/>\n",
       "  </svg>\n",
       "    </button>\n",
       "\n",
       "  <style>\n",
       "    .colab-df-container {\n",
       "      display:flex;\n",
       "      gap: 12px;\n",
       "    }\n",
       "\n",
       "    .colab-df-convert {\n",
       "      background-color: #E8F0FE;\n",
       "      border: none;\n",
       "      border-radius: 50%;\n",
       "      cursor: pointer;\n",
       "      display: none;\n",
       "      fill: #1967D2;\n",
       "      height: 32px;\n",
       "      padding: 0 0 0 0;\n",
       "      width: 32px;\n",
       "    }\n",
       "\n",
       "    .colab-df-convert:hover {\n",
       "      background-color: #E2EBFA;\n",
       "      box-shadow: 0px 1px 2px rgba(60, 64, 67, 0.3), 0px 1px 3px 1px rgba(60, 64, 67, 0.15);\n",
       "      fill: #174EA6;\n",
       "    }\n",
       "\n",
       "    .colab-df-buttons div {\n",
       "      margin-bottom: 4px;\n",
       "    }\n",
       "\n",
       "    [theme=dark] .colab-df-convert {\n",
       "      background-color: #3B4455;\n",
       "      fill: #D2E3FC;\n",
       "    }\n",
       "\n",
       "    [theme=dark] .colab-df-convert:hover {\n",
       "      background-color: #434B5C;\n",
       "      box-shadow: 0px 1px 3px 1px rgba(0, 0, 0, 0.15);\n",
       "      filter: drop-shadow(0px 1px 2px rgba(0, 0, 0, 0.3));\n",
       "      fill: #FFFFFF;\n",
       "    }\n",
       "  </style>\n",
       "\n",
       "    <script>\n",
       "      const buttonEl =\n",
       "        document.querySelector('#df-cdc5034a-d52f-441e-83ce-511f0d11628a button.colab-df-convert');\n",
       "      buttonEl.style.display =\n",
       "        google.colab.kernel.accessAllowed ? 'block' : 'none';\n",
       "\n",
       "      async function convertToInteractive(key) {\n",
       "        const element = document.querySelector('#df-cdc5034a-d52f-441e-83ce-511f0d11628a');\n",
       "        const dataTable =\n",
       "          await google.colab.kernel.invokeFunction('convertToInteractive',\n",
       "                                                    [key], {});\n",
       "        if (!dataTable) return;\n",
       "\n",
       "        const docLinkHtml = 'Like what you see? Visit the ' +\n",
       "          '<a target=\"_blank\" href=https://colab.research.google.com/notebooks/data_table.ipynb>data table notebook</a>'\n",
       "          + ' to learn more about interactive tables.';\n",
       "        element.innerHTML = '';\n",
       "        dataTable['output_type'] = 'display_data';\n",
       "        await google.colab.output.renderOutput(dataTable, element);\n",
       "        const docLink = document.createElement('div');\n",
       "        docLink.innerHTML = docLinkHtml;\n",
       "        element.appendChild(docLink);\n",
       "      }\n",
       "    </script>\n",
       "  </div>\n",
       "\n",
       "\n",
       "<div id=\"df-9f6735c0-d9d6-485e-a195-8ebee0d2e9ae\">\n",
       "  <button class=\"colab-df-quickchart\" onclick=\"quickchart('df-9f6735c0-d9d6-485e-a195-8ebee0d2e9ae')\"\n",
       "            title=\"Suggest charts.\"\n",
       "            style=\"display:none;\">\n",
       "\n",
       "<svg xmlns=\"http://www.w3.org/2000/svg\" height=\"24px\"viewBox=\"0 0 24 24\"\n",
       "     width=\"24px\">\n",
       "    <g>\n",
       "        <path d=\"M19 3H5c-1.1 0-2 .9-2 2v14c0 1.1.9 2 2 2h14c1.1 0 2-.9 2-2V5c0-1.1-.9-2-2-2zM9 17H7v-7h2v7zm4 0h-2V7h2v10zm4 0h-2v-4h2v4z\"/>\n",
       "    </g>\n",
       "</svg>\n",
       "  </button>\n",
       "\n",
       "<style>\n",
       "  .colab-df-quickchart {\n",
       "      --bg-color: #E8F0FE;\n",
       "      --fill-color: #1967D2;\n",
       "      --hover-bg-color: #E2EBFA;\n",
       "      --hover-fill-color: #174EA6;\n",
       "      --disabled-fill-color: #AAA;\n",
       "      --disabled-bg-color: #DDD;\n",
       "  }\n",
       "\n",
       "  [theme=dark] .colab-df-quickchart {\n",
       "      --bg-color: #3B4455;\n",
       "      --fill-color: #D2E3FC;\n",
       "      --hover-bg-color: #434B5C;\n",
       "      --hover-fill-color: #FFFFFF;\n",
       "      --disabled-bg-color: #3B4455;\n",
       "      --disabled-fill-color: #666;\n",
       "  }\n",
       "\n",
       "  .colab-df-quickchart {\n",
       "    background-color: var(--bg-color);\n",
       "    border: none;\n",
       "    border-radius: 50%;\n",
       "    cursor: pointer;\n",
       "    display: none;\n",
       "    fill: var(--fill-color);\n",
       "    height: 32px;\n",
       "    padding: 0;\n",
       "    width: 32px;\n",
       "  }\n",
       "\n",
       "  .colab-df-quickchart:hover {\n",
       "    background-color: var(--hover-bg-color);\n",
       "    box-shadow: 0 1px 2px rgba(60, 64, 67, 0.3), 0 1px 3px 1px rgba(60, 64, 67, 0.15);\n",
       "    fill: var(--button-hover-fill-color);\n",
       "  }\n",
       "\n",
       "  .colab-df-quickchart-complete:disabled,\n",
       "  .colab-df-quickchart-complete:disabled:hover {\n",
       "    background-color: var(--disabled-bg-color);\n",
       "    fill: var(--disabled-fill-color);\n",
       "    box-shadow: none;\n",
       "  }\n",
       "\n",
       "  .colab-df-spinner {\n",
       "    border: 2px solid var(--fill-color);\n",
       "    border-color: transparent;\n",
       "    border-bottom-color: var(--fill-color);\n",
       "    animation:\n",
       "      spin 1s steps(1) infinite;\n",
       "  }\n",
       "\n",
       "  @keyframes spin {\n",
       "    0% {\n",
       "      border-color: transparent;\n",
       "      border-bottom-color: var(--fill-color);\n",
       "      border-left-color: var(--fill-color);\n",
       "    }\n",
       "    20% {\n",
       "      border-color: transparent;\n",
       "      border-left-color: var(--fill-color);\n",
       "      border-top-color: var(--fill-color);\n",
       "    }\n",
       "    30% {\n",
       "      border-color: transparent;\n",
       "      border-left-color: var(--fill-color);\n",
       "      border-top-color: var(--fill-color);\n",
       "      border-right-color: var(--fill-color);\n",
       "    }\n",
       "    40% {\n",
       "      border-color: transparent;\n",
       "      border-right-color: var(--fill-color);\n",
       "      border-top-color: var(--fill-color);\n",
       "    }\n",
       "    60% {\n",
       "      border-color: transparent;\n",
       "      border-right-color: var(--fill-color);\n",
       "    }\n",
       "    80% {\n",
       "      border-color: transparent;\n",
       "      border-right-color: var(--fill-color);\n",
       "      border-bottom-color: var(--fill-color);\n",
       "    }\n",
       "    90% {\n",
       "      border-color: transparent;\n",
       "      border-bottom-color: var(--fill-color);\n",
       "    }\n",
       "  }\n",
       "</style>\n",
       "\n",
       "  <script>\n",
       "    async function quickchart(key) {\n",
       "      const quickchartButtonEl =\n",
       "        document.querySelector('#' + key + ' button');\n",
       "      quickchartButtonEl.disabled = true;  // To prevent multiple clicks.\n",
       "      quickchartButtonEl.classList.add('colab-df-spinner');\n",
       "      try {\n",
       "        const charts = await google.colab.kernel.invokeFunction(\n",
       "            'suggestCharts', [key], {});\n",
       "      } catch (error) {\n",
       "        console.error('Error during call to suggestCharts:', error);\n",
       "      }\n",
       "      quickchartButtonEl.classList.remove('colab-df-spinner');\n",
       "      quickchartButtonEl.classList.add('colab-df-quickchart-complete');\n",
       "    }\n",
       "    (() => {\n",
       "      let quickchartButtonEl =\n",
       "        document.querySelector('#df-9f6735c0-d9d6-485e-a195-8ebee0d2e9ae button');\n",
       "      quickchartButtonEl.style.display =\n",
       "        google.colab.kernel.accessAllowed ? 'block' : 'none';\n",
       "    })();\n",
       "  </script>\n",
       "</div>\n",
       "\n",
       "    </div>\n",
       "  </div>\n"
      ],
      "text/plain": [
       "  trans_date_trans_time            cc_num                         merchant  \\\n",
       "0   2019-01-01 00:00:18  2703186189652095       fraud_Rippin, Kub and Mann   \n",
       "1   2019-01-01 00:00:44      630423337322  fraud_Heller, Gutmann and Zieme   \n",
       "\n",
       "      category     amt      first   last gender                        street  \\\n",
       "0     misc_net    4.97   Jennifer  Banks      F                561 Perry Cove   \n",
       "1  grocery_pos  107.23  Stephanie   Gill      F  43039 Riley Greens Suite 393   \n",
       "\n",
       "             city  ...      lat      long  city_pop  \\\n",
       "0  Moravian Falls  ...  36.0788  -81.1781      3495   \n",
       "1          Orient  ...  48.8878 -118.2105       149   \n",
       "\n",
       "                                 job         dob  \\\n",
       "0          Psychologist, counselling  1988-03-09   \n",
       "1  Special educational needs teacher  1978-06-21   \n",
       "\n",
       "                          trans_num   unix_time  merch_lat  merch_long  \\\n",
       "0  0b242abb623afc578575680df30655b9  1325376018  36.011293  -82.048315   \n",
       "1  1f76529f8574734946361c461b024d99  1325376044  49.159047 -118.186462   \n",
       "\n",
       "   is_fraud  \n",
       "0         0  \n",
       "1         0  \n",
       "\n",
       "[2 rows x 22 columns]"
      ]
     },
     "execution_count": 5,
     "metadata": {},
     "output_type": "execute_result"
    }
   ],
   "source": [
    "df = pd.read_parquet('gdrive/My Drive/data.parquet')\n",
    "print(df.shape)\n",
    "df.head(2)"
   ]
  },
  {
   "cell_type": "code",
   "execution_count": 6,
   "metadata": {
    "colab": {
     "base_uri": "https://localhost:8080/"
    },
    "id": "Fuv6CvmaANPm",
    "outputId": "d98a7885-4199-4537-8261-4c063fccc6e4"
   },
   "outputs": [
    {
     "data": {
      "text/plain": [
       "(9651, 22)"
      ]
     },
     "execution_count": 6,
     "metadata": {},
     "output_type": "execute_result"
    }
   ],
   "source": [
    "##Found only Fraud Transactions\n",
    "dfFraud=df.loc[(df['is_fraud'] == 1)]\n",
    "dfFraud.shape"
   ]
  },
  {
   "cell_type": "code",
   "execution_count": 7,
   "metadata": {
    "colab": {
     "base_uri": "https://localhost:8080/"
    },
    "id": "dKXbF2MUAOk0",
    "outputId": "05d18dd9-9800-4a09-d8b5-b5e6992161bf"
   },
   "outputs": [
    {
     "data": {
      "text/plain": [
       "(1842743, 22)"
      ]
     },
     "execution_count": 7,
     "metadata": {},
     "output_type": "execute_result"
    }
   ],
   "source": [
    "##Found only Non-Fraud Transactions\n",
    "dfNonFraud=df.loc[(df['is_fraud'] == 0)]\n",
    "dfNonFraud.shape\n"
   ]
  },
  {
   "cell_type": "code",
   "execution_count": null,
   "metadata": {
    "colab": {
     "base_uri": "https://localhost:8080/",
     "height": 406
    },
    "id": "vo0q-XCvIbVR",
    "outputId": "f47af678-f9de-41c7-ff4a-e38cfda86736"
   },
   "outputs": [
    {
     "data": {
      "image/png": "[encoded data removed]",
      "text/plain": [
       "<Figure size 640x480 with 1 Axes>"
      ]
     },
     "metadata": {},
     "output_type": "display_data"
    }
   ],
   "source": [
    "# declaring data\n",
    "data = [len(dfFraud),len(df)]\n",
    "keys = ['FraudTransactionCount', 'TotalTransactions']\n",
    "\n",
    "# define Seaborn color palette to use\n",
    "palette_color = sns.color_palette('bright')\n",
    "\n",
    "# plotting data on chart\n",
    "plt.pie(data, labels=keys, colors=palette_color, autopct='%.0f%%')\n",
    "\n",
    "# displaying chart\n",
    "plt.show()"
   ]
  },
  {
   "cell_type": "markdown",
   "metadata": {
    "id": "cba5ccbf"
   },
   "source": [
    "### Functions"
   ]
  },
  {
   "cell_type": "code",
   "execution_count": 8,
   "metadata": {
    "id": "-3Ca9dgP_K-d"
   },
   "outputs": [],
   "source": [
    "def haversine_distance(lat1:float, lon1:float, lat2:float, lon2:float)->float:\n",
    "    \"\"\"[Uses the haversine formula to calculate the distance between\n",
    "    two points on a sphere]\n",
    "\n",
    "    Args:\n",
    "        lat1 (float): [latitude of first point]\n",
    "        lon1 (float): [longitude of first point]\n",
    "        lat2 (float): [latitude of second point]\n",
    "        lon2 (float): [latitue of second point]\n",
    "\n",
    "    Returns:\n",
    "        dist (float): [Distance between two GPS points in miles]\n",
    "\n",
    "    \"\"\"\n",
    "    from math import radians, cos, sin, asin, sqrt\n",
    "    # convert decimal degrees to radians\n",
    "    lon1, lat1, lon2, lat2 = map(radians, [lon1, lat1, lon2, lat2])\n",
    "\n",
    "    # haversine formula\n",
    "    dlon = lon2 - lon1\n",
    "    dlat = lat2 - lat1\n",
    "    a = sin(dlat/2)**2 + cos(lat1) * cos(lat2) * sin(dlon/2)**2\n",
    "    c = 2 * asin(sqrt(a))\n",
    "    r = 3956 # Radius of earth in miles. Use 6371 for kilometers\n",
    "    return c * r"
   ]
  },
  {
   "cell_type": "code",
   "execution_count": 9,
   "metadata": {
    "id": "c57b4f34"
   },
   "outputs": [],
   "source": [
    "def transform_data(data, cols_leave):\n",
    "    data = data.astype({i:'category' for i in cols_leave})\n",
    "    data[cols_leave] = data[cols_leave].apply(lambda x:x.cat.codes)\n",
    "    data = data.astype({i:'int' for i in cols_leave})\n",
    "    return data\n",
    "\n",
    "def feature_importance_plot(model, max_features,height= 0.8):\n",
    "    fig,ax=plt.subplots(figsize=(10,10))\n",
    "    xgb.plot_importance(model,max_num_features=max_features, height=height,ax=ax)\n",
    "    return plt.show()\n",
    "\n",
    "def feature_gain_plot(model, max_features=20):\n",
    "    imp_type ='gain'\n",
    "    fig, ax = plt.subplots(1,1,figsize=(10,10))\n",
    "    xgb.plot_importance(model, ax=ax, importance_type=imp_type, max_num_features=max_features)\n",
    "    plt.title('Feature importance - ' + imp_type, fontsize=18, weight='bold')\n",
    "    plt.ylabel('Features', fontsize=16, weight='bold')\n",
    "    plt.xlabel('F Score', fontsize=16, weight='bold')\n",
    "    plt.yticks(fontsize=14, weight='bold')\n",
    "    return plt.show()\n",
    "\n",
    "def roc_plot(fpr,tpr,roc_auc):\n",
    "    plt.figure(figsize=(10,10))\n",
    "    plt.plot(fpr, tpr, color='darkorange',\n",
    "            label='ROC curve (area = {:0.4f})'.format(roc_auc))\n",
    "    plt.plot([0, 1], [0, 1], color='navy', linestyle='--')\n",
    "    # plt.scatter(medium['fpr'], medium['tpr'], marker='o', color='black', label='mid_thres = %.4f'%(medium['threshold']))\n",
    "    # plt.scatter(high['fpr'], high['tpr'], marker='o', color='red', label='high_thres = %.4f'%(high['threshold']))\n",
    "    # plt.scatter(low['fpr']/100, low['tpr']/100, marker='o', color='green', label='low_thres = %.4f'%(low['threshold']))\n",
    "    plt.grid()\n",
    "    plt.xlim([0.0, 1.0])\n",
    "    plt.ylim([0.0, 1.05])\n",
    "    plt.xlabel('False Positive Rate')\n",
    "    plt.ylabel('True Positive Rate')\n",
    "    plt.title('Receiver operating characteristic')\n",
    "    plt.legend(loc=\"lower right\")\n",
    "    return plt.show()\n",
    "\n",
    "def plot_confusion_matrix(cm,\n",
    "                          target_names,\n",
    "                          title='Confusion matrix',\n",
    "                          cmap=None,\n",
    "                          normalize=True):\n",
    "    import matplotlib.pyplot as plt\n",
    "    import numpy as np\n",
    "    import itertools\n",
    "\n",
    "    accuracy = np.trace(cm) / float(np.sum(cm))\n",
    "    misclass = 1 - accuracy\n",
    "\n",
    "    if cmap is None:\n",
    "        cmap = plt.get_cmap('Blues')\n",
    "\n",
    "    plt.figure(figsize=(8, 6))\n",
    "    plt.imshow(cm, interpolation='nearest', cmap=cmap)\n",
    "    plt.title(title)\n",
    "    plt.colorbar()\n",
    "\n",
    "    if target_names is not None:\n",
    "        tick_marks = np.arange(len(target_names))\n",
    "        plt.xticks(tick_marks, target_names, rotation=45)\n",
    "        plt.yticks(tick_marks, target_names)\n",
    "\n",
    "    if normalize:\n",
    "        cm = cm.astype('float') / cm.sum(axis=1)[:, np.newaxis]\n",
    "\n",
    "\n",
    "    thresh = cm.max() / 1.5 if normalize else cm.max() / 2\n",
    "    for i, j in itertools.product(range(cm.shape[0]), range(cm.shape[1])):\n",
    "        if normalize:\n",
    "            plt.text(j, i, \"{:0.4f}\".format(cm[i, j]),\n",
    "                     horizontalalignment=\"center\",\n",
    "                     color=\"red\" if cm[i, j] > thresh else \"black\")\n",
    "        else:\n",
    "            plt.text(j, i, \"{:,}\".format(cm[i, j]),\n",
    "                     horizontalalignment=\"center\",\n",
    "                     color=\"red\" if cm[i, j] > thresh else \"black\")\n",
    "\n",
    "\n",
    "    plt.tight_layout()\n",
    "    plt.ylabel('True label')\n",
    "    plt.xlabel('Predicted label\\naccuracy={:0.4f}; misclass={:0.4f}'.format(accuracy, misclass))\n",
    "    plt.show()\n",
    "\n",
    "def precision_recall_plot(y_test, y_prob, y_hat):\n",
    "    precision, recall, threshodls = precision_recall_curve(y_test,y_prob)\n",
    "    lr_f1, lr_auc = f1_score(y_test, y_hat), auc(recall, precision)\n",
    "    plt.xticks(np.arange(0, 1.1, 0.1))\n",
    "    plt.yticks(np.arange(0, 1.1, 0.1))\n",
    "    plt.xticks(rotation=40)\n",
    "    plt.yticks(rotation=40)\n",
    "    ikchosp = len(y_test[y_test==1]) / len(y_test)\n",
    "    plt.plot([0,1], [ikchosp,ikchosp], linestyle='--', color = 'lightgrey')\n",
    "    plt.plot([1,0], [0,1], linestyle='--')\n",
    "    # pyplot.scatter(medium['recall']/100, medium['precision']/100, marker='o', color='black', label='mid_thres = %.4f'%(medium['threshold']))\n",
    "    # pyplot.scatter(high['recall']/100, high['precision']/100, marker='o', color='red', label='high_thres = %.4f'%(high['threshold']))\n",
    "    # pyplot.scatter(low['recall']/100, low['precision']/100, marker='o', color='green', label='low_thres = %.4f'%(low['threshold']))\n",
    "    plt.plot(recall,\n",
    "             precision,\n",
    "             marker=',',\n",
    "             label='f1=%.3f\\nauc=%.3f'%(lr_f1,lr_auc),\n",
    "             color='blue')\n",
    "    # axis labels\n",
    "    plt.grid()\n",
    "    # pyplot.xlabel('Recall \\n\\n Optimal Precision = %.3f\\nOptimal Recall = %.3f'%(medium['recall'],medium['precision']))\n",
    "    plt.ylabel('Precision')\n",
    "    plt.legend()\n",
    "    # show the plot\n",
    "    plt.show()\n",
    "\n",
    "def select_cols_type(dataset, dtype):\n",
    "    masks=(dataset.dtypes==dtype)\n",
    "    return dataset.columns[masks].tolist()\n",
    "\n",
    "def chi2_test_df(data, cat_columns):\n",
    "    chi2_results = []\n",
    "    df = data.copy(deep=True)\n",
    "    df.dropna(inplace = True)\n",
    "    for i in cat_columns:\n",
    "        obs = pd.crosstab(index = df[i], columns = df['termflag'])\n",
    "        chi2_results.append([i, chi2_contingency(obs)[0].round(2), chi2_contingency(obs)[1].round(4), chi2_contingency(obs)[2]])\n",
    "    chi2_results_df = pd.DataFrame(chi2_results, columns=['Feature_name','chi-square-value','p-value','degrees of freedom'])\n",
    "    return chi2_results_df\n",
    "\n",
    "def ttest_df(data, cont_columns):\n",
    "    ttest_results=[]\n",
    "    df = data.copy(deep=True)\n",
    "    df.dropna(inplace=True)\n",
    "    for i in cont_columns:\n",
    "        stat, p = ttest_ind(df[i][df.termflag==0], df[i][df.termflag==1])\n",
    "        ttest_results_df = pd.DataFrame(ttest_results, columns = str('features,t-stats,p-value').split(','))\n",
    "        return ttest_results_df\n",
    "def f_score(df,label):\n",
    "    chi_values=chi2(df,label)\n",
    "    score = list(chi_values[0])\n",
    "    feat = df.columns.tolist()\n",
    "    fscore_df = pd.DataFrame({\"Feature\":feat, \"Score\":score})\n",
    "    fscore_df.sort_values(by=\"Score\", ascending=False,inplace = True)\n",
    "    fscore_df.reset_index(drop=True, inplace=True)\n",
    "    return fscore_df\n"
   ]
  },
  {
   "cell_type": "code",
   "execution_count": 10,
   "metadata": {
    "id": "50e2b971"
   },
   "outputs": [],
   "source": [
    "def f_score(df,label):\n",
    "    chi_values=chi2(df,label)\n",
    "    score = list(chi_values[0])\n",
    "    feat = df.columns.tolist()\n",
    "    fscore_df = pd.DataFrame({\"Feature\":feat, \"Score\":score})\n",
    "    fscore_df.sort_values(by=\"Score\", ascending=False,inplace = True)\n",
    "    fscore_df.reset_index(drop=True, inplace=True)\n",
    "    return fscore_df\n",
    "\n",
    "\n",
    "def acc_score(df,label):\n",
    "    Score = pd.DataFrame({\"Classifier\":classifiers})\n",
    "    j = 0\n",
    "    acc = []\n",
    "    X_train,X_test,Y_train,Y_test = split(df,label)\n",
    "    for i in models:\n",
    "        model = i\n",
    "        model.fit(X_train,Y_train)\n",
    "        predictions = model.predict(X_test)\n",
    "        acc.append(accuracy_score(Y_test,predictions))\n",
    "        j = j+1\n",
    "    Score[\"Accuracy\"] = acc\n",
    "    Score.sort_values(by=\"Accuracy\", ascending=False,inplace = True)\n",
    "    Score.reset_index(drop=True, inplace=True)\n",
    "    return Score\n",
    "\n",
    "\n",
    "def acc_score_num(df,label,f_score_val,feat_list):\n",
    "    Score = pd.DataFrame({\"Classifier\":classifiers})\n",
    "    df2 = None\n",
    "    for k in range(len(feat_list)):\n",
    "        df2 = feat_select(df,f_score_val,feat_list[k])\n",
    "        X_train,X_test,Y_train,Y_test = split(df2,label)\n",
    "        j = 0\n",
    "        acc = []\n",
    "        for i in models:\n",
    "            model = i\n",
    "            model.fit(X_train,Y_train)\n",
    "            predictions = model.predict(X_test)\n",
    "            acc_val = accuracy_score(Y_test,predictions)\n",
    "            acc.append(acc_val)\n",
    "            j = j+1\n",
    "        feat = str(feat_list[k])\n",
    "        Score[feat] = acc\n",
    "    return Score\n",
    "def plot2(df,l1,l2,p1,p2,c = \"b\"):\n",
    "    feat = []\n",
    "    feat = df.columns.tolist()\n",
    "    feat = feat[1:]\n",
    "    plt.figure(figsize = (16, 18))\n",
    "    for j in range(0,df.shape[0]):\n",
    "        value = []\n",
    "        k = 0\n",
    "        for i in range(1,len(df.columns.tolist())):\n",
    "            value.append(df.iloc[j][i])\n",
    "        plt.subplot(4, 4,j+1)\n",
    "        ax = sns.pointplot(x=feat, y=value,color = c ,markers=[\".\"])\n",
    "        plt.text(p1,p2,df.iloc[j][0])\n",
    "        plt.xticks(rotation=90)\n",
    "        ax.set(ylim=(l1,l2))\n",
    "        k = k+1\n",
    "def split(df,label):\n",
    "    X_tr, X_te, Y_tr, Y_te = train_test_split(df, label, test_size=0.25, random_state=42)\n",
    "    return X_tr, X_te, Y_tr, Y_te\n",
    "\n",
    "def feat_select(df,f_score_val,num):\n",
    "    feat_list = list(f_score_val[\"Feature\"][:num])\n",
    "    return df[feat_list]\n"
   ]
  },
  {
   "cell_type": "markdown",
   "metadata": {
    "id": "2ghFDiQRmos2"
   },
   "source": [
    "### Missing Value Check Functions"
   ]
  },
  {
   "cell_type": "code",
   "execution_count": 11,
   "metadata": {
    "id": "wSV7YHB7mos3"
   },
   "outputs": [],
   "source": [
    "# Null and NaN value check\n",
    "\n",
    "def check_NA(data):\n",
    "\n",
    "    #Check NA values and % of Na values in each column\n",
    "\n",
    "    #null value sum\n",
    "    null_sum = data.isna().sum()\n",
    "    total = null_sum.sort_values(ascending=False)\n",
    "    percent = ((null_sum/len(data.index))*100).round(2).sort_values(ascending=False)\n",
    "    df_NA =  pd.concat([total, percent],axis=1, keys=['Number of NA','Percent NA'])\n",
    "    #drop rows with no missing vals\n",
    "    df_NA = df_NA[(df_NA.T !=0).any()]\n",
    "    return df_NA\n",
    "\n",
    "def select_cols_type(dataset, dtype):\n",
    "    mks=(dataset.dtypes==dtype)\n",
    "    return dataset.columns[mks].tolist()\n"
   ]
  },
  {
   "cell_type": "code",
   "execution_count": 12,
   "metadata": {
    "id": "Ex8uVYyrmos3"
   },
   "outputs": [],
   "source": [
    "#Encoding Character Variables\n",
    "def CharEncoder(data):\n",
    "    label=LabelEncoder()\n",
    "    for c in  data.columns:\n",
    "        if(data[c].dtype=='object'):\n",
    "            data[c]=label.fit_transform(data[c])\n",
    "    else:\n",
    "        data[c]=data[c]\n",
    "\n",
    "    return data"
   ]
  },
  {
   "cell_type": "code",
   "execution_count": 13,
   "metadata": {
    "id": "ZnVYUlPamos3"
   },
   "outputs": [],
   "source": [
    "# Separating Dataframe into X,Y\n",
    "def prep_data(df: pd.DataFrame) -> (np.ndarray, np.ndarray):\n",
    "    \"\"\"\n",
    "    Convert the DataFrame into two variable\n",
    "    X: data columns (Excluding transdatetime,is_fraud including all others)\n",
    "    y: lable column\n",
    "    \"\"\"\n",
    "    X = df.iloc[:, 1:21].values\n",
    "    y = df.is_fraud.values\n",
    "    return X, y"
   ]
  },
  {
   "cell_type": "markdown",
   "metadata": {
    "id": "689734d3"
   },
   "source": [
    "### Ensemble Model Functions"
   ]
  },
  {
   "cell_type": "code",
   "execution_count": 14,
   "metadata": {
    "id": "f0803f98"
   },
   "outputs": [],
   "source": [
    "def get_model_results(X_train: np.ndarray, y_train: np.ndarray,\n",
    "                      X_test: np.ndarray, y_test: np.ndarray, model):\n",
    "    \"\"\"\n",
    "    model: sklearn model (e.g. RandomForestClassifier)\n",
    "    \"\"\"\n",
    "    # Fit your training model to your training set\n",
    "    model.fit(X_train, y_train)\n",
    "\n",
    "    # Obtain the predicted values and probabilities from the model\n",
    "    predicted = model.predict(X_test)\n",
    "\n",
    "    try:\n",
    "        probs = model.predict_proba(X_test)\n",
    "        print('ROC Score:')\n",
    "        print(roc_auc_score(y_test, probs[:,1]))\n",
    "    except AttributeError:\n",
    "        pass\n",
    "\n",
    "    # Print the ROC curve, classification report and confusion matrix\n",
    "    print('\\nClassification Report:')\n",
    "    print(classification_report(y_test, predicted))\n",
    "    print('\\nConfusion Matrix:')\n",
    "    print(confusion_matrix(y_test, predicted)\n",
    "\n"
   ]
  },
  {
   "cell_type": "code",
   "execution_count": 55,
   "metadata": {
    "id": "57578378"
   },
   "outputs": [],
   "source": [
    "def adj_r2(X, y, model):\n",
    "    r2 = model.score(X, y)\n",
    "    n = X.shape[0]\n",
    "    p = X.shape[1]\n",
    "    adjusted_r2 = 1 - (1 - r2) * (n - 1) / (n - p - 1)\n",
    "\n",
    "    return adjusted_r2"
   ]
  },
  {
   "cell_type": "markdown",
   "metadata": {
    "id": "a8da8834"
   },
   "source": [
    "### EDA-Exploratory Data Analysis"
   ]
  },
  {
   "cell_type": "code",
   "execution_count": null,
   "metadata": {
    "id": "1330f20e",
    "outputId": "9aab5210-b255-4e1b-bca1-6a5344b9a2a8"
   },
   "outputs": [
    {
     "name": "stdout",
     "output_type": "stream",
     "text": [
      "<class 'pandas.core.frame.DataFrame'>\n",
      "RangeIndex: 1852394 entries, 0 to 1852393\n",
      "Data columns (total 26 columns):\n",
      " #   Column                 Dtype         \n",
      "---  ------                 -----         \n",
      " 0   trans_date_trans_time  object        \n",
      " 1   cc_num                 int64         \n",
      " 2   merchant               object        \n",
      " 3   category               object        \n",
      " 4   amt                    float64       \n",
      " 5   first                  object        \n",
      " 6   last                   object        \n",
      " 7   gender                 object        \n",
      " 8   street                 object        \n",
      " 9   city                   object        \n",
      " 10  state                  object        \n",
      " 11  zip                    int64         \n",
      " 12  lat                    float64       \n",
      " 13  long                   float64       \n",
      " 14  city_pop               int64         \n",
      " 15  job                    object        \n",
      " 16  dob                    object        \n",
      " 17  trans_num              object        \n",
      " 18  unix_time              int64         \n",
      " 19  merch_lat              float64       \n",
      " 20  merch_long             float64       \n",
      " 21  is_fraud               int64         \n",
      " 22  dateofbirth            datetime64[ns]\n",
      " 23  birthyear              int64         \n",
      " 24  birthmonth             int64         \n",
      " 25  ageinyear              int64         \n",
      "dtypes: datetime64[ns](1), float64(5), int64(8), object(12)\n",
      "memory usage: 367.4+ MB\n"
     ]
    }
   ],
   "source": [
    "df.info()"
   ]
  },
  {
   "cell_type": "code",
   "execution_count": null,
   "metadata": {
    "id": "8b1a4f1a",
    "outputId": "f3b9a213-702c-4828-9d1f-0d06c93a51d8"
   },
   "outputs": [
    {
     "data": {
      "text/html": [
       "<div>\n",
       "<style scoped>\n",
       "    .dataframe tbody tr th:only-of-type {\n",
       "        vertical-align: middle;\n",
       "    }\n",
       "\n",
       "    .dataframe tbody tr th {\n",
       "        vertical-align: top;\n",
       "    }\n",
       "\n",
       "    .dataframe thead th {\n",
       "        text-align: right;\n",
       "    }\n",
       "</style>\n",
       "<table border=\"1\" class=\"dataframe\">\n",
       "  <thead>\n",
       "    <tr style=\"text-align: right;\">\n",
       "      <th></th>\n",
       "      <th>count</th>\n",
       "      <th>mean</th>\n",
       "      <th>std</th>\n",
       "      <th>min</th>\n",
       "      <th>25%</th>\n",
       "      <th>50%</th>\n",
       "      <th>75%</th>\n",
       "      <th>max</th>\n",
       "    </tr>\n",
       "  </thead>\n",
       "  <tbody>\n",
       "    <tr>\n",
       "      <th>cc_num</th>\n",
       "      <td>1852394.0</td>\n",
       "      <td>4.173860e+17</td>\n",
       "      <td>1.309115e+18</td>\n",
       "      <td>6.041621e+10</td>\n",
       "      <td>1.800429e+14</td>\n",
       "      <td>3.521417e+15</td>\n",
       "      <td>4.642255e+15</td>\n",
       "      <td>4.992346e+18</td>\n",
       "    </tr>\n",
       "    <tr>\n",
       "      <th>amt</th>\n",
       "      <td>1852394.0</td>\n",
       "      <td>7.006357e+01</td>\n",
       "      <td>1.592540e+02</td>\n",
       "      <td>1.000000e+00</td>\n",
       "      <td>9.640000e+00</td>\n",
       "      <td>4.745000e+01</td>\n",
       "      <td>8.310000e+01</td>\n",
       "      <td>2.894890e+04</td>\n",
       "    </tr>\n",
       "    <tr>\n",
       "      <th>zip</th>\n",
       "      <td>1852394.0</td>\n",
       "      <td>4.881326e+04</td>\n",
       "      <td>2.688185e+04</td>\n",
       "      <td>1.257000e+03</td>\n",
       "      <td>2.623700e+04</td>\n",
       "      <td>4.817400e+04</td>\n",
       "      <td>7.204200e+04</td>\n",
       "      <td>9.992100e+04</td>\n",
       "    </tr>\n",
       "    <tr>\n",
       "      <th>lat</th>\n",
       "      <td>1852394.0</td>\n",
       "      <td>3.853931e+01</td>\n",
       "      <td>5.071470e+00</td>\n",
       "      <td>2.002710e+01</td>\n",
       "      <td>3.466890e+01</td>\n",
       "      <td>3.935430e+01</td>\n",
       "      <td>4.194040e+01</td>\n",
       "      <td>6.669330e+01</td>\n",
       "    </tr>\n",
       "    <tr>\n",
       "      <th>long</th>\n",
       "      <td>1852394.0</td>\n",
       "      <td>-9.022783e+01</td>\n",
       "      <td>1.374789e+01</td>\n",
       "      <td>-1.656723e+02</td>\n",
       "      <td>-9.679800e+01</td>\n",
       "      <td>-8.747690e+01</td>\n",
       "      <td>-8.015800e+01</td>\n",
       "      <td>-6.795030e+01</td>\n",
       "    </tr>\n",
       "    <tr>\n",
       "      <th>city_pop</th>\n",
       "      <td>1852394.0</td>\n",
       "      <td>8.864367e+04</td>\n",
       "      <td>3.014876e+05</td>\n",
       "      <td>2.300000e+01</td>\n",
       "      <td>7.410000e+02</td>\n",
       "      <td>2.443000e+03</td>\n",
       "      <td>2.032800e+04</td>\n",
       "      <td>2.906700e+06</td>\n",
       "    </tr>\n",
       "    <tr>\n",
       "      <th>unix_time</th>\n",
       "      <td>1852394.0</td>\n",
       "      <td>1.358674e+09</td>\n",
       "      <td>1.819508e+07</td>\n",
       "      <td>1.325376e+09</td>\n",
       "      <td>1.343017e+09</td>\n",
       "      <td>1.357089e+09</td>\n",
       "      <td>1.374581e+09</td>\n",
       "      <td>1.388534e+09</td>\n",
       "    </tr>\n",
       "    <tr>\n",
       "      <th>merch_lat</th>\n",
       "      <td>1852394.0</td>\n",
       "      <td>3.853898e+01</td>\n",
       "      <td>5.105604e+00</td>\n",
       "      <td>1.902742e+01</td>\n",
       "      <td>3.474012e+01</td>\n",
       "      <td>3.936890e+01</td>\n",
       "      <td>4.195626e+01</td>\n",
       "      <td>6.751027e+01</td>\n",
       "    </tr>\n",
       "    <tr>\n",
       "      <th>merch_long</th>\n",
       "      <td>1852394.0</td>\n",
       "      <td>-9.022794e+01</td>\n",
       "      <td>1.375969e+01</td>\n",
       "      <td>-1.666716e+02</td>\n",
       "      <td>-9.689944e+01</td>\n",
       "      <td>-8.744069e+01</td>\n",
       "      <td>-8.024511e+01</td>\n",
       "      <td>-6.695090e+01</td>\n",
       "    </tr>\n",
       "    <tr>\n",
       "      <th>is_fraud</th>\n",
       "      <td>1852394.0</td>\n",
       "      <td>5.210015e-03</td>\n",
       "      <td>7.199217e-02</td>\n",
       "      <td>0.000000e+00</td>\n",
       "      <td>0.000000e+00</td>\n",
       "      <td>0.000000e+00</td>\n",
       "      <td>0.000000e+00</td>\n",
       "      <td>1.000000e+00</td>\n",
       "    </tr>\n",
       "  </tbody>\n",
       "</table>\n",
       "</div>"
      ],
      "text/plain": [
       "                count          mean           std           min           25%  \\\n",
       "cc_num      1852394.0  4.173860e+17  1.309115e+18  6.041621e+10  1.800429e+14   \n",
       "amt         1852394.0  7.006357e+01  1.592540e+02  1.000000e+00  9.640000e+00   \n",
       "zip         1852394.0  4.881326e+04  2.688185e+04  1.257000e+03  2.623700e+04   \n",
       "lat         1852394.0  3.853931e+01  5.071470e+00  2.002710e+01  3.466890e+01   \n",
       "long        1852394.0 -9.022783e+01  1.374789e+01 -1.656723e+02 -9.679800e+01   \n",
       "city_pop    1852394.0  8.864367e+04  3.014876e+05  2.300000e+01  7.410000e+02   \n",
       "unix_time   1852394.0  1.358674e+09  1.819508e+07  1.325376e+09  1.343017e+09   \n",
       "merch_lat   1852394.0  3.853898e+01  5.105604e+00  1.902742e+01  3.474012e+01   \n",
       "merch_long  1852394.0 -9.022794e+01  1.375969e+01 -1.666716e+02 -9.689944e+01   \n",
       "is_fraud    1852394.0  5.210015e-03  7.199217e-02  0.000000e+00  0.000000e+00   \n",
       "\n",
       "                     50%           75%           max  \n",
       "cc_num      3.521417e+15  4.642255e+15  4.992346e+18  \n",
       "amt         4.745000e+01  8.310000e+01  2.894890e+04  \n",
       "zip         4.817400e+04  7.204200e+04  9.992100e+04  \n",
       "lat         3.935430e+01  4.194040e+01  6.669330e+01  \n",
       "long       -8.747690e+01 -8.015800e+01 -6.795030e+01  \n",
       "city_pop    2.443000e+03  2.032800e+04  2.906700e+06  \n",
       "unix_time   1.357089e+09  1.374581e+09  1.388534e+09  \n",
       "merch_lat   3.936890e+01  4.195626e+01  6.751027e+01  \n",
       "merch_long -8.744069e+01 -8.024511e+01 -6.695090e+01  \n",
       "is_fraud    0.000000e+00  0.000000e+00  1.000000e+00  "
      ]
     },
     "execution_count": 137,
     "metadata": {},
     "output_type": "execute_result"
    }
   ],
   "source": [
    "# Display general statistic\n",
    "df.describe().T"
   ]
  },
  {
   "cell_type": "code",
   "execution_count": null,
   "metadata": {
    "id": "2a56695a",
    "outputId": "5335d052-bb04-4100-d54b-3d050dd76319"
   },
   "outputs": [
    {
     "data": {
      "text/plain": [
       "trans_date_trans_time     object\n",
       "cc_num                     int64\n",
       "merchant                  object\n",
       "category                  object\n",
       "amt                      float64\n",
       "first                     object\n",
       "last                      object\n",
       "gender                    object\n",
       "street                    object\n",
       "city                      object\n",
       "state                     object\n",
       "zip                        int64\n",
       "lat                      float64\n",
       "long                     float64\n",
       "city_pop                   int64\n",
       "job                       object\n",
       "dob                       object\n",
       "trans_num                 object\n",
       "unix_time                  int64\n",
       "merch_lat                float64\n",
       "merch_long               float64\n",
       "is_fraud                   int64\n",
       "dtype: object"
      ]
     },
     "execution_count": 9,
     "metadata": {},
     "output_type": "execute_result"
    }
   ],
   "source": [
    "# Display datatype\n",
    "df.dtypes"
   ]
  },
  {
   "cell_type": "code",
   "execution_count": null,
   "metadata": {
    "id": "Xo6wiJPzmotE",
    "outputId": "bddb3763-d30e-45d6-9964-d87083b0035f"
   },
   "outputs": [
    {
     "data": {
      "text/plain": [
       "trans_date_trans_time    1819551\n",
       "cc_num                       999\n",
       "merchant                     693\n",
       "category                      14\n",
       "amt                        60616\n",
       "first                        355\n",
       "last                         486\n",
       "gender                         2\n",
       "street                       999\n",
       "city                         906\n",
       "state                         51\n",
       "zip                          985\n",
       "lat                          983\n",
       "long                         983\n",
       "city_pop                     891\n",
       "job                          497\n",
       "dob                          984\n",
       "trans_num                1852394\n",
       "unix_time                1819583\n",
       "merch_lat                1754157\n",
       "merch_long               1809753\n",
       "is_fraud                       2\n",
       "dtype: int64"
      ]
     },
     "execution_count": 12,
     "metadata": {},
     "output_type": "execute_result"
    }
   ],
   "source": [
    "df.nunique()"
   ]
  },
  {
   "cell_type": "code",
   "execution_count": null,
   "metadata": {
    "id": "STgqxXvfmotF",
    "outputId": "2e0a3e81-1b71-4152-a8fa-566ad4e06b68"
   },
   "outputs": [
    {
     "name": "stdout",
     "output_type": "stream",
     "text": [
      "Rows     :  1852394\n",
      "Columns  :  22\n",
      "\n",
      "Features : \n",
      " ['trans_date_trans_time', 'cc_num', 'merchant', 'category', 'amt', 'first', 'last', 'gender', 'street', 'city', 'state', 'zip', 'lat', 'long', 'city_pop', 'job', 'dob', 'trans_num', 'unix_time', 'merch_lat', 'merch_long', 'is_fraud']\n",
      "\n",
      "Missing values :   0\n",
      "\n",
      "Unique values :  \n",
      " trans_date_trans_time    1819551\n",
      "cc_num                       999\n",
      "merchant                     693\n",
      "category                      14\n",
      "amt                        60616\n",
      "first                        355\n",
      "last                         486\n",
      "gender                         2\n",
      "street                       999\n",
      "city                         906\n",
      "state                         51\n",
      "zip                          985\n",
      "lat                          983\n",
      "long                         983\n",
      "city_pop                     891\n",
      "job                          497\n",
      "dob                          984\n",
      "trans_num                1852394\n",
      "unix_time                1819583\n",
      "merch_lat                1754157\n",
      "merch_long               1809753\n",
      "is_fraud                       2\n",
      "dtype: int64\n"
     ]
    }
   ],
   "source": [
    "float_cols= select_cols_type(df, 'float')\n",
    "int_cols= select_cols_type(df,'int')\n",
    "object_cols= select_cols_type(df,'object')\n",
    "na_values_int = check_NA(df[int_cols])\n",
    "na_values_float = check_NA(df[float_cols])\n",
    "na_values_obj = check_NA(df[object_cols])\n",
    "#########################\n",
    "numeric_cols=[key for key in dict(df.dtypes) if dict(df.dtypes)[key] in ['float64', 'int64']]\n",
    "object_cols =[key for key in dict(df.dtypes) if dict(df.dtypes)[key] in ['object']]\n",
    "#########################\n",
    "\n",
    "print (\"Rows     : \" ,df.shape[0])\n",
    "print (\"Columns  : \" ,df.shape[1])\n",
    "print (\"\\nFeatures : \\n\" ,df.columns.tolist())\n",
    "print (\"\\nMissing values :  \", df.isnull().sum().values.sum())\n",
    "print (\"\\nUnique values :  \\n\",df.nunique())\n"
   ]
  },
  {
   "cell_type": "markdown",
   "metadata": {
    "id": "DdDOTzx-motF"
   },
   "source": [
    "### Above Missing Value Analysis Found No Missing Values Found In the Parquet Data"
   ]
  },
  {
   "cell_type": "markdown",
   "metadata": {
    "id": "U4NkOGMAmotG"
   },
   "source": [
    "### Missing Values/NULL/NaN Check"
   ]
  },
  {
   "cell_type": "code",
   "execution_count": null,
   "metadata": {
    "id": "3f808ac4",
    "outputId": "d62d3315-818b-4776-b676-ec884f554ac0"
   },
   "outputs": [
    {
     "data": {
      "text/plain": [
       "trans_date_trans_time    0\n",
       "cc_num                   0\n",
       "merchant                 0\n",
       "category                 0\n",
       "amt                      0\n",
       "first                    0\n",
       "last                     0\n",
       "gender                   0\n",
       "street                   0\n",
       "city                     0\n",
       "state                    0\n",
       "zip                      0\n",
       "lat                      0\n",
       "long                     0\n",
       "city_pop                 0\n",
       "job                      0\n",
       "dob                      0\n",
       "trans_num                0\n",
       "unix_time                0\n",
       "merch_lat                0\n",
       "merch_long               0\n",
       "is_fraud                 0\n",
       "dtype: int64"
      ]
     },
     "execution_count": 9,
     "metadata": {},
     "output_type": "execute_result"
    }
   ],
   "source": [
    "# Check missing values of all rows\n",
    "df.isnull().sum()"
   ]
  },
  {
   "cell_type": "markdown",
   "metadata": {
    "id": "393843f7"
   },
   "source": [
    "### No Null Values Found"
   ]
  },
  {
   "cell_type": "code",
   "execution_count": null,
   "metadata": {
    "id": "Si-vPb_SmotG"
   },
   "outputs": [],
   "source": [
    "miss_val=df.isna().sum()/len(df)*100"
   ]
  },
  {
   "cell_type": "code",
   "execution_count": null,
   "metadata": {
    "id": "kDjuN84VmotH",
    "outputId": "edb43eab-6f11-423c-e6b0-08dca58761c9"
   },
   "outputs": [
    {
     "name": "stdout",
     "output_type": "stream",
     "text": [
      "trans_date_trans_time    0.0\n",
      "cc_num                   0.0\n",
      "merchant                 0.0\n",
      "category                 0.0\n",
      "amt                      0.0\n",
      "first                    0.0\n",
      "last                     0.0\n",
      "gender                   0.0\n",
      "street                   0.0\n",
      "city                     0.0\n",
      "state                    0.0\n",
      "zip                      0.0\n",
      "lat                      0.0\n",
      "long                     0.0\n",
      "city_pop                 0.0\n",
      "job                      0.0\n",
      "dob                      0.0\n",
      "trans_num                0.0\n",
      "unix_time                0.0\n",
      "merch_lat                0.0\n",
      "merch_long               0.0\n",
      "is_fraud                 0.0\n",
      "dtype: float64\n"
     ]
    }
   ],
   "source": [
    "print(miss_val)"
   ]
  },
  {
   "cell_type": "markdown",
   "metadata": {
    "id": "Dv3rVVU4motI"
   },
   "source": [
    "### No Nan Values Found"
   ]
  },
  {
   "cell_type": "code",
   "execution_count": null,
   "metadata": {
    "id": "DemyOIt3motI"
   },
   "outputs": [],
   "source": []
  },
  {
   "cell_type": "code",
   "execution_count": null,
   "metadata": {
    "id": "519cc3bb"
   },
   "outputs": [],
   "source": [
    "# Create two dataframes with fraud and non-fraud data\n",
    "df_fraud = df[df.is_fraud == 1]\n",
    "df_non_fraud =df[df.is_fraud == 0]"
   ]
  },
  {
   "cell_type": "code",
   "execution_count": null,
   "metadata": {
    "id": "52e6011c",
    "outputId": "bb712b75-5d33-4261-acb3-108c73072a64"
   },
   "outputs": [
    {
     "data": {
      "image/png": "[encoded data removed]",
      "text/plain": [
       "<Figure size 432x288 with 1 Axes>"
      ]
     },
     "metadata": {
      "needs_background": "light"
     },
     "output_type": "display_data"
    }
   ],
   "source": [
    "# Plot histograms of the amounts in fraud and non-fraud data\n",
    "plt.hist(df_fraud.amt, alpha=0.5, label='fraud')\n",
    "plt.hist(df_non_fraud.amt, alpha=0.5, label='nonfraud')\n",
    "plt.xlabel('amount')\n",
    "plt.legend()\n",
    "plt.show()"
   ]
  },
  {
   "cell_type": "code",
   "execution_count": null,
   "metadata": {
    "id": "216f74bd",
    "outputId": "44523d01-5890-4e24-de6c-d6cbce5ebcc3"
   },
   "outputs": [
    {
     "data": {
      "image/png": "[encoded data removed]",
      "text/plain": [
       "<Figure size 432x288 with 1 Axes>"
      ]
     },
     "metadata": {
      "needs_background": "light"
     },
     "output_type": "display_data"
    }
   ],
   "source": [
    "# Plot histograms of the amounts in Fraud\n",
    "plt.hist(df_fraud.amt, alpha=0.3, label='Fraud')\n",
    "plt.xlabel('amount')\n",
    "plt.legend()\n",
    "plt.show()"
   ]
  },
  {
   "cell_type": "code",
   "execution_count": null,
   "metadata": {
    "id": "17c46089",
    "outputId": "d1a1104d-8be1-45ee-bde2-6da4ca02302e"
   },
   "outputs": [
    {
     "data": {
      "image/png": "[encoded data removed]",
      "text/plain": [
       "<Figure size 432x288 with 1 Axes>"
      ]
     },
     "metadata": {
      "needs_background": "light"
     },
     "output_type": "display_data"
    }
   ],
   "source": [
    "# Plot histograms of the amounts in Non-Fraud\n",
    "plt.hist(df_non_fraud.amt, alpha=0.3, label='Non-Fraud')\n",
    "plt.xlabel('amount')\n",
    "plt.legend()\n",
    "plt.show()"
   ]
  },
  {
   "cell_type": "markdown",
   "metadata": {
    "id": "9a2d0999"
   },
   "source": [
    "### Correlation Analysis/ Feature Importance"
   ]
  },
  {
   "cell_type": "code",
   "execution_count": null,
   "metadata": {
    "id": "8e17515f"
   },
   "outputs": [],
   "source": [
    "df2 = df"
   ]
  },
  {
   "cell_type": "code",
   "execution_count": null,
   "metadata": {
    "id": "93503ba3"
   },
   "outputs": [],
   "source": [
    "Num_var=df2.loc[:,df.dtypes!=np.object]"
   ]
  },
  {
   "cell_type": "code",
   "execution_count": null,
   "metadata": {
    "id": "00f97bed",
    "outputId": "cc6f9a36-88f4-40e2-bade-4406c6e07c48"
   },
   "outputs": [
    {
     "data": {
      "text/html": [
       "<div>\n",
       "<style scoped>\n",
       "    .dataframe tbody tr th:only-of-type {\n",
       "        vertical-align: middle;\n",
       "    }\n",
       "\n",
       "    .dataframe tbody tr th {\n",
       "        vertical-align: top;\n",
       "    }\n",
       "\n",
       "    .dataframe thead th {\n",
       "        text-align: right;\n",
       "    }\n",
       "</style>\n",
       "<table border=\"1\" class=\"dataframe\">\n",
       "  <thead>\n",
       "    <tr style=\"text-align: right;\">\n",
       "      <th></th>\n",
       "      <th>trans_date_trans_time</th>\n",
       "      <th>cc_num</th>\n",
       "      <th>amt</th>\n",
       "      <th>zip</th>\n",
       "      <th>lat</th>\n",
       "      <th>long</th>\n",
       "      <th>city_pop</th>\n",
       "      <th>unix_time</th>\n",
       "      <th>merch_lat</th>\n",
       "      <th>merch_long</th>\n",
       "      <th>is_fraud</th>\n",
       "    </tr>\n",
       "  </thead>\n",
       "  <tbody>\n",
       "    <tr>\n",
       "      <th>0</th>\n",
       "      <td>2019-01-01 00:00:18</td>\n",
       "      <td>2703186189652095</td>\n",
       "      <td>4.97</td>\n",
       "      <td>28654</td>\n",
       "      <td>36.0788</td>\n",
       "      <td>-81.1781</td>\n",
       "      <td>3495</td>\n",
       "      <td>1325376018</td>\n",
       "      <td>36.011293</td>\n",
       "      <td>-82.048315</td>\n",
       "      <td>0</td>\n",
       "    </tr>\n",
       "    <tr>\n",
       "      <th>1</th>\n",
       "      <td>2019-01-01 00:00:44</td>\n",
       "      <td>630423337322</td>\n",
       "      <td>107.23</td>\n",
       "      <td>99160</td>\n",
       "      <td>48.8878</td>\n",
       "      <td>-118.2105</td>\n",
       "      <td>149</td>\n",
       "      <td>1325376044</td>\n",
       "      <td>49.159047</td>\n",
       "      <td>-118.186462</td>\n",
       "      <td>0</td>\n",
       "    </tr>\n",
       "  </tbody>\n",
       "</table>\n",
       "</div>"
      ],
      "text/plain": [
       "  trans_date_trans_time            cc_num     amt    zip      lat      long  \\\n",
       "0   2019-01-01 00:00:18  2703186189652095    4.97  28654  36.0788  -81.1781   \n",
       "1   2019-01-01 00:00:44      630423337322  107.23  99160  48.8878 -118.2105   \n",
       "\n",
       "   city_pop   unix_time  merch_lat  merch_long  is_fraud  \n",
       "0      3495  1325376018  36.011293  -82.048315         0  \n",
       "1       149  1325376044  49.159047 -118.186462         0  "
      ]
     },
     "execution_count": 119,
     "metadata": {},
     "output_type": "execute_result"
    }
   ],
   "source": [
    "Num_var.head(2)"
   ]
  },
  {
   "cell_type": "code",
   "execution_count": null,
   "metadata": {
    "id": "eb5cdd6a"
   },
   "outputs": [],
   "source": [
    "Num_var_one = Num_var.iloc[:,0:9]"
   ]
  },
  {
   "cell_type": "code",
   "execution_count": null,
   "metadata": {
    "id": "42d0bac0",
    "outputId": "547d99e7-3c72-4caf-de59-ff648d906694"
   },
   "outputs": [
    {
     "data": {
      "image/png": "[encoded data removed]",
      "text/plain": [
       "<Figure size 1152x576 with 2 Axes>"
      ]
     },
     "metadata": {},
     "output_type": "display_data"
    }
   ],
   "source": [
    "plt.figure(figsize=(16,8))\n",
    "sns.heatmap(Num_var_one.corr(),annot=True,cmap='coolwarm')\n",
    "plt.title('Correlation Between Variables')\n",
    "plt.show()"
   ]
  },
  {
   "cell_type": "markdown",
   "metadata": {
    "id": "b871e2ce"
   },
   "source": [
    "### Seeing Lat Positive Correlations and Long Negative Correlations"
   ]
  },
  {
   "cell_type": "code",
   "execution_count": null,
   "metadata": {
    "id": "b19a87ce"
   },
   "outputs": [],
   "source": [
    "corr_attributes= df2[['cc_num','amt','zip','is_fraud']]"
   ]
  },
  {
   "cell_type": "code",
   "execution_count": null,
   "metadata": {
    "id": "3383aea9",
    "outputId": "9016f114-1efa-4b9c-8023-b99b1373a857"
   },
   "outputs": [
    {
     "data": {
      "text/plain": [
       "<seaborn.axisgrid.PairGrid at 0x21b396c5040>"
      ]
     },
     "execution_count": 123,
     "metadata": {},
     "output_type": "execute_result"
    },
    {
     "data": {
      "image/png": "[encoded data removed]",
      "text/plain": [
       "<Figure size 483.425x432 with 12 Axes>"
      ]
     },
     "metadata": {},
     "output_type": "display_data"
    }
   ],
   "source": [
    "cmap = sns.diverging_palette(220, 10, as_cmap=True) # one of the many color mappings\n",
    "sns.pairplot(corr_attributes, hue='is_fraud', height=2)"
   ]
  },
  {
   "cell_type": "markdown",
   "metadata": {
    "id": "4dkwsMsZmotT"
   },
   "source": [
    "### Based on Correlation Plot and Association /ConFounding Variable after eliminated below dataframe selected"
   ]
  },
  {
   "cell_type": "code",
   "execution_count": null,
   "metadata": {
    "id": "fUsmKHVLmotU",
    "outputId": "b44fe661-d8fd-4f96-9cb7-c90c63c8372e"
   },
   "outputs": [
    {
     "data": {
      "text/plain": [
       "trans_date_trans_time    datetime64[ns]\n",
       "cc_num                            int64\n",
       "merchant                         object\n",
       "category                         object\n",
       "amt                             float64\n",
       "first                            object\n",
       "last                             object\n",
       "gender                           object\n",
       "street                           object\n",
       "city                             object\n",
       "state                            object\n",
       "zip                               int64\n",
       "lat                             float64\n",
       "long                            float64\n",
       "city_pop                          int64\n",
       "job                              object\n",
       "dob                              object\n",
       "trans_num                        object\n",
       "unix_time                         int64\n",
       "merch_lat                       float64\n",
       "merch_long                      float64\n",
       "is_fraud                          int64\n",
       "dtype: object"
      ]
     },
     "execution_count": 69,
     "metadata": {},
     "output_type": "execute_result"
    }
   ],
   "source": [
    "df2.dtypes"
   ]
  },
  {
   "cell_type": "code",
   "execution_count": null,
   "metadata": {
    "id": "9nQth3Bgyz0c"
   },
   "outputs": [],
   "source": [
    "X_sample=df[['cc_num','amt','zip','lat','long','city_pop','unix_time','merch_lat','merch_long','is_fraud','gender','category']]"
   ]
  },
  {
   "cell_type": "code",
   "execution_count": null,
   "metadata": {
    "id": "kuvUfnXOmotV"
   },
   "outputs": [],
   "source": [
    "Char_var= df2[['merchant','category','first','last','gender','street','city','state','job','dob','trans_num','amt']]"
   ]
  },
  {
   "cell_type": "markdown",
   "metadata": {
    "id": "QTCGmELamotV"
   },
   "source": [
    "### Basic Dataset Train/Test/\n",
    "### Features Selection and Analysis"
   ]
  },
  {
   "cell_type": "code",
   "execution_count": 15,
   "metadata": {
    "id": "B-BR3rfImotW"
   },
   "outputs": [],
   "source": [
    "df['trans_date_trans_time'] = pd.to_datetime(df['trans_date_trans_time'])"
   ]
  },
  {
   "cell_type": "code",
   "execution_count": 16,
   "metadata": {
    "colab": {
     "base_uri": "https://localhost:8080/"
    },
    "id": "Ul4XFkzXmotW",
    "outputId": "a9cfed61-e0a2-4380-87c0-6588411173dd"
   },
   "outputs": [
    {
     "name": "stdout",
     "output_type": "stream",
     "text": [
      "Shape of Dataset = (1296675, 22) (555719, 22)\n",
      "Mean Fraud Rate  = 0.005788651743883394 0.0038598644278853163\n"
     ]
    }
   ],
   "source": [
    "train = df[df['trans_date_trans_time']<=pd.to_datetime('2020-06-21 12:13:37')]\n",
    "test  = df[df['trans_date_trans_time']>=pd.to_datetime('2020-06-21 12:14:25')]\n",
    "\n",
    "print('Shape of Dataset =', train.shape, test.shape)\n",
    "print('Mean Fraud Rate  =', train['is_fraud'].mean(), test['is_fraud'].mean())"
   ]
  },
  {
   "cell_type": "code",
   "execution_count": 29,
   "metadata": {
    "id": "i1zZQZUMmotX"
   },
   "outputs": [],
   "source": [
    "#Filtering Data All Numerical Variables With Gender and Category, Since Other Categorical Variables are toomany Unique Values\n",
    "train_filtered=train[['cc_num','amt','zip','lat','long','city_pop','unix_time','merch_lat','merch_long','is_fraud']]"
   ]
  },
  {
   "cell_type": "code",
   "execution_count": 30,
   "metadata": {
    "colab": {
     "base_uri": "https://localhost:8080/",
     "height": 424
    },
    "id": "z7Uv2Tqkn1Qo",
    "outputId": "9374bb70-c48b-4360-c035-831230a251b7"
   },
   "outputs": [
    {
     "data": {
      "text/html": [
       "\n",
       "  <div id=\"df-f1ea1be2-98e3-42be-ac90-556bf91e63bc\" class=\"colab-df-container\">\n",
       "    <div>\n",
       "<style scoped>\n",
       "    .dataframe tbody tr th:only-of-type {\n",
       "        vertical-align: middle;\n",
       "    }\n",
       "\n",
       "    .dataframe tbody tr th {\n",
       "        vertical-align: top;\n",
       "    }\n",
       "\n",
       "    .dataframe thead th {\n",
       "        text-align: right;\n",
       "    }\n",
       "</style>\n",
       "<table border=\"1\" class=\"dataframe\">\n",
       "  <thead>\n",
       "    <tr style=\"text-align: right;\">\n",
       "      <th></th>\n",
       "      <th>cc_num</th>\n",
       "      <th>amt</th>\n",
       "      <th>zip</th>\n",
       "      <th>lat</th>\n",
       "      <th>long</th>\n",
       "      <th>city_pop</th>\n",
       "      <th>unix_time</th>\n",
       "      <th>merch_lat</th>\n",
       "      <th>merch_long</th>\n",
       "      <th>is_fraud</th>\n",
       "    </tr>\n",
       "  </thead>\n",
       "  <tbody>\n",
       "    <tr>\n",
       "      <th>0</th>\n",
       "      <td>2703186189652095</td>\n",
       "      <td>4.97</td>\n",
       "      <td>28654</td>\n",
       "      <td>36.0788</td>\n",
       "      <td>-81.1781</td>\n",
       "      <td>3495</td>\n",
       "      <td>1325376018</td>\n",
       "      <td>36.011293</td>\n",
       "      <td>-82.048315</td>\n",
       "      <td>0</td>\n",
       "    </tr>\n",
       "    <tr>\n",
       "      <th>1</th>\n",
       "      <td>630423337322</td>\n",
       "      <td>107.23</td>\n",
       "      <td>99160</td>\n",
       "      <td>48.8878</td>\n",
       "      <td>-118.2105</td>\n",
       "      <td>149</td>\n",
       "      <td>1325376044</td>\n",
       "      <td>49.159047</td>\n",
       "      <td>-118.186462</td>\n",
       "      <td>0</td>\n",
       "    </tr>\n",
       "    <tr>\n",
       "      <th>2</th>\n",
       "      <td>38859492057661</td>\n",
       "      <td>220.11</td>\n",
       "      <td>83252</td>\n",
       "      <td>42.1808</td>\n",
       "      <td>-112.2620</td>\n",
       "      <td>4154</td>\n",
       "      <td>1325376051</td>\n",
       "      <td>43.150704</td>\n",
       "      <td>-112.154481</td>\n",
       "      <td>0</td>\n",
       "    </tr>\n",
       "    <tr>\n",
       "      <th>3</th>\n",
       "      <td>3534093764340240</td>\n",
       "      <td>45.00</td>\n",
       "      <td>59632</td>\n",
       "      <td>46.2306</td>\n",
       "      <td>-112.1138</td>\n",
       "      <td>1939</td>\n",
       "      <td>1325376076</td>\n",
       "      <td>47.034331</td>\n",
       "      <td>-112.561071</td>\n",
       "      <td>0</td>\n",
       "    </tr>\n",
       "    <tr>\n",
       "      <th>4</th>\n",
       "      <td>375534208663984</td>\n",
       "      <td>41.96</td>\n",
       "      <td>24433</td>\n",
       "      <td>38.4207</td>\n",
       "      <td>-79.4629</td>\n",
       "      <td>99</td>\n",
       "      <td>1325376186</td>\n",
       "      <td>38.674999</td>\n",
       "      <td>-78.632459</td>\n",
       "      <td>0</td>\n",
       "    </tr>\n",
       "    <tr>\n",
       "      <th>...</th>\n",
       "      <td>...</td>\n",
       "      <td>...</td>\n",
       "      <td>...</td>\n",
       "      <td>...</td>\n",
       "      <td>...</td>\n",
       "      <td>...</td>\n",
       "      <td>...</td>\n",
       "      <td>...</td>\n",
       "      <td>...</td>\n",
       "      <td>...</td>\n",
       "    </tr>\n",
       "    <tr>\n",
       "      <th>1296670</th>\n",
       "      <td>30263540414123</td>\n",
       "      <td>15.56</td>\n",
       "      <td>84735</td>\n",
       "      <td>37.7175</td>\n",
       "      <td>-112.4777</td>\n",
       "      <td>258</td>\n",
       "      <td>1371816728</td>\n",
       "      <td>36.841266</td>\n",
       "      <td>-111.690765</td>\n",
       "      <td>0</td>\n",
       "    </tr>\n",
       "    <tr>\n",
       "      <th>1296671</th>\n",
       "      <td>6011149206456997</td>\n",
       "      <td>51.70</td>\n",
       "      <td>21790</td>\n",
       "      <td>39.2667</td>\n",
       "      <td>-77.5101</td>\n",
       "      <td>100</td>\n",
       "      <td>1371816739</td>\n",
       "      <td>38.906881</td>\n",
       "      <td>-78.246528</td>\n",
       "      <td>0</td>\n",
       "    </tr>\n",
       "    <tr>\n",
       "      <th>1296672</th>\n",
       "      <td>3514865930894695</td>\n",
       "      <td>105.93</td>\n",
       "      <td>88325</td>\n",
       "      <td>32.9396</td>\n",
       "      <td>-105.8189</td>\n",
       "      <td>899</td>\n",
       "      <td>1371816752</td>\n",
       "      <td>33.619513</td>\n",
       "      <td>-105.130529</td>\n",
       "      <td>0</td>\n",
       "    </tr>\n",
       "    <tr>\n",
       "      <th>1296673</th>\n",
       "      <td>2720012583106919</td>\n",
       "      <td>74.90</td>\n",
       "      <td>57756</td>\n",
       "      <td>43.3526</td>\n",
       "      <td>-102.5411</td>\n",
       "      <td>1126</td>\n",
       "      <td>1371816816</td>\n",
       "      <td>42.788940</td>\n",
       "      <td>-103.241160</td>\n",
       "      <td>0</td>\n",
       "    </tr>\n",
       "    <tr>\n",
       "      <th>1296674</th>\n",
       "      <td>4292902571056973207</td>\n",
       "      <td>4.30</td>\n",
       "      <td>59871</td>\n",
       "      <td>45.8433</td>\n",
       "      <td>-113.8748</td>\n",
       "      <td>218</td>\n",
       "      <td>1371816817</td>\n",
       "      <td>46.565983</td>\n",
       "      <td>-114.186110</td>\n",
       "      <td>0</td>\n",
       "    </tr>\n",
       "  </tbody>\n",
       "</table>\n",
       "<p>1296675 rows × 10 columns</p>\n",
       "</div>\n",
       "    <div class=\"colab-df-buttons\">\n",
       "\n",
       "  <div class=\"colab-df-container\">\n",
       "    <button class=\"colab-df-convert\" onclick=\"convertToInteractive('df-f1ea1be2-98e3-42be-ac90-556bf91e63bc')\"\n",
       "            title=\"Convert this dataframe to an interactive table.\"\n",
       "            style=\"display:none;\">\n",
       "\n",
       "  <svg xmlns=\"http://www.w3.org/2000/svg\" height=\"24px\" viewBox=\"0 -960 960 960\">\n",
       "    <path d=\"M120-120v-720h720v720H120Zm60-500h600v-160H180v160Zm220 220h160v-160H400v160Zm0 220h160v-160H400v160ZM180-400h160v-160H180v160Zm440 0h160v-160H620v160ZM180-180h160v-160H180v160Zm440 0h160v-160H620v160Z\"/>\n",
       "  </svg>\n",
       "    </button>\n",
       "\n",
       "  <style>\n",
       "    .colab-df-container {\n",
       "      display:flex;\n",
       "      gap: 12px;\n",
       "    }\n",
       "\n",
       "    .colab-df-convert {\n",
       "      background-color: #E8F0FE;\n",
       "      border: none;\n",
       "      border-radius: 50%;\n",
       "      cursor: pointer;\n",
       "      display: none;\n",
       "      fill: #1967D2;\n",
       "      height: 32px;\n",
       "      padding: 0 0 0 0;\n",
       "      width: 32px;\n",
       "    }\n",
       "\n",
       "    .colab-df-convert:hover {\n",
       "      background-color: #E2EBFA;\n",
       "      box-shadow: 0px 1px 2px rgba(60, 64, 67, 0.3), 0px 1px 3px 1px rgba(60, 64, 67, 0.15);\n",
       "      fill: #174EA6;\n",
       "    }\n",
       "\n",
       "    .colab-df-buttons div {\n",
       "      margin-bottom: 4px;\n",
       "    }\n",
       "\n",
       "    [theme=dark] .colab-df-convert {\n",
       "      background-color: #3B4455;\n",
       "      fill: #D2E3FC;\n",
       "    }\n",
       "\n",
       "    [theme=dark] .colab-df-convert:hover {\n",
       "      background-color: #434B5C;\n",
       "      box-shadow: 0px 1px 3px 1px rgba(0, 0, 0, 0.15);\n",
       "      filter: drop-shadow(0px 1px 2px rgba(0, 0, 0, 0.3));\n",
       "      fill: #FFFFFF;\n",
       "    }\n",
       "  </style>\n",
       "\n",
       "    <script>\n",
       "      const buttonEl =\n",
       "        document.querySelector('#df-f1ea1be2-98e3-42be-ac90-556bf91e63bc button.colab-df-convert');\n",
       "      buttonEl.style.display =\n",
       "        google.colab.kernel.accessAllowed ? 'block' : 'none';\n",
       "\n",
       "      async function convertToInteractive(key) {\n",
       "        const element = document.querySelector('#df-f1ea1be2-98e3-42be-ac90-556bf91e63bc');\n",
       "        const dataTable =\n",
       "          await google.colab.kernel.invokeFunction('convertToInteractive',\n",
       "                                                    [key], {});\n",
       "        if (!dataTable) return;\n",
       "\n",
       "        const docLinkHtml = 'Like what you see? Visit the ' +\n",
       "          '<a target=\"_blank\" href=https://colab.research.google.com/notebooks/data_table.ipynb>data table notebook</a>'\n",
       "          + ' to learn more about interactive tables.';\n",
       "        element.innerHTML = '';\n",
       "        dataTable['output_type'] = 'display_data';\n",
       "        await google.colab.output.renderOutput(dataTable, element);\n",
       "        const docLink = document.createElement('div');\n",
       "        docLink.innerHTML = docLinkHtml;\n",
       "        element.appendChild(docLink);\n",
       "      }\n",
       "    </script>\n",
       "  </div>\n",
       "\n",
       "\n",
       "<div id=\"df-4b4762ce-732d-4e47-91f0-36ad7c7801fa\">\n",
       "  <button class=\"colab-df-quickchart\" onclick=\"quickchart('df-4b4762ce-732d-4e47-91f0-36ad7c7801fa')\"\n",
       "            title=\"Suggest charts.\"\n",
       "            style=\"display:none;\">\n",
       "\n",
       "<svg xmlns=\"http://www.w3.org/2000/svg\" height=\"24px\"viewBox=\"0 0 24 24\"\n",
       "     width=\"24px\">\n",
       "    <g>\n",
       "        <path d=\"M19 3H5c-1.1 0-2 .9-2 2v14c0 1.1.9 2 2 2h14c1.1 0 2-.9 2-2V5c0-1.1-.9-2-2-2zM9 17H7v-7h2v7zm4 0h-2V7h2v10zm4 0h-2v-4h2v4z\"/>\n",
       "    </g>\n",
       "</svg>\n",
       "  </button>\n",
       "\n",
       "<style>\n",
       "  .colab-df-quickchart {\n",
       "      --bg-color: #E8F0FE;\n",
       "      --fill-color: #1967D2;\n",
       "      --hover-bg-color: #E2EBFA;\n",
       "      --hover-fill-color: #174EA6;\n",
       "      --disabled-fill-color: #AAA;\n",
       "      --disabled-bg-color: #DDD;\n",
       "  }\n",
       "\n",
       "  [theme=dark] .colab-df-quickchart {\n",
       "      --bg-color: #3B4455;\n",
       "      --fill-color: #D2E3FC;\n",
       "      --hover-bg-color: #434B5C;\n",
       "      --hover-fill-color: #FFFFFF;\n",
       "      --disabled-bg-color: #3B4455;\n",
       "      --disabled-fill-color: #666;\n",
       "  }\n",
       "\n",
       "  .colab-df-quickchart {\n",
       "    background-color: var(--bg-color);\n",
       "    border: none;\n",
       "    border-radius: 50%;\n",
       "    cursor: pointer;\n",
       "    display: none;\n",
       "    fill: var(--fill-color);\n",
       "    height: 32px;\n",
       "    padding: 0;\n",
       "    width: 32px;\n",
       "  }\n",
       "\n",
       "  .colab-df-quickchart:hover {\n",
       "    background-color: var(--hover-bg-color);\n",
       "    box-shadow: 0 1px 2px rgba(60, 64, 67, 0.3), 0 1px 3px 1px rgba(60, 64, 67, 0.15);\n",
       "    fill: var(--button-hover-fill-color);\n",
       "  }\n",
       "\n",
       "  .colab-df-quickchart-complete:disabled,\n",
       "  .colab-df-quickchart-complete:disabled:hover {\n",
       "    background-color: var(--disabled-bg-color);\n",
       "    fill: var(--disabled-fill-color);\n",
       "    box-shadow: none;\n",
       "  }\n",
       "\n",
       "  .colab-df-spinner {\n",
       "    border: 2px solid var(--fill-color);\n",
       "    border-color: transparent;\n",
       "    border-bottom-color: var(--fill-color);\n",
       "    animation:\n",
       "      spin 1s steps(1) infinite;\n",
       "  }\n",
       "\n",
       "  @keyframes spin {\n",
       "    0% {\n",
       "      border-color: transparent;\n",
       "      border-bottom-color: var(--fill-color);\n",
       "      border-left-color: var(--fill-color);\n",
       "    }\n",
       "    20% {\n",
       "      border-color: transparent;\n",
       "      border-left-color: var(--fill-color);\n",
       "      border-top-color: var(--fill-color);\n",
       "    }\n",
       "    30% {\n",
       "      border-color: transparent;\n",
       "      border-left-color: var(--fill-color);\n",
       "      border-top-color: var(--fill-color);\n",
       "      border-right-color: var(--fill-color);\n",
       "    }\n",
       "    40% {\n",
       "      border-color: transparent;\n",
       "      border-right-color: var(--fill-color);\n",
       "      border-top-color: var(--fill-color);\n",
       "    }\n",
       "    60% {\n",
       "      border-color: transparent;\n",
       "      border-right-color: var(--fill-color);\n",
       "    }\n",
       "    80% {\n",
       "      border-color: transparent;\n",
       "      border-right-color: var(--fill-color);\n",
       "      border-bottom-color: var(--fill-color);\n",
       "    }\n",
       "    90% {\n",
       "      border-color: transparent;\n",
       "      border-bottom-color: var(--fill-color);\n",
       "    }\n",
       "  }\n",
       "</style>\n",
       "\n",
       "  <script>\n",
       "    async function quickchart(key) {\n",
       "      const quickchartButtonEl =\n",
       "        document.querySelector('#' + key + ' button');\n",
       "      quickchartButtonEl.disabled = true;  // To prevent multiple clicks.\n",
       "      quickchartButtonEl.classList.add('colab-df-spinner');\n",
       "      try {\n",
       "        const charts = await google.colab.kernel.invokeFunction(\n",
       "            'suggestCharts', [key], {});\n",
       "      } catch (error) {\n",
       "        console.error('Error during call to suggestCharts:', error);\n",
       "      }\n",
       "      quickchartButtonEl.classList.remove('colab-df-spinner');\n",
       "      quickchartButtonEl.classList.add('colab-df-quickchart-complete');\n",
       "    }\n",
       "    (() => {\n",
       "      let quickchartButtonEl =\n",
       "        document.querySelector('#df-4b4762ce-732d-4e47-91f0-36ad7c7801fa button');\n",
       "      quickchartButtonEl.style.display =\n",
       "        google.colab.kernel.accessAllowed ? 'block' : 'none';\n",
       "    })();\n",
       "  </script>\n",
       "</div>\n",
       "\n",
       "  <div id=\"id_c1c349ae-3834-4ed6-af8e-2a63325475ab\">\n",
       "    <style>\n",
       "      .colab-df-generate {\n",
       "        background-color: #E8F0FE;\n",
       "        border: none;\n",
       "        border-radius: 50%;\n",
       "        cursor: pointer;\n",
       "        display: none;\n",
       "        fill: #1967D2;\n",
       "        height: 32px;\n",
       "        padding: 0 0 0 0;\n",
       "        width: 32px;\n",
       "      }\n",
       "\n",
       "      .colab-df-generate:hover {\n",
       "        background-color: #E2EBFA;\n",
       "        box-shadow: 0px 1px 2px rgba(60, 64, 67, 0.3), 0px 1px 3px 1px rgba(60, 64, 67, 0.15);\n",
       "        fill: #174EA6;\n",
       "      }\n",
       "\n",
       "      [theme=dark] .colab-df-generate {\n",
       "        background-color: #3B4455;\n",
       "        fill: #D2E3FC;\n",
       "      }\n",
       "\n",
       "      [theme=dark] .colab-df-generate:hover {\n",
       "        background-color: #434B5C;\n",
       "        box-shadow: 0px 1px 3px 1px rgba(0, 0, 0, 0.15);\n",
       "        filter: drop-shadow(0px 1px 2px rgba(0, 0, 0, 0.3));\n",
       "        fill: #FFFFFF;\n",
       "      }\n",
       "    </style>\n",
       "    <button class=\"colab-df-generate\" onclick=\"generateWithVariable('train_filtered')\"\n",
       "            title=\"Generate code using this dataframe.\"\n",
       "            style=\"display:none;\">\n",
       "\n",
       "  <svg xmlns=\"http://www.w3.org/2000/svg\" height=\"24px\"viewBox=\"0 0 24 24\"\n",
       "       width=\"24px\">\n",
       "    <path d=\"M7,19H8.4L18.45,9,17,7.55,7,17.6ZM5,21V16.75L18.45,3.32a2,2,0,0,1,2.83,0l1.4,1.43a1.91,1.91,0,0,1,.58,1.4,1.91,1.91,0,0,1-.58,1.4L9.25,21ZM18.45,9,17,7.55Zm-12,3A5.31,5.31,0,0,0,4.9,8.1,5.31,5.31,0,0,0,1,6.5,5.31,5.31,0,0,0,4.9,4.9,5.31,5.31,0,0,0,6.5,1,5.31,5.31,0,0,0,8.1,4.9,5.31,5.31,0,0,0,12,6.5,5.46,5.46,0,0,0,6.5,12Z\"/>\n",
       "  </svg>\n",
       "    </button>\n",
       "    <script>\n",
       "      (() => {\n",
       "      const buttonEl =\n",
       "        document.querySelector('#id_c1c349ae-3834-4ed6-af8e-2a63325475ab button.colab-df-generate');\n",
       "      buttonEl.style.display =\n",
       "        google.colab.kernel.accessAllowed ? 'block' : 'none';\n",
       "\n",
       "      buttonEl.onclick = () => {\n",
       "        google.colab.notebook.generateWithVariable('train_filtered');\n",
       "      }\n",
       "      })();\n",
       "    </script>\n",
       "  </div>\n",
       "\n",
       "    </div>\n",
       "  </div>\n"
      ],
      "text/plain": [
       "                      cc_num     amt    zip      lat      long  city_pop  \\\n",
       "0           2703186189652095    4.97  28654  36.0788  -81.1781      3495   \n",
       "1               630423337322  107.23  99160  48.8878 -118.2105       149   \n",
       "2             38859492057661  220.11  83252  42.1808 -112.2620      4154   \n",
       "3           3534093764340240   45.00  59632  46.2306 -112.1138      1939   \n",
       "4            375534208663984   41.96  24433  38.4207  -79.4629        99   \n",
       "...                      ...     ...    ...      ...       ...       ...   \n",
       "1296670       30263540414123   15.56  84735  37.7175 -112.4777       258   \n",
       "1296671     6011149206456997   51.70  21790  39.2667  -77.5101       100   \n",
       "1296672     3514865930894695  105.93  88325  32.9396 -105.8189       899   \n",
       "1296673     2720012583106919   74.90  57756  43.3526 -102.5411      1126   \n",
       "1296674  4292902571056973207    4.30  59871  45.8433 -113.8748       218   \n",
       "\n",
       "          unix_time  merch_lat  merch_long  is_fraud  \n",
       "0        1325376018  36.011293  -82.048315         0  \n",
       "1        1325376044  49.159047 -118.186462         0  \n",
       "2        1325376051  43.150704 -112.154481         0  \n",
       "3        1325376076  47.034331 -112.561071         0  \n",
       "4        1325376186  38.674999  -78.632459         0  \n",
       "...             ...        ...         ...       ...  \n",
       "1296670  1371816728  36.841266 -111.690765         0  \n",
       "1296671  1371816739  38.906881  -78.246528         0  \n",
       "1296672  1371816752  33.619513 -105.130529         0  \n",
       "1296673  1371816816  42.788940 -103.241160         0  \n",
       "1296674  1371816817  46.565983 -114.186110         0  \n",
       "\n",
       "[1296675 rows x 10 columns]"
      ]
     },
     "execution_count": 30,
     "metadata": {},
     "output_type": "execute_result"
    }
   ],
   "source": [
    "CharEncoder(train_filtered)"
   ]
  },
  {
   "cell_type": "code",
   "execution_count": 42,
   "metadata": {
    "id": "shpcH0wbmotX"
   },
   "outputs": [],
   "source": [
    "#Filtering Data All Numerical Variables With Gender and Category, Since Other Categorical Variables are toomany Unique Values\n",
    "train_filtered=train[['cc_num','amt','zip','lat','long','city_pop','unix_time','merch_lat','merch_long','is_fraud']]"
   ]
  },
  {
   "cell_type": "code",
   "execution_count": 43,
   "metadata": {
    "colab": {
     "base_uri": "https://localhost:8080/"
    },
    "id": "dAqKgv4CoAuP",
    "outputId": "87154de0-454c-473b-d24e-74836edabad3"
   },
   "outputs": [
    {
     "name": "stdout",
     "output_type": "stream",
     "text": [
      "(1296675, 9) (1296675,)\n"
     ]
    }
   ],
   "source": [
    "responsetest_filtered = 'is_fraud'\n",
    "X_trained_filtered, y_trained_filtered = train_filtered.drop(responsetest_filtered, axis=1), train_filtered[responsetest_filtered]\n",
    "print(X_trained_filtered.shape, y_trained_filtered.shape)"
   ]
  },
  {
   "cell_type": "code",
   "execution_count": 46,
   "metadata": {
    "colab": {
     "base_uri": "https://localhost:8080/",
     "height": 424
    },
    "id": "SUbHehijmotY",
    "outputId": "4784b7eb-b713-48b3-93d5-ea992df264c0"
   },
   "outputs": [
    {
     "data": {
      "text/html": [
       "\n",
       "  <div id=\"df-6964ed79-c64e-4526-83e0-c9fd220db21a\" class=\"colab-df-container\">\n",
       "    <div>\n",
       "<style scoped>\n",
       "    .dataframe tbody tr th:only-of-type {\n",
       "        vertical-align: middle;\n",
       "    }\n",
       "\n",
       "    .dataframe tbody tr th {\n",
       "        vertical-align: top;\n",
       "    }\n",
       "\n",
       "    .dataframe thead th {\n",
       "        text-align: right;\n",
       "    }\n",
       "</style>\n",
       "<table border=\"1\" class=\"dataframe\">\n",
       "  <thead>\n",
       "    <tr style=\"text-align: right;\">\n",
       "      <th></th>\n",
       "      <th>cc_num</th>\n",
       "      <th>amt</th>\n",
       "      <th>zip</th>\n",
       "      <th>lat</th>\n",
       "      <th>long</th>\n",
       "      <th>city_pop</th>\n",
       "      <th>unix_time</th>\n",
       "      <th>merch_lat</th>\n",
       "      <th>merch_long</th>\n",
       "      <th>is_fraud</th>\n",
       "    </tr>\n",
       "  </thead>\n",
       "  <tbody>\n",
       "    <tr>\n",
       "      <th>0</th>\n",
       "      <td>2703186189652095</td>\n",
       "      <td>4.97</td>\n",
       "      <td>28654</td>\n",
       "      <td>36.0788</td>\n",
       "      <td>-81.1781</td>\n",
       "      <td>3495</td>\n",
       "      <td>1325376018</td>\n",
       "      <td>36.011293</td>\n",
       "      <td>-82.048315</td>\n",
       "      <td>0</td>\n",
       "    </tr>\n",
       "    <tr>\n",
       "      <th>1</th>\n",
       "      <td>630423337322</td>\n",
       "      <td>107.23</td>\n",
       "      <td>99160</td>\n",
       "      <td>48.8878</td>\n",
       "      <td>-118.2105</td>\n",
       "      <td>149</td>\n",
       "      <td>1325376044</td>\n",
       "      <td>49.159047</td>\n",
       "      <td>-118.186462</td>\n",
       "      <td>0</td>\n",
       "    </tr>\n",
       "    <tr>\n",
       "      <th>2</th>\n",
       "      <td>38859492057661</td>\n",
       "      <td>220.11</td>\n",
       "      <td>83252</td>\n",
       "      <td>42.1808</td>\n",
       "      <td>-112.2620</td>\n",
       "      <td>4154</td>\n",
       "      <td>1325376051</td>\n",
       "      <td>43.150704</td>\n",
       "      <td>-112.154481</td>\n",
       "      <td>0</td>\n",
       "    </tr>\n",
       "    <tr>\n",
       "      <th>3</th>\n",
       "      <td>3534093764340240</td>\n",
       "      <td>45.00</td>\n",
       "      <td>59632</td>\n",
       "      <td>46.2306</td>\n",
       "      <td>-112.1138</td>\n",
       "      <td>1939</td>\n",
       "      <td>1325376076</td>\n",
       "      <td>47.034331</td>\n",
       "      <td>-112.561071</td>\n",
       "      <td>0</td>\n",
       "    </tr>\n",
       "    <tr>\n",
       "      <th>4</th>\n",
       "      <td>375534208663984</td>\n",
       "      <td>41.96</td>\n",
       "      <td>24433</td>\n",
       "      <td>38.4207</td>\n",
       "      <td>-79.4629</td>\n",
       "      <td>99</td>\n",
       "      <td>1325376186</td>\n",
       "      <td>38.674999</td>\n",
       "      <td>-78.632459</td>\n",
       "      <td>0</td>\n",
       "    </tr>\n",
       "    <tr>\n",
       "      <th>...</th>\n",
       "      <td>...</td>\n",
       "      <td>...</td>\n",
       "      <td>...</td>\n",
       "      <td>...</td>\n",
       "      <td>...</td>\n",
       "      <td>...</td>\n",
       "      <td>...</td>\n",
       "      <td>...</td>\n",
       "      <td>...</td>\n",
       "      <td>...</td>\n",
       "    </tr>\n",
       "    <tr>\n",
       "      <th>1296670</th>\n",
       "      <td>30263540414123</td>\n",
       "      <td>15.56</td>\n",
       "      <td>84735</td>\n",
       "      <td>37.7175</td>\n",
       "      <td>-112.4777</td>\n",
       "      <td>258</td>\n",
       "      <td>1371816728</td>\n",
       "      <td>36.841266</td>\n",
       "      <td>-111.690765</td>\n",
       "      <td>0</td>\n",
       "    </tr>\n",
       "    <tr>\n",
       "      <th>1296671</th>\n",
       "      <td>6011149206456997</td>\n",
       "      <td>51.70</td>\n",
       "      <td>21790</td>\n",
       "      <td>39.2667</td>\n",
       "      <td>-77.5101</td>\n",
       "      <td>100</td>\n",
       "      <td>1371816739</td>\n",
       "      <td>38.906881</td>\n",
       "      <td>-78.246528</td>\n",
       "      <td>0</td>\n",
       "    </tr>\n",
       "    <tr>\n",
       "      <th>1296672</th>\n",
       "      <td>3514865930894695</td>\n",
       "      <td>105.93</td>\n",
       "      <td>88325</td>\n",
       "      <td>32.9396</td>\n",
       "      <td>-105.8189</td>\n",
       "      <td>899</td>\n",
       "      <td>1371816752</td>\n",
       "      <td>33.619513</td>\n",
       "      <td>-105.130529</td>\n",
       "      <td>0</td>\n",
       "    </tr>\n",
       "    <tr>\n",
       "      <th>1296673</th>\n",
       "      <td>2720012583106919</td>\n",
       "      <td>74.90</td>\n",
       "      <td>57756</td>\n",
       "      <td>43.3526</td>\n",
       "      <td>-102.5411</td>\n",
       "      <td>1126</td>\n",
       "      <td>1371816816</td>\n",
       "      <td>42.788940</td>\n",
       "      <td>-103.241160</td>\n",
       "      <td>0</td>\n",
       "    </tr>\n",
       "    <tr>\n",
       "      <th>1296674</th>\n",
       "      <td>4292902571056973207</td>\n",
       "      <td>4.30</td>\n",
       "      <td>59871</td>\n",
       "      <td>45.8433</td>\n",
       "      <td>-113.8748</td>\n",
       "      <td>218</td>\n",
       "      <td>1371816817</td>\n",
       "      <td>46.565983</td>\n",
       "      <td>-114.186110</td>\n",
       "      <td>0</td>\n",
       "    </tr>\n",
       "  </tbody>\n",
       "</table>\n",
       "<p>1296675 rows × 10 columns</p>\n",
       "</div>\n",
       "    <div class=\"colab-df-buttons\">\n",
       "\n",
       "  <div class=\"colab-df-container\">\n",
       "    <button class=\"colab-df-convert\" onclick=\"convertToInteractive('df-6964ed79-c64e-4526-83e0-c9fd220db21a')\"\n",
       "            title=\"Convert this dataframe to an interactive table.\"\n",
       "            style=\"display:none;\">\n",
       "\n",
       "  <svg xmlns=\"http://www.w3.org/2000/svg\" height=\"24px\" viewBox=\"0 -960 960 960\">\n",
       "    <path d=\"M120-120v-720h720v720H120Zm60-500h600v-160H180v160Zm220 220h160v-160H400v160Zm0 220h160v-160H400v160ZM180-400h160v-160H180v160Zm440 0h160v-160H620v160ZM180-180h160v-160H180v160Zm440 0h160v-160H620v160Z\"/>\n",
       "  </svg>\n",
       "    </button>\n",
       "\n",
       "  <style>\n",
       "    .colab-df-container {\n",
       "      display:flex;\n",
       "      gap: 12px;\n",
       "    }\n",
       "\n",
       "    .colab-df-convert {\n",
       "      background-color: #E8F0FE;\n",
       "      border: none;\n",
       "      border-radius: 50%;\n",
       "      cursor: pointer;\n",
       "      display: none;\n",
       "      fill: #1967D2;\n",
       "      height: 32px;\n",
       "      padding: 0 0 0 0;\n",
       "      width: 32px;\n",
       "    }\n",
       "\n",
       "    .colab-df-convert:hover {\n",
       "      background-color: #E2EBFA;\n",
       "      box-shadow: 0px 1px 2px rgba(60, 64, 67, 0.3), 0px 1px 3px 1px rgba(60, 64, 67, 0.15);\n",
       "      fill: #174EA6;\n",
       "    }\n",
       "\n",
       "    .colab-df-buttons div {\n",
       "      margin-bottom: 4px;\n",
       "    }\n",
       "\n",
       "    [theme=dark] .colab-df-convert {\n",
       "      background-color: #3B4455;\n",
       "      fill: #D2E3FC;\n",
       "    }\n",
       "\n",
       "    [theme=dark] .colab-df-convert:hover {\n",
       "      background-color: #434B5C;\n",
       "      box-shadow: 0px 1px 3px 1px rgba(0, 0, 0, 0.15);\n",
       "      filter: drop-shadow(0px 1px 2px rgba(0, 0, 0, 0.3));\n",
       "      fill: #FFFFFF;\n",
       "    }\n",
       "  </style>\n",
       "\n",
       "    <script>\n",
       "      const buttonEl =\n",
       "        document.querySelector('#df-6964ed79-c64e-4526-83e0-c9fd220db21a button.colab-df-convert');\n",
       "      buttonEl.style.display =\n",
       "        google.colab.kernel.accessAllowed ? 'block' : 'none';\n",
       "\n",
       "      async function convertToInteractive(key) {\n",
       "        const element = document.querySelector('#df-6964ed79-c64e-4526-83e0-c9fd220db21a');\n",
       "        const dataTable =\n",
       "          await google.colab.kernel.invokeFunction('convertToInteractive',\n",
       "                                                    [key], {});\n",
       "        if (!dataTable) return;\n",
       "\n",
       "        const docLinkHtml = 'Like what you see? Visit the ' +\n",
       "          '<a target=\"_blank\" href=https://colab.research.google.com/notebooks/data_table.ipynb>data table notebook</a>'\n",
       "          + ' to learn more about interactive tables.';\n",
       "        element.innerHTML = '';\n",
       "        dataTable['output_type'] = 'display_data';\n",
       "        await google.colab.output.renderOutput(dataTable, element);\n",
       "        const docLink = document.createElement('div');\n",
       "        docLink.innerHTML = docLinkHtml;\n",
       "        element.appendChild(docLink);\n",
       "      }\n",
       "    </script>\n",
       "  </div>\n",
       "\n",
       "\n",
       "<div id=\"df-d5417029-a5b0-4122-a0d9-25c982bec22f\">\n",
       "  <button class=\"colab-df-quickchart\" onclick=\"quickchart('df-d5417029-a5b0-4122-a0d9-25c982bec22f')\"\n",
       "            title=\"Suggest charts.\"\n",
       "            style=\"display:none;\">\n",
       "\n",
       "<svg xmlns=\"http://www.w3.org/2000/svg\" height=\"24px\"viewBox=\"0 0 24 24\"\n",
       "     width=\"24px\">\n",
       "    <g>\n",
       "        <path d=\"M19 3H5c-1.1 0-2 .9-2 2v14c0 1.1.9 2 2 2h14c1.1 0 2-.9 2-2V5c0-1.1-.9-2-2-2zM9 17H7v-7h2v7zm4 0h-2V7h2v10zm4 0h-2v-4h2v4z\"/>\n",
       "    </g>\n",
       "</svg>\n",
       "  </button>\n",
       "\n",
       "<style>\n",
       "  .colab-df-quickchart {\n",
       "      --bg-color: #E8F0FE;\n",
       "      --fill-color: #1967D2;\n",
       "      --hover-bg-color: #E2EBFA;\n",
       "      --hover-fill-color: #174EA6;\n",
       "      --disabled-fill-color: #AAA;\n",
       "      --disabled-bg-color: #DDD;\n",
       "  }\n",
       "\n",
       "  [theme=dark] .colab-df-quickchart {\n",
       "      --bg-color: #3B4455;\n",
       "      --fill-color: #D2E3FC;\n",
       "      --hover-bg-color: #434B5C;\n",
       "      --hover-fill-color: #FFFFFF;\n",
       "      --disabled-bg-color: #3B4455;\n",
       "      --disabled-fill-color: #666;\n",
       "  }\n",
       "\n",
       "  .colab-df-quickchart {\n",
       "    background-color: var(--bg-color);\n",
       "    border: none;\n",
       "    border-radius: 50%;\n",
       "    cursor: pointer;\n",
       "    display: none;\n",
       "    fill: var(--fill-color);\n",
       "    height: 32px;\n",
       "    padding: 0;\n",
       "    width: 32px;\n",
       "  }\n",
       "\n",
       "  .colab-df-quickchart:hover {\n",
       "    background-color: var(--hover-bg-color);\n",
       "    box-shadow: 0 1px 2px rgba(60, 64, 67, 0.3), 0 1px 3px 1px rgba(60, 64, 67, 0.15);\n",
       "    fill: var(--button-hover-fill-color);\n",
       "  }\n",
       "\n",
       "  .colab-df-quickchart-complete:disabled,\n",
       "  .colab-df-quickchart-complete:disabled:hover {\n",
       "    background-color: var(--disabled-bg-color);\n",
       "    fill: var(--disabled-fill-color);\n",
       "    box-shadow: none;\n",
       "  }\n",
       "\n",
       "  .colab-df-spinner {\n",
       "    border: 2px solid var(--fill-color);\n",
       "    border-color: transparent;\n",
       "    border-bottom-color: var(--fill-color);\n",
       "    animation:\n",
       "      spin 1s steps(1) infinite;\n",
       "  }\n",
       "\n",
       "  @keyframes spin {\n",
       "    0% {\n",
       "      border-color: transparent;\n",
       "      border-bottom-color: var(--fill-color);\n",
       "      border-left-color: var(--fill-color);\n",
       "    }\n",
       "    20% {\n",
       "      border-color: transparent;\n",
       "      border-left-color: var(--fill-color);\n",
       "      border-top-color: var(--fill-color);\n",
       "    }\n",
       "    30% {\n",
       "      border-color: transparent;\n",
       "      border-left-color: var(--fill-color);\n",
       "      border-top-color: var(--fill-color);\n",
       "      border-right-color: var(--fill-color);\n",
       "    }\n",
       "    40% {\n",
       "      border-color: transparent;\n",
       "      border-right-color: var(--fill-color);\n",
       "      border-top-color: var(--fill-color);\n",
       "    }\n",
       "    60% {\n",
       "      border-color: transparent;\n",
       "      border-right-color: var(--fill-color);\n",
       "    }\n",
       "    80% {\n",
       "      border-color: transparent;\n",
       "      border-right-color: var(--fill-color);\n",
       "      border-bottom-color: var(--fill-color);\n",
       "    }\n",
       "    90% {\n",
       "      border-color: transparent;\n",
       "      border-bottom-color: var(--fill-color);\n",
       "    }\n",
       "  }\n",
       "</style>\n",
       "\n",
       "  <script>\n",
       "    async function quickchart(key) {\n",
       "      const quickchartButtonEl =\n",
       "        document.querySelector('#' + key + ' button');\n",
       "      quickchartButtonEl.disabled = true;  // To prevent multiple clicks.\n",
       "      quickchartButtonEl.classList.add('colab-df-spinner');\n",
       "      try {\n",
       "        const charts = await google.colab.kernel.invokeFunction(\n",
       "            'suggestCharts', [key], {});\n",
       "      } catch (error) {\n",
       "        console.error('Error during call to suggestCharts:', error);\n",
       "      }\n",
       "      quickchartButtonEl.classList.remove('colab-df-spinner');\n",
       "      quickchartButtonEl.classList.add('colab-df-quickchart-complete');\n",
       "    }\n",
       "    (() => {\n",
       "      let quickchartButtonEl =\n",
       "        document.querySelector('#df-d5417029-a5b0-4122-a0d9-25c982bec22f button');\n",
       "      quickchartButtonEl.style.display =\n",
       "        google.colab.kernel.accessAllowed ? 'block' : 'none';\n",
       "    })();\n",
       "  </script>\n",
       "</div>\n",
       "\n",
       "  <div id=\"id_db7411ed-d18f-4694-9f76-a47b527909cf\">\n",
       "    <style>\n",
       "      .colab-df-generate {\n",
       "        background-color: #E8F0FE;\n",
       "        border: none;\n",
       "        border-radius: 50%;\n",
       "        cursor: pointer;\n",
       "        display: none;\n",
       "        fill: #1967D2;\n",
       "        height: 32px;\n",
       "        padding: 0 0 0 0;\n",
       "        width: 32px;\n",
       "      }\n",
       "\n",
       "      .colab-df-generate:hover {\n",
       "        background-color: #E2EBFA;\n",
       "        box-shadow: 0px 1px 2px rgba(60, 64, 67, 0.3), 0px 1px 3px 1px rgba(60, 64, 67, 0.15);\n",
       "        fill: #174EA6;\n",
       "      }\n",
       "\n",
       "      [theme=dark] .colab-df-generate {\n",
       "        background-color: #3B4455;\n",
       "        fill: #D2E3FC;\n",
       "      }\n",
       "\n",
       "      [theme=dark] .colab-df-generate:hover {\n",
       "        background-color: #434B5C;\n",
       "        box-shadow: 0px 1px 3px 1px rgba(0, 0, 0, 0.15);\n",
       "        filter: drop-shadow(0px 1px 2px rgba(0, 0, 0, 0.3));\n",
       "        fill: #FFFFFF;\n",
       "      }\n",
       "    </style>\n",
       "    <button class=\"colab-df-generate\" onclick=\"generateWithVariable('train_filtered')\"\n",
       "            title=\"Generate code using this dataframe.\"\n",
       "            style=\"display:none;\">\n",
       "\n",
       "  <svg xmlns=\"http://www.w3.org/2000/svg\" height=\"24px\"viewBox=\"0 0 24 24\"\n",
       "       width=\"24px\">\n",
       "    <path d=\"M7,19H8.4L18.45,9,17,7.55,7,17.6ZM5,21V16.75L18.45,3.32a2,2,0,0,1,2.83,0l1.4,1.43a1.91,1.91,0,0,1,.58,1.4,1.91,1.91,0,0,1-.58,1.4L9.25,21ZM18.45,9,17,7.55Zm-12,3A5.31,5.31,0,0,0,4.9,8.1,5.31,5.31,0,0,0,1,6.5,5.31,5.31,0,0,0,4.9,4.9,5.31,5.31,0,0,0,6.5,1,5.31,5.31,0,0,0,8.1,4.9,5.31,5.31,0,0,0,12,6.5,5.46,5.46,0,0,0,6.5,12Z\"/>\n",
       "  </svg>\n",
       "    </button>\n",
       "    <script>\n",
       "      (() => {\n",
       "      const buttonEl =\n",
       "        document.querySelector('#id_db7411ed-d18f-4694-9f76-a47b527909cf button.colab-df-generate');\n",
       "      buttonEl.style.display =\n",
       "        google.colab.kernel.accessAllowed ? 'block' : 'none';\n",
       "\n",
       "      buttonEl.onclick = () => {\n",
       "        google.colab.notebook.generateWithVariable('train_filtered');\n",
       "      }\n",
       "      })();\n",
       "    </script>\n",
       "  </div>\n",
       "\n",
       "    </div>\n",
       "  </div>\n"
      ],
      "text/plain": [
       "                      cc_num     amt    zip      lat      long  city_pop  \\\n",
       "0           2703186189652095    4.97  28654  36.0788  -81.1781      3495   \n",
       "1               630423337322  107.23  99160  48.8878 -118.2105       149   \n",
       "2             38859492057661  220.11  83252  42.1808 -112.2620      4154   \n",
       "3           3534093764340240   45.00  59632  46.2306 -112.1138      1939   \n",
       "4            375534208663984   41.96  24433  38.4207  -79.4629        99   \n",
       "...                      ...     ...    ...      ...       ...       ...   \n",
       "1296670       30263540414123   15.56  84735  37.7175 -112.4777       258   \n",
       "1296671     6011149206456997   51.70  21790  39.2667  -77.5101       100   \n",
       "1296672     3514865930894695  105.93  88325  32.9396 -105.8189       899   \n",
       "1296673     2720012583106919   74.90  57756  43.3526 -102.5411      1126   \n",
       "1296674  4292902571056973207    4.30  59871  45.8433 -113.8748       218   \n",
       "\n",
       "          unix_time  merch_lat  merch_long  is_fraud  \n",
       "0        1325376018  36.011293  -82.048315         0  \n",
       "1        1325376044  49.159047 -118.186462         0  \n",
       "2        1325376051  43.150704 -112.154481         0  \n",
       "3        1325376076  47.034331 -112.561071         0  \n",
       "4        1325376186  38.674999  -78.632459         0  \n",
       "...             ...        ...         ...       ...  \n",
       "1296670  1371816728  36.841266 -111.690765         0  \n",
       "1296671  1371816739  38.906881  -78.246528         0  \n",
       "1296672  1371816752  33.619513 -105.130529         0  \n",
       "1296673  1371816816  42.788940 -103.241160         0  \n",
       "1296674  1371816817  46.565983 -114.186110         0  \n",
       "\n",
       "[1296675 rows x 10 columns]"
      ]
     },
     "execution_count": 46,
     "metadata": {},
     "output_type": "execute_result"
    }
   ],
   "source": [
    "CharEncoder(train_filtered)"
   ]
  },
  {
   "cell_type": "code",
   "execution_count": 47,
   "metadata": {
    "id": "CcZDWz8FmotZ"
   },
   "outputs": [],
   "source": [
    "#Filtering Data All Numerical Variables With Gender and Category, Since Other Categorical Variables are toomany Unique Values\n",
    "test_filtered=test[['cc_num','amt','zip','lat','long','city_pop','unix_time','merch_lat','merch_long','is_fraud']]"
   ]
  },
  {
   "cell_type": "code",
   "execution_count": 48,
   "metadata": {
    "colab": {
     "base_uri": "https://localhost:8080/"
    },
    "id": "d3nnsKM0motZ",
    "outputId": "6efb7977-3d4e-4666-f034-561e3960a3d8"
   },
   "outputs": [
    {
     "name": "stdout",
     "output_type": "stream",
     "text": [
      "(555719, 9) (555719,)\n"
     ]
    }
   ],
   "source": [
    "responsetest_filtered = 'is_fraud'\n",
    "X_test_filtered, y_test_filtered = test_filtered.drop(responsetest_filtered, axis=1), test_filtered[responsetest_filtered]\n",
    "print(X_test_filtered.shape, y_test_filtered.shape)"
   ]
  },
  {
   "cell_type": "code",
   "execution_count": null,
   "metadata": {
    "id": "hw7jvKRXmota"
   },
   "outputs": [],
   "source": []
  },
  {
   "cell_type": "markdown",
   "metadata": {
    "id": "wCNc1HRdmota"
   },
   "source": [
    "### Regularization"
   ]
  },
  {
   "cell_type": "markdown",
   "metadata": {
    "id": "SEZ1VLqLmota"
   },
   "source": [
    "### Lasso"
   ]
  },
  {
   "cell_type": "code",
   "execution_count": 49,
   "metadata": {
    "colab": {
     "base_uri": "https://localhost:8080/",
     "height": 75
    },
    "id": "Rc-XxONymotk",
    "outputId": "fafe6e11-e624-40eb-e239-264b7908dd2c"
   },
   "outputs": [
    {
     "data": {
      "text/html": [
       "<style>#sk-container-id-1 {color: black;background-color: white;}#sk-container-id-1 pre{padding: 0;}#sk-container-id-1 div.sk-toggleable {background-color: white;}#sk-container-id-1 label.sk-toggleable__label {cursor: pointer;display: block;width: 100%;margin-bottom: 0;padding: 0.3em;box-sizing: border-box;text-align: center;}#sk-container-id-1 label.sk-toggleable__label-arrow:before {content: \"▸\";float: left;margin-right: 0.25em;color: #696969;}#sk-container-id-1 label.sk-toggleable__label-arrow:hover:before {color: black;}#sk-container-id-1 div.sk-estimator:hover label.sk-toggleable__label-arrow:before {color: black;}#sk-container-id-1 div.sk-toggleable__content {max-height: 0;max-width: 0;overflow: hidden;text-align: left;background-color: #f0f8ff;}#sk-container-id-1 div.sk-toggleable__content pre {margin: 0.2em;color: black;border-radius: 0.25em;background-color: #f0f8ff;}#sk-container-id-1 input.sk-toggleable__control:checked~div.sk-toggleable__content {max-height: 200px;max-width: 100%;overflow: auto;}#sk-container-id-1 input.sk-toggleable__control:checked~label.sk-toggleable__label-arrow:before {content: \"▾\";}#sk-container-id-1 div.sk-estimator input.sk-toggleable__control:checked~label.sk-toggleable__label {background-color: #d4ebff;}#sk-container-id-1 div.sk-label input.sk-toggleable__control:checked~label.sk-toggleable__label {background-color: #d4ebff;}#sk-container-id-1 input.sk-hidden--visually {border: 0;clip: rect(1px 1px 1px 1px);clip: rect(1px, 1px, 1px, 1px);height: 1px;margin: -1px;overflow: hidden;padding: 0;position: absolute;width: 1px;}#sk-container-id-1 div.sk-estimator {font-family: monospace;background-color: #f0f8ff;border: 1px dotted black;border-radius: 0.25em;box-sizing: border-box;margin-bottom: 0.5em;}#sk-container-id-1 div.sk-estimator:hover {background-color: #d4ebff;}#sk-container-id-1 div.sk-parallel-item::after {content: \"\";width: 100%;border-bottom: 1px solid gray;flex-grow: 1;}#sk-container-id-1 div.sk-label:hover label.sk-toggleable__label {background-color: #d4ebff;}#sk-container-id-1 div.sk-serial::before {content: \"\";position: absolute;border-left: 1px solid gray;box-sizing: border-box;top: 0;bottom: 0;left: 50%;z-index: 0;}#sk-container-id-1 div.sk-serial {display: flex;flex-direction: column;align-items: center;background-color: white;padding-right: 0.2em;padding-left: 0.2em;position: relative;}#sk-container-id-1 div.sk-item {position: relative;z-index: 1;}#sk-container-id-1 div.sk-parallel {display: flex;align-items: stretch;justify-content: center;background-color: white;position: relative;}#sk-container-id-1 div.sk-item::before, #sk-container-id-1 div.sk-parallel-item::before {content: \"\";position: absolute;border-left: 1px solid gray;box-sizing: border-box;top: 0;bottom: 0;left: 50%;z-index: -1;}#sk-container-id-1 div.sk-parallel-item {display: flex;flex-direction: column;z-index: 1;position: relative;background-color: white;}#sk-container-id-1 div.sk-parallel-item:first-child::after {align-self: flex-end;width: 50%;}#sk-container-id-1 div.sk-parallel-item:last-child::after {align-self: flex-start;width: 50%;}#sk-container-id-1 div.sk-parallel-item:only-child::after {width: 0;}#sk-container-id-1 div.sk-dashed-wrapped {border: 1px dashed gray;margin: 0 0.4em 0.5em 0.4em;box-sizing: border-box;padding-bottom: 0.4em;background-color: white;}#sk-container-id-1 div.sk-label label {font-family: monospace;font-weight: bold;display: inline-block;line-height: 1.2em;}#sk-container-id-1 div.sk-label-container {text-align: center;}#sk-container-id-1 div.sk-container {/* jupyter's `normalize.less` sets `[hidden] { display: none; }` but bootstrap.min.css set `[hidden] { display: none !important; }` so we also need the `!important` here to be able to override the default hidden behavior on the sphinx rendered scikit-learn.org. See: https://github.com/scikit-learn/scikit-learn/issues/21755 */display: inline-block !important;position: relative;}#sk-container-id-1 div.sk-text-repr-fallback {display: none;}</style><div id=\"sk-container-id-1\" class=\"sk-top-container\"><div class=\"sk-text-repr-fallback\"><pre>LassoCV(cv=10, max_iter=100000)</pre><b>In a Jupyter environment, please rerun this cell to show the HTML representation or trust the notebook. <br />On GitHub, the HTML representation is unable to render, please try loading this page with nbviewer.org.</b></div><div class=\"sk-container\" hidden><div class=\"sk-item\"><div class=\"sk-estimator sk-toggleable\"><input class=\"sk-toggleable__control sk-hidden--visually\" id=\"sk-estimator-id-1\" type=\"checkbox\" checked><label for=\"sk-estimator-id-1\" class=\"sk-toggleable__label sk-toggleable__label-arrow\">LassoCV</label><div class=\"sk-toggleable__content\"><pre>LassoCV(cv=10, max_iter=100000)</pre></div></div></div></div></div>"
      ],
      "text/plain": [
       "LassoCV(cv=10, max_iter=100000)"
      ]
     },
     "execution_count": 49,
     "metadata": {},
     "output_type": "execute_result"
    }
   ],
   "source": [
    "lasso_cv = LassoCV(alphas = None, cv = 10, max_iter = 100000)\n",
    "lasso_cv.fit(X_trained_filtered, y_trained_filtered)"
   ]
  },
  {
   "cell_type": "code",
   "execution_count": 50,
   "metadata": {
    "colab": {
     "base_uri": "https://localhost:8080/"
    },
    "id": "a5Hr9Giumotl",
    "outputId": "9494ed8b-5849-4def-e8f9-fa4b8c30c72a"
   },
   "outputs": [
    {
     "data": {
      "text/plain": [
       "97448237878501.64"
      ]
     },
     "execution_count": 50,
     "metadata": {},
     "output_type": "execute_result"
    }
   ],
   "source": [
    "alpha = lasso_cv.alpha_\n",
    "alpha"
   ]
  },
  {
   "cell_type": "code",
   "execution_count": 52,
   "metadata": {
    "colab": {
     "base_uri": "https://localhost:8080/",
     "height": 75
    },
    "id": "8nfnQwHCmotm",
    "outputId": "b653ee61-f1e4-4977-a18b-ebabc0cd5b54"
   },
   "outputs": [
    {
     "data": {
      "text/html": [
       "<style>#sk-container-id-2 {color: black;background-color: white;}#sk-container-id-2 pre{padding: 0;}#sk-container-id-2 div.sk-toggleable {background-color: white;}#sk-container-id-2 label.sk-toggleable__label {cursor: pointer;display: block;width: 100%;margin-bottom: 0;padding: 0.3em;box-sizing: border-box;text-align: center;}#sk-container-id-2 label.sk-toggleable__label-arrow:before {content: \"▸\";float: left;margin-right: 0.25em;color: #696969;}#sk-container-id-2 label.sk-toggleable__label-arrow:hover:before {color: black;}#sk-container-id-2 div.sk-estimator:hover label.sk-toggleable__label-arrow:before {color: black;}#sk-container-id-2 div.sk-toggleable__content {max-height: 0;max-width: 0;overflow: hidden;text-align: left;background-color: #f0f8ff;}#sk-container-id-2 div.sk-toggleable__content pre {margin: 0.2em;color: black;border-radius: 0.25em;background-color: #f0f8ff;}#sk-container-id-2 input.sk-toggleable__control:checked~div.sk-toggleable__content {max-height: 200px;max-width: 100%;overflow: auto;}#sk-container-id-2 input.sk-toggleable__control:checked~label.sk-toggleable__label-arrow:before {content: \"▾\";}#sk-container-id-2 div.sk-estimator input.sk-toggleable__control:checked~label.sk-toggleable__label {background-color: #d4ebff;}#sk-container-id-2 div.sk-label input.sk-toggleable__control:checked~label.sk-toggleable__label {background-color: #d4ebff;}#sk-container-id-2 input.sk-hidden--visually {border: 0;clip: rect(1px 1px 1px 1px);clip: rect(1px, 1px, 1px, 1px);height: 1px;margin: -1px;overflow: hidden;padding: 0;position: absolute;width: 1px;}#sk-container-id-2 div.sk-estimator {font-family: monospace;background-color: #f0f8ff;border: 1px dotted black;border-radius: 0.25em;box-sizing: border-box;margin-bottom: 0.5em;}#sk-container-id-2 div.sk-estimator:hover {background-color: #d4ebff;}#sk-container-id-2 div.sk-parallel-item::after {content: \"\";width: 100%;border-bottom: 1px solid gray;flex-grow: 1;}#sk-container-id-2 div.sk-label:hover label.sk-toggleable__label {background-color: #d4ebff;}#sk-container-id-2 div.sk-serial::before {content: \"\";position: absolute;border-left: 1px solid gray;box-sizing: border-box;top: 0;bottom: 0;left: 50%;z-index: 0;}#sk-container-id-2 div.sk-serial {display: flex;flex-direction: column;align-items: center;background-color: white;padding-right: 0.2em;padding-left: 0.2em;position: relative;}#sk-container-id-2 div.sk-item {position: relative;z-index: 1;}#sk-container-id-2 div.sk-parallel {display: flex;align-items: stretch;justify-content: center;background-color: white;position: relative;}#sk-container-id-2 div.sk-item::before, #sk-container-id-2 div.sk-parallel-item::before {content: \"\";position: absolute;border-left: 1px solid gray;box-sizing: border-box;top: 0;bottom: 0;left: 50%;z-index: -1;}#sk-container-id-2 div.sk-parallel-item {display: flex;flex-direction: column;z-index: 1;position: relative;background-color: white;}#sk-container-id-2 div.sk-parallel-item:first-child::after {align-self: flex-end;width: 50%;}#sk-container-id-2 div.sk-parallel-item:last-child::after {align-self: flex-start;width: 50%;}#sk-container-id-2 div.sk-parallel-item:only-child::after {width: 0;}#sk-container-id-2 div.sk-dashed-wrapped {border: 1px dashed gray;margin: 0 0.4em 0.5em 0.4em;box-sizing: border-box;padding-bottom: 0.4em;background-color: white;}#sk-container-id-2 div.sk-label label {font-family: monospace;font-weight: bold;display: inline-block;line-height: 1.2em;}#sk-container-id-2 div.sk-label-container {text-align: center;}#sk-container-id-2 div.sk-container {/* jupyter's `normalize.less` sets `[hidden] { display: none; }` but bootstrap.min.css set `[hidden] { display: none !important; }` so we also need the `!important` here to be able to override the default hidden behavior on the sphinx rendered scikit-learn.org. See: https://github.com/scikit-learn/scikit-learn/issues/21755 */display: inline-block !important;position: relative;}#sk-container-id-2 div.sk-text-repr-fallback {display: none;}</style><div id=\"sk-container-id-2\" class=\"sk-top-container\"><div class=\"sk-text-repr-fallback\"><pre>Lasso(alpha=97448237878501.64)</pre><b>In a Jupyter environment, please rerun this cell to show the HTML representation or trust the notebook. <br />On GitHub, the HTML representation is unable to render, please try loading this page with nbviewer.org.</b></div><div class=\"sk-container\" hidden><div class=\"sk-item\"><div class=\"sk-estimator sk-toggleable\"><input class=\"sk-toggleable__control sk-hidden--visually\" id=\"sk-estimator-id-2\" type=\"checkbox\" checked><label for=\"sk-estimator-id-2\" class=\"sk-toggleable__label sk-toggleable__label-arrow\">Lasso</label><div class=\"sk-toggleable__content\"><pre>Lasso(alpha=97448237878501.64)</pre></div></div></div></div></div>"
      ],
      "text/plain": [
       "Lasso(alpha=97448237878501.64)"
      ]
     },
     "execution_count": 52,
     "metadata": {},
     "output_type": "execute_result"
    }
   ],
   "source": [
    "lasso = Lasso(alpha = lasso_cv.alpha_)\n",
    "lasso.fit(X_trained_filtered, y_trained_filtered)"
   ]
  },
  {
   "cell_type": "code",
   "execution_count": 53,
   "metadata": {
    "colab": {
     "base_uri": "https://localhost:8080/"
    },
    "id": "PadhttIcmotm",
    "outputId": "c163d245-636d-47be-ab45-0ba8e84344ec"
   },
   "outputs": [
    {
     "data": {
      "text/plain": [
       "0.0"
      ]
     },
     "execution_count": 53,
     "metadata": {},
     "output_type": "execute_result"
    }
   ],
   "source": [
    "lasso.score(X_trained_filtered, y_trained_filtered)"
   ]
  },
  {
   "cell_type": "code",
   "execution_count": 54,
   "metadata": {
    "colab": {
     "base_uri": "https://localhost:8080/"
    },
    "id": "Bp0IwcVjmotn",
    "outputId": "2eeaeccf-3522-4850-e200-8967566e7414"
   },
   "outputs": [
    {
     "data": {
      "text/plain": [
       "-0.0009675561843203173"
      ]
     },
     "execution_count": 54,
     "metadata": {},
     "output_type": "execute_result"
    }
   ],
   "source": [
    "lasso.score(X_test_filtered, y_test_filtered)"
   ]
  },
  {
   "cell_type": "code",
   "execution_count": 56,
   "metadata": {
    "colab": {
     "base_uri": "https://localhost:8080/"
    },
    "id": "WS1-GwCDmotn",
    "outputId": "f173c401-f2c9-4c4a-b7ab-4cdb9bbe93bc"
   },
   "outputs": [
    {
     "name": "stdout",
     "output_type": "stream",
     "text": [
      "-6.940882957495731e-06\n"
     ]
    }
   ],
   "source": [
    "print(adj_r2(X_trained_filtered, y_trained_filtered, lasso))"
   ]
  },
  {
   "cell_type": "code",
   "execution_count": 58,
   "metadata": {
    "colab": {
     "base_uri": "https://localhost:8080/"
    },
    "id": "HOp4_Nopmoto",
    "outputId": "fb0e51d0-6bdc-4999-d27b-492ca996a7cd"
   },
   "outputs": [
    {
     "name": "stdout",
     "output_type": "stream",
     "text": [
      "-0.0009837673811978753\n"
     ]
    }
   ],
   "source": [
    "print(adj_r2(X_test_filtered, y_test_filtered, lasso))"
   ]
  },
  {
   "cell_type": "markdown",
   "metadata": {
    "id": "0Q2Hr5Ddmoto"
   },
   "source": [
    "### Ridge"
   ]
  },
  {
   "cell_type": "code",
   "execution_count": 60,
   "metadata": {
    "colab": {
     "base_uri": "https://localhost:8080/",
     "height": 249
    },
    "id": "gStybQfjmotp",
    "outputId": "02c83499-2ae3-423f-a5aa-29ae567b500e"
   },
   "outputs": [
    {
     "data": {
      "text/html": [
       "<style>#sk-container-id-3 {color: black;background-color: white;}#sk-container-id-3 pre{padding: 0;}#sk-container-id-3 div.sk-toggleable {background-color: white;}#sk-container-id-3 label.sk-toggleable__label {cursor: pointer;display: block;width: 100%;margin-bottom: 0;padding: 0.3em;box-sizing: border-box;text-align: center;}#sk-container-id-3 label.sk-toggleable__label-arrow:before {content: \"▸\";float: left;margin-right: 0.25em;color: #696969;}#sk-container-id-3 label.sk-toggleable__label-arrow:hover:before {color: black;}#sk-container-id-3 div.sk-estimator:hover label.sk-toggleable__label-arrow:before {color: black;}#sk-container-id-3 div.sk-toggleable__content {max-height: 0;max-width: 0;overflow: hidden;text-align: left;background-color: #f0f8ff;}#sk-container-id-3 div.sk-toggleable__content pre {margin: 0.2em;color: black;border-radius: 0.25em;background-color: #f0f8ff;}#sk-container-id-3 input.sk-toggleable__control:checked~div.sk-toggleable__content {max-height: 200px;max-width: 100%;overflow: auto;}#sk-container-id-3 input.sk-toggleable__control:checked~label.sk-toggleable__label-arrow:before {content: \"▾\";}#sk-container-id-3 div.sk-estimator input.sk-toggleable__control:checked~label.sk-toggleable__label {background-color: #d4ebff;}#sk-container-id-3 div.sk-label input.sk-toggleable__control:checked~label.sk-toggleable__label {background-color: #d4ebff;}#sk-container-id-3 input.sk-hidden--visually {border: 0;clip: rect(1px 1px 1px 1px);clip: rect(1px, 1px, 1px, 1px);height: 1px;margin: -1px;overflow: hidden;padding: 0;position: absolute;width: 1px;}#sk-container-id-3 div.sk-estimator {font-family: monospace;background-color: #f0f8ff;border: 1px dotted black;border-radius: 0.25em;box-sizing: border-box;margin-bottom: 0.5em;}#sk-container-id-3 div.sk-estimator:hover {background-color: #d4ebff;}#sk-container-id-3 div.sk-parallel-item::after {content: \"\";width: 100%;border-bottom: 1px solid gray;flex-grow: 1;}#sk-container-id-3 div.sk-label:hover label.sk-toggleable__label {background-color: #d4ebff;}#sk-container-id-3 div.sk-serial::before {content: \"\";position: absolute;border-left: 1px solid gray;box-sizing: border-box;top: 0;bottom: 0;left: 50%;z-index: 0;}#sk-container-id-3 div.sk-serial {display: flex;flex-direction: column;align-items: center;background-color: white;padding-right: 0.2em;padding-left: 0.2em;position: relative;}#sk-container-id-3 div.sk-item {position: relative;z-index: 1;}#sk-container-id-3 div.sk-parallel {display: flex;align-items: stretch;justify-content: center;background-color: white;position: relative;}#sk-container-id-3 div.sk-item::before, #sk-container-id-3 div.sk-parallel-item::before {content: \"\";position: absolute;border-left: 1px solid gray;box-sizing: border-box;top: 0;bottom: 0;left: 50%;z-index: -1;}#sk-container-id-3 div.sk-parallel-item {display: flex;flex-direction: column;z-index: 1;position: relative;background-color: white;}#sk-container-id-3 div.sk-parallel-item:first-child::after {align-self: flex-end;width: 50%;}#sk-container-id-3 div.sk-parallel-item:last-child::after {align-self: flex-start;width: 50%;}#sk-container-id-3 div.sk-parallel-item:only-child::after {width: 0;}#sk-container-id-3 div.sk-dashed-wrapped {border: 1px dashed gray;margin: 0 0.4em 0.5em 0.4em;box-sizing: border-box;padding-bottom: 0.4em;background-color: white;}#sk-container-id-3 div.sk-label label {font-family: monospace;font-weight: bold;display: inline-block;line-height: 1.2em;}#sk-container-id-3 div.sk-label-container {text-align: center;}#sk-container-id-3 div.sk-container {/* jupyter's `normalize.less` sets `[hidden] { display: none; }` but bootstrap.min.css set `[hidden] { display: none !important; }` so we also need the `!important` here to be able to override the default hidden behavior on the sphinx rendered scikit-learn.org. See: https://github.com/scikit-learn/scikit-learn/issues/21755 */display: inline-block !important;position: relative;}#sk-container-id-3 div.sk-text-repr-fallback {display: none;}</style><div id=\"sk-container-id-3\" class=\"sk-top-container\"><div class=\"sk-text-repr-fallback\"><pre>RidgeCV(alphas=array([2.80531799, 8.86453747, 6.70173564, 3.36005038, 3.44968689,\n",
       "       3.12773117, 6.70918099, 2.60839272, 8.82788005, 6.32368008,\n",
       "       0.77880655, 6.03621915, 4.4580029 , 7.1034085 , 1.88772739,\n",
       "       4.78204767, 2.59621398, 2.09667192, 5.34431812, 3.45635709,\n",
       "       4.15810878, 8.75949497, 4.75392881, 3.42551657, 8.25082367,\n",
       "       8.44176291, 0.13299363, 6.61001256, 4.42662455, 4.83958589,\n",
       "       2.96386593, 8.10759413, 0.20107263, 1.73660872, 8.01329475,\n",
       "       0.93476948, 3.98667816, 2.3697754 , 1.97267878, 2.17025693,\n",
       "       6.79436254, 9.91150218, 1.10691505, 8.44510065, 5.08739743,\n",
       "       7.18652848, 5.57588671, 6.52039256, 3.64862468, 8.41664277]),\n",
       "        cv=10)</pre><b>In a Jupyter environment, please rerun this cell to show the HTML representation or trust the notebook. <br />On GitHub, the HTML representation is unable to render, please try loading this page with nbviewer.org.</b></div><div class=\"sk-container\" hidden><div class=\"sk-item\"><div class=\"sk-estimator sk-toggleable\"><input class=\"sk-toggleable__control sk-hidden--visually\" id=\"sk-estimator-id-3\" type=\"checkbox\" checked><label for=\"sk-estimator-id-3\" class=\"sk-toggleable__label sk-toggleable__label-arrow\">RidgeCV</label><div class=\"sk-toggleable__content\"><pre>RidgeCV(alphas=array([2.80531799, 8.86453747, 6.70173564, 3.36005038, 3.44968689,\n",
       "       3.12773117, 6.70918099, 2.60839272, 8.82788005, 6.32368008,\n",
       "       0.77880655, 6.03621915, 4.4580029 , 7.1034085 , 1.88772739,\n",
       "       4.78204767, 2.59621398, 2.09667192, 5.34431812, 3.45635709,\n",
       "       4.15810878, 8.75949497, 4.75392881, 3.42551657, 8.25082367,\n",
       "       8.44176291, 0.13299363, 6.61001256, 4.42662455, 4.83958589,\n",
       "       2.96386593, 8.10759413, 0.20107263, 1.73660872, 8.01329475,\n",
       "       0.93476948, 3.98667816, 2.3697754 , 1.97267878, 2.17025693,\n",
       "       6.79436254, 9.91150218, 1.10691505, 8.44510065, 5.08739743,\n",
       "       7.18652848, 5.57588671, 6.52039256, 3.64862468, 8.41664277]),\n",
       "        cv=10)</pre></div></div></div></div></div>"
      ],
      "text/plain": [
       "RidgeCV(alphas=array([2.80531799, 8.86453747, 6.70173564, 3.36005038, 3.44968689,\n",
       "       3.12773117, 6.70918099, 2.60839272, 8.82788005, 6.32368008,\n",
       "       0.77880655, 6.03621915, 4.4580029 , 7.1034085 , 1.88772739,\n",
       "       4.78204767, 2.59621398, 2.09667192, 5.34431812, 3.45635709,\n",
       "       4.15810878, 8.75949497, 4.75392881, 3.42551657, 8.25082367,\n",
       "       8.44176291, 0.13299363, 6.61001256, 4.42662455, 4.83958589,\n",
       "       2.96386593, 8.10759413, 0.20107263, 1.73660872, 8.01329475,\n",
       "       0.93476948, 3.98667816, 2.3697754 , 1.97267878, 2.17025693,\n",
       "       6.79436254, 9.91150218, 1.10691505, 8.44510065, 5.08739743,\n",
       "       7.18652848, 5.57588671, 6.52039256, 3.64862468, 8.41664277]),\n",
       "        cv=10)"
      ]
     },
     "execution_count": 60,
     "metadata": {},
     "output_type": "execute_result"
    }
   ],
   "source": [
    "alphas = np.random.uniform(0, 10, 50)\n",
    "ridge_cv = RidgeCV(alphas = alphas, cv = 10)\n",
    "ridge_cv.fit(X_trained_filtered, y_trained_filtered)"
   ]
  },
  {
   "cell_type": "code",
   "execution_count": 63,
   "metadata": {
    "colab": {
     "base_uri": "https://localhost:8080/"
    },
    "id": "7XuPsTRemotp",
    "outputId": "aa8a758f-2fc4-4523-a688-7c58aaffda13"
   },
   "outputs": [
    {
     "data": {
      "text/plain": [
       "9.911502177610151"
      ]
     },
     "execution_count": 63,
     "metadata": {},
     "output_type": "execute_result"
    }
   ],
   "source": [
    "alpha = ridge_cv.alpha_\n",
    "alpha"
   ]
  },
  {
   "cell_type": "code",
   "execution_count": 89,
   "metadata": {
    "colab": {
     "base_uri": "https://localhost:8080/"
    },
    "id": "fqQIzHROmotr",
    "outputId": "6a52ee1c-bf60-4931-b105-7a5883b88882"
   },
   "outputs": [
    {
     "name": "stdout",
     "output_type": "stream",
     "text": [
      "-6.940882957495731e-06\n"
     ]
    }
   ],
   "source": [
    "print(adj_r2(X_trained_filtered, y_trained_filtered, lasso))"
   ]
  },
  {
   "cell_type": "markdown",
   "metadata": {
    "id": "zx-Yg_j5mots"
   },
   "source": [
    "### Elastic Net"
   ]
  },
  {
   "cell_type": "code",
   "execution_count": 67,
   "metadata": {
    "colab": {
     "base_uri": "https://localhost:8080/",
     "height": 75
    },
    "id": "yTHfd29Zmott",
    "outputId": "d5968089-740a-46b8-bc5b-ad9ab65ac3ae"
   },
   "outputs": [
    {
     "data": {
      "text/html": [
       "<style>#sk-container-id-4 {color: black;background-color: white;}#sk-container-id-4 pre{padding: 0;}#sk-container-id-4 div.sk-toggleable {background-color: white;}#sk-container-id-4 label.sk-toggleable__label {cursor: pointer;display: block;width: 100%;margin-bottom: 0;padding: 0.3em;box-sizing: border-box;text-align: center;}#sk-container-id-4 label.sk-toggleable__label-arrow:before {content: \"▸\";float: left;margin-right: 0.25em;color: #696969;}#sk-container-id-4 label.sk-toggleable__label-arrow:hover:before {color: black;}#sk-container-id-4 div.sk-estimator:hover label.sk-toggleable__label-arrow:before {color: black;}#sk-container-id-4 div.sk-toggleable__content {max-height: 0;max-width: 0;overflow: hidden;text-align: left;background-color: #f0f8ff;}#sk-container-id-4 div.sk-toggleable__content pre {margin: 0.2em;color: black;border-radius: 0.25em;background-color: #f0f8ff;}#sk-container-id-4 input.sk-toggleable__control:checked~div.sk-toggleable__content {max-height: 200px;max-width: 100%;overflow: auto;}#sk-container-id-4 input.sk-toggleable__control:checked~label.sk-toggleable__label-arrow:before {content: \"▾\";}#sk-container-id-4 div.sk-estimator input.sk-toggleable__control:checked~label.sk-toggleable__label {background-color: #d4ebff;}#sk-container-id-4 div.sk-label input.sk-toggleable__control:checked~label.sk-toggleable__label {background-color: #d4ebff;}#sk-container-id-4 input.sk-hidden--visually {border: 0;clip: rect(1px 1px 1px 1px);clip: rect(1px, 1px, 1px, 1px);height: 1px;margin: -1px;overflow: hidden;padding: 0;position: absolute;width: 1px;}#sk-container-id-4 div.sk-estimator {font-family: monospace;background-color: #f0f8ff;border: 1px dotted black;border-radius: 0.25em;box-sizing: border-box;margin-bottom: 0.5em;}#sk-container-id-4 div.sk-estimator:hover {background-color: #d4ebff;}#sk-container-id-4 div.sk-parallel-item::after {content: \"\";width: 100%;border-bottom: 1px solid gray;flex-grow: 1;}#sk-container-id-4 div.sk-label:hover label.sk-toggleable__label {background-color: #d4ebff;}#sk-container-id-4 div.sk-serial::before {content: \"\";position: absolute;border-left: 1px solid gray;box-sizing: border-box;top: 0;bottom: 0;left: 50%;z-index: 0;}#sk-container-id-4 div.sk-serial {display: flex;flex-direction: column;align-items: center;background-color: white;padding-right: 0.2em;padding-left: 0.2em;position: relative;}#sk-container-id-4 div.sk-item {position: relative;z-index: 1;}#sk-container-id-4 div.sk-parallel {display: flex;align-items: stretch;justify-content: center;background-color: white;position: relative;}#sk-container-id-4 div.sk-item::before, #sk-container-id-4 div.sk-parallel-item::before {content: \"\";position: absolute;border-left: 1px solid gray;box-sizing: border-box;top: 0;bottom: 0;left: 50%;z-index: -1;}#sk-container-id-4 div.sk-parallel-item {display: flex;flex-direction: column;z-index: 1;position: relative;background-color: white;}#sk-container-id-4 div.sk-parallel-item:first-child::after {align-self: flex-end;width: 50%;}#sk-container-id-4 div.sk-parallel-item:last-child::after {align-self: flex-start;width: 50%;}#sk-container-id-4 div.sk-parallel-item:only-child::after {width: 0;}#sk-container-id-4 div.sk-dashed-wrapped {border: 1px dashed gray;margin: 0 0.4em 0.5em 0.4em;box-sizing: border-box;padding-bottom: 0.4em;background-color: white;}#sk-container-id-4 div.sk-label label {font-family: monospace;font-weight: bold;display: inline-block;line-height: 1.2em;}#sk-container-id-4 div.sk-label-container {text-align: center;}#sk-container-id-4 div.sk-container {/* jupyter's `normalize.less` sets `[hidden] { display: none; }` but bootstrap.min.css set `[hidden] { display: none !important; }` so we also need the `!important` here to be able to override the default hidden behavior on the sphinx rendered scikit-learn.org. See: https://github.com/scikit-learn/scikit-learn/issues/21755 */display: inline-block !important;position: relative;}#sk-container-id-4 div.sk-text-repr-fallback {display: none;}</style><div id=\"sk-container-id-4\" class=\"sk-top-container\"><div class=\"sk-text-repr-fallback\"><pre>ElasticNetCV(cv=10, max_iter=100000)</pre><b>In a Jupyter environment, please rerun this cell to show the HTML representation or trust the notebook. <br />On GitHub, the HTML representation is unable to render, please try loading this page with nbviewer.org.</b></div><div class=\"sk-container\" hidden><div class=\"sk-item\"><div class=\"sk-estimator sk-toggleable\"><input class=\"sk-toggleable__control sk-hidden--visually\" id=\"sk-estimator-id-4\" type=\"checkbox\" checked><label for=\"sk-estimator-id-4\" class=\"sk-toggleable__label sk-toggleable__label-arrow\">ElasticNetCV</label><div class=\"sk-toggleable__content\"><pre>ElasticNetCV(cv=10, max_iter=100000)</pre></div></div></div></div></div>"
      ],
      "text/plain": [
       "ElasticNetCV(cv=10, max_iter=100000)"
      ]
     },
     "execution_count": 67,
     "metadata": {},
     "output_type": "execute_result"
    }
   ],
   "source": [
    "elastic_net_cv = ElasticNetCV(alphas = None, cv = 10, max_iter = 100000)\n",
    "elastic_net_cv.fit(X_trained_filtered, y_trained_filtered)"
   ]
  },
  {
   "cell_type": "code",
   "execution_count": 68,
   "metadata": {
    "colab": {
     "base_uri": "https://localhost:8080/"
    },
    "id": "GnNA7ql0mott",
    "outputId": "61652d4d-ba9c-4bd4-cdfd-e921695dc945"
   },
   "outputs": [
    {
     "data": {
      "text/plain": [
       "194896475757003.3"
      ]
     },
     "execution_count": 68,
     "metadata": {},
     "output_type": "execute_result"
    }
   ],
   "source": [
    "alpha = elastic_net_cv.alpha_\n",
    "alpha"
   ]
  },
  {
   "cell_type": "code",
   "execution_count": 69,
   "metadata": {
    "colab": {
     "base_uri": "https://localhost:8080/"
    },
    "id": "ZtMfJt_Zmott",
    "outputId": "d287c12a-635e-4f58-c297-0f8e198e5804"
   },
   "outputs": [
    {
     "data": {
      "text/plain": [
       "0.5"
      ]
     },
     "execution_count": 69,
     "metadata": {},
     "output_type": "execute_result"
    }
   ],
   "source": [
    "elastic_net_cv.l1_ratio"
   ]
  },
  {
   "cell_type": "code",
   "execution_count": 70,
   "metadata": {
    "colab": {
     "base_uri": "https://localhost:8080/",
     "height": 75
    },
    "id": "ULGpcoNzmott",
    "outputId": "468bbc82-d424-4bbe-8b59-eb93e856fe1e"
   },
   "outputs": [
    {
     "data": {
      "text/html": [
       "<style>#sk-container-id-5 {color: black;background-color: white;}#sk-container-id-5 pre{padding: 0;}#sk-container-id-5 div.sk-toggleable {background-color: white;}#sk-container-id-5 label.sk-toggleable__label {cursor: pointer;display: block;width: 100%;margin-bottom: 0;padding: 0.3em;box-sizing: border-box;text-align: center;}#sk-container-id-5 label.sk-toggleable__label-arrow:before {content: \"▸\";float: left;margin-right: 0.25em;color: #696969;}#sk-container-id-5 label.sk-toggleable__label-arrow:hover:before {color: black;}#sk-container-id-5 div.sk-estimator:hover label.sk-toggleable__label-arrow:before {color: black;}#sk-container-id-5 div.sk-toggleable__content {max-height: 0;max-width: 0;overflow: hidden;text-align: left;background-color: #f0f8ff;}#sk-container-id-5 div.sk-toggleable__content pre {margin: 0.2em;color: black;border-radius: 0.25em;background-color: #f0f8ff;}#sk-container-id-5 input.sk-toggleable__control:checked~div.sk-toggleable__content {max-height: 200px;max-width: 100%;overflow: auto;}#sk-container-id-5 input.sk-toggleable__control:checked~label.sk-toggleable__label-arrow:before {content: \"▾\";}#sk-container-id-5 div.sk-estimator input.sk-toggleable__control:checked~label.sk-toggleable__label {background-color: #d4ebff;}#sk-container-id-5 div.sk-label input.sk-toggleable__control:checked~label.sk-toggleable__label {background-color: #d4ebff;}#sk-container-id-5 input.sk-hidden--visually {border: 0;clip: rect(1px 1px 1px 1px);clip: rect(1px, 1px, 1px, 1px);height: 1px;margin: -1px;overflow: hidden;padding: 0;position: absolute;width: 1px;}#sk-container-id-5 div.sk-estimator {font-family: monospace;background-color: #f0f8ff;border: 1px dotted black;border-radius: 0.25em;box-sizing: border-box;margin-bottom: 0.5em;}#sk-container-id-5 div.sk-estimator:hover {background-color: #d4ebff;}#sk-container-id-5 div.sk-parallel-item::after {content: \"\";width: 100%;border-bottom: 1px solid gray;flex-grow: 1;}#sk-container-id-5 div.sk-label:hover label.sk-toggleable__label {background-color: #d4ebff;}#sk-container-id-5 div.sk-serial::before {content: \"\";position: absolute;border-left: 1px solid gray;box-sizing: border-box;top: 0;bottom: 0;left: 50%;z-index: 0;}#sk-container-id-5 div.sk-serial {display: flex;flex-direction: column;align-items: center;background-color: white;padding-right: 0.2em;padding-left: 0.2em;position: relative;}#sk-container-id-5 div.sk-item {position: relative;z-index: 1;}#sk-container-id-5 div.sk-parallel {display: flex;align-items: stretch;justify-content: center;background-color: white;position: relative;}#sk-container-id-5 div.sk-item::before, #sk-container-id-5 div.sk-parallel-item::before {content: \"\";position: absolute;border-left: 1px solid gray;box-sizing: border-box;top: 0;bottom: 0;left: 50%;z-index: -1;}#sk-container-id-5 div.sk-parallel-item {display: flex;flex-direction: column;z-index: 1;position: relative;background-color: white;}#sk-container-id-5 div.sk-parallel-item:first-child::after {align-self: flex-end;width: 50%;}#sk-container-id-5 div.sk-parallel-item:last-child::after {align-self: flex-start;width: 50%;}#sk-container-id-5 div.sk-parallel-item:only-child::after {width: 0;}#sk-container-id-5 div.sk-dashed-wrapped {border: 1px dashed gray;margin: 0 0.4em 0.5em 0.4em;box-sizing: border-box;padding-bottom: 0.4em;background-color: white;}#sk-container-id-5 div.sk-label label {font-family: monospace;font-weight: bold;display: inline-block;line-height: 1.2em;}#sk-container-id-5 div.sk-label-container {text-align: center;}#sk-container-id-5 div.sk-container {/* jupyter's `normalize.less` sets `[hidden] { display: none; }` but bootstrap.min.css set `[hidden] { display: none !important; }` so we also need the `!important` here to be able to override the default hidden behavior on the sphinx rendered scikit-learn.org. See: https://github.com/scikit-learn/scikit-learn/issues/21755 */display: inline-block !important;position: relative;}#sk-container-id-5 div.sk-text-repr-fallback {display: none;}</style><div id=\"sk-container-id-5\" class=\"sk-top-container\"><div class=\"sk-text-repr-fallback\"><pre>ElasticNet(alpha=194896475757003.3)</pre><b>In a Jupyter environment, please rerun this cell to show the HTML representation or trust the notebook. <br />On GitHub, the HTML representation is unable to render, please try loading this page with nbviewer.org.</b></div><div class=\"sk-container\" hidden><div class=\"sk-item\"><div class=\"sk-estimator sk-toggleable\"><input class=\"sk-toggleable__control sk-hidden--visually\" id=\"sk-estimator-id-5\" type=\"checkbox\" checked><label for=\"sk-estimator-id-5\" class=\"sk-toggleable__label sk-toggleable__label-arrow\">ElasticNet</label><div class=\"sk-toggleable__content\"><pre>ElasticNet(alpha=194896475757003.3)</pre></div></div></div></div></div>"
      ],
      "text/plain": [
       "ElasticNet(alpha=194896475757003.3)"
      ]
     },
     "execution_count": 70,
     "metadata": {},
     "output_type": "execute_result"
    }
   ],
   "source": [
    "elastic_net = ElasticNet(alpha = elastic_net_cv.alpha_, l1_ratio = elastic_net_cv.l1_ratio)\n",
    "elastic_net.fit(X_trained_filtered, y_trained_filtered)"
   ]
  },
  {
   "cell_type": "code",
   "execution_count": 71,
   "metadata": {
    "colab": {
     "base_uri": "https://localhost:8080/"
    },
    "id": "upOpWjOamotu",
    "outputId": "3dae2520-ef30-48fd-9fc9-4a215b9b9b81"
   },
   "outputs": [
    {
     "data": {
      "text/plain": [
       "0.0"
      ]
     },
     "execution_count": 71,
     "metadata": {},
     "output_type": "execute_result"
    }
   ],
   "source": [
    "elastic_net.score(X_trained_filtered, y_trained_filtered)"
   ]
  },
  {
   "cell_type": "code",
   "execution_count": 72,
   "metadata": {
    "colab": {
     "base_uri": "https://localhost:8080/"
    },
    "id": "9-ikZOrZmotu",
    "outputId": "cb248cfa-79f2-4fac-f69a-581802a8643e"
   },
   "outputs": [
    {
     "data": {
      "text/plain": [
       "-0.0009675561843203173"
      ]
     },
     "execution_count": 72,
     "metadata": {},
     "output_type": "execute_result"
    }
   ],
   "source": [
    "elastic_net.score(X_test_filtered, y_test_filtered)"
   ]
  },
  {
   "cell_type": "code",
   "execution_count": 74,
   "metadata": {
    "colab": {
     "base_uri": "https://localhost:8080/"
    },
    "id": "avyzL5pimotu",
    "outputId": "c1632c21-562a-4da3-b610-8f3442930466"
   },
   "outputs": [
    {
     "name": "stdout",
     "output_type": "stream",
     "text": [
      "-6.940882957495731e-06\n"
     ]
    }
   ],
   "source": [
    "print(adj_r2(X_trained_filtered, y_trained_filtered, elastic_net))"
   ]
  },
  {
   "cell_type": "code",
   "execution_count": 75,
   "metadata": {
    "colab": {
     "base_uri": "https://localhost:8080/"
    },
    "id": "7DwtFWjKmotu",
    "outputId": "a6993747-fe3c-4a49-9d67-f8fa2ae98e19"
   },
   "outputs": [
    {
     "name": "stdout",
     "output_type": "stream",
     "text": [
      "-0.0009837673811978753\n"
     ]
    }
   ],
   "source": [
    "print(adj_r2(X_test_filtered, y_test_filtered, elastic_net))"
   ]
  },
  {
   "cell_type": "markdown",
   "metadata": {
    "id": "L6ekqKSImotv"
   },
   "source": [
    "### Found all 51 states in the transactions and over 726 Merchants and Over multiples hundreds of Zip , City, Job ,Street,DOB, City_Population Not able to Encode also found no influence in Target Variable in my EDA Notebook"
   ]
  },
  {
   "cell_type": "markdown",
   "metadata": {
    "id": "vnSIltrymotv"
   },
   "source": [
    "### Training /Test Datasets Consists of All Numerical Columns and Categorical Variables Gender and Category"
   ]
  },
  {
   "cell_type": "code",
   "execution_count": null,
   "metadata": {
    "id": "_2Khx3vImotw",
    "outputId": "78b59bfb-50ea-495f-aec3-e39476099575"
   },
   "outputs": [
    {
     "data": {
      "text/html": [
       "<div>\n",
       "<style scoped>\n",
       "    .dataframe tbody tr th:only-of-type {\n",
       "        vertical-align: middle;\n",
       "    }\n",
       "\n",
       "    .dataframe tbody tr th {\n",
       "        vertical-align: top;\n",
       "    }\n",
       "\n",
       "    .dataframe thead th {\n",
       "        text-align: right;\n",
       "    }\n",
       "</style>\n",
       "<table border=\"1\" class=\"dataframe\">\n",
       "  <thead>\n",
       "    <tr style=\"text-align: right;\">\n",
       "      <th></th>\n",
       "      <th>cc_num</th>\n",
       "      <th>amt</th>\n",
       "      <th>zip</th>\n",
       "      <th>lat</th>\n",
       "      <th>long</th>\n",
       "      <th>city_pop</th>\n",
       "      <th>unix_time</th>\n",
       "      <th>merch_lat</th>\n",
       "      <th>merch_long</th>\n",
       "      <th>is_fraud</th>\n",
       "      <th>gender</th>\n",
       "      <th>category</th>\n",
       "    </tr>\n",
       "  </thead>\n",
       "  <tbody>\n",
       "    <tr>\n",
       "      <th>0</th>\n",
       "      <td>2703186189652095</td>\n",
       "      <td>4.97</td>\n",
       "      <td>28654</td>\n",
       "      <td>36.0788</td>\n",
       "      <td>-81.1781</td>\n",
       "      <td>3495</td>\n",
       "      <td>1325376018</td>\n",
       "      <td>36.011293</td>\n",
       "      <td>-82.048315</td>\n",
       "      <td>0</td>\n",
       "      <td>0</td>\n",
       "      <td>8</td>\n",
       "    </tr>\n",
       "    <tr>\n",
       "      <th>1</th>\n",
       "      <td>630423337322</td>\n",
       "      <td>107.23</td>\n",
       "      <td>99160</td>\n",
       "      <td>48.8878</td>\n",
       "      <td>-118.2105</td>\n",
       "      <td>149</td>\n",
       "      <td>1325376044</td>\n",
       "      <td>49.159047</td>\n",
       "      <td>-118.186462</td>\n",
       "      <td>0</td>\n",
       "      <td>0</td>\n",
       "      <td>4</td>\n",
       "    </tr>\n",
       "    <tr>\n",
       "      <th>2</th>\n",
       "      <td>38859492057661</td>\n",
       "      <td>220.11</td>\n",
       "      <td>83252</td>\n",
       "      <td>42.1808</td>\n",
       "      <td>-112.2620</td>\n",
       "      <td>4154</td>\n",
       "      <td>1325376051</td>\n",
       "      <td>43.150704</td>\n",
       "      <td>-112.154481</td>\n",
       "      <td>0</td>\n",
       "      <td>1</td>\n",
       "      <td>0</td>\n",
       "    </tr>\n",
       "    <tr>\n",
       "      <th>3</th>\n",
       "      <td>3534093764340240</td>\n",
       "      <td>45.00</td>\n",
       "      <td>59632</td>\n",
       "      <td>46.2306</td>\n",
       "      <td>-112.1138</td>\n",
       "      <td>1939</td>\n",
       "      <td>1325376076</td>\n",
       "      <td>47.034331</td>\n",
       "      <td>-112.561071</td>\n",
       "      <td>0</td>\n",
       "      <td>1</td>\n",
       "      <td>2</td>\n",
       "    </tr>\n",
       "    <tr>\n",
       "      <th>4</th>\n",
       "      <td>375534208663984</td>\n",
       "      <td>41.96</td>\n",
       "      <td>24433</td>\n",
       "      <td>38.4207</td>\n",
       "      <td>-79.4629</td>\n",
       "      <td>99</td>\n",
       "      <td>1325376186</td>\n",
       "      <td>38.674999</td>\n",
       "      <td>-78.632459</td>\n",
       "      <td>0</td>\n",
       "      <td>1</td>\n",
       "      <td>9</td>\n",
       "    </tr>\n",
       "    <tr>\n",
       "      <th>...</th>\n",
       "      <td>...</td>\n",
       "      <td>...</td>\n",
       "      <td>...</td>\n",
       "      <td>...</td>\n",
       "      <td>...</td>\n",
       "      <td>...</td>\n",
       "      <td>...</td>\n",
       "      <td>...</td>\n",
       "      <td>...</td>\n",
       "      <td>...</td>\n",
       "      <td>...</td>\n",
       "      <td>...</td>\n",
       "    </tr>\n",
       "    <tr>\n",
       "      <th>1852389</th>\n",
       "      <td>30560609640617</td>\n",
       "      <td>43.77</td>\n",
       "      <td>63453</td>\n",
       "      <td>40.4931</td>\n",
       "      <td>-91.8912</td>\n",
       "      <td>519</td>\n",
       "      <td>1388534347</td>\n",
       "      <td>39.946837</td>\n",
       "      <td>-91.333331</td>\n",
       "      <td>0</td>\n",
       "      <td>1</td>\n",
       "      <td>5</td>\n",
       "    </tr>\n",
       "    <tr>\n",
       "      <th>1852390</th>\n",
       "      <td>3556613125071656</td>\n",
       "      <td>111.84</td>\n",
       "      <td>77566</td>\n",
       "      <td>29.0393</td>\n",
       "      <td>-95.4401</td>\n",
       "      <td>28739</td>\n",
       "      <td>1388534349</td>\n",
       "      <td>29.661049</td>\n",
       "      <td>-96.186633</td>\n",
       "      <td>0</td>\n",
       "      <td>1</td>\n",
       "      <td>7</td>\n",
       "    </tr>\n",
       "    <tr>\n",
       "      <th>1852391</th>\n",
       "      <td>6011724471098086</td>\n",
       "      <td>86.88</td>\n",
       "      <td>99323</td>\n",
       "      <td>46.1966</td>\n",
       "      <td>-118.9017</td>\n",
       "      <td>3684</td>\n",
       "      <td>1388534355</td>\n",
       "      <td>46.658340</td>\n",
       "      <td>-119.715054</td>\n",
       "      <td>0</td>\n",
       "      <td>0</td>\n",
       "      <td>7</td>\n",
       "    </tr>\n",
       "    <tr>\n",
       "      <th>1852392</th>\n",
       "      <td>4079773899158</td>\n",
       "      <td>7.99</td>\n",
       "      <td>83643</td>\n",
       "      <td>44.6255</td>\n",
       "      <td>-116.4493</td>\n",
       "      <td>129</td>\n",
       "      <td>1388534364</td>\n",
       "      <td>44.470525</td>\n",
       "      <td>-117.080888</td>\n",
       "      <td>0</td>\n",
       "      <td>1</td>\n",
       "      <td>13</td>\n",
       "    </tr>\n",
       "    <tr>\n",
       "      <th>1852393</th>\n",
       "      <td>4170689372027579</td>\n",
       "      <td>38.13</td>\n",
       "      <td>73034</td>\n",
       "      <td>35.6665</td>\n",
       "      <td>-97.4798</td>\n",
       "      <td>116001</td>\n",
       "      <td>1388534374</td>\n",
       "      <td>36.210097</td>\n",
       "      <td>-97.036372</td>\n",
       "      <td>0</td>\n",
       "      <td>1</td>\n",
       "      <td>0</td>\n",
       "    </tr>\n",
       "  </tbody>\n",
       "</table>\n",
       "<p>1852394 rows × 12 columns</p>\n",
       "</div>"
      ],
      "text/plain": [
       "                   cc_num     amt    zip      lat      long  city_pop  \\\n",
       "0        2703186189652095    4.97  28654  36.0788  -81.1781      3495   \n",
       "1            630423337322  107.23  99160  48.8878 -118.2105       149   \n",
       "2          38859492057661  220.11  83252  42.1808 -112.2620      4154   \n",
       "3        3534093764340240   45.00  59632  46.2306 -112.1138      1939   \n",
       "4         375534208663984   41.96  24433  38.4207  -79.4629        99   \n",
       "...                   ...     ...    ...      ...       ...       ...   \n",
       "1852389    30560609640617   43.77  63453  40.4931  -91.8912       519   \n",
       "1852390  3556613125071656  111.84  77566  29.0393  -95.4401     28739   \n",
       "1852391  6011724471098086   86.88  99323  46.1966 -118.9017      3684   \n",
       "1852392     4079773899158    7.99  83643  44.6255 -116.4493       129   \n",
       "1852393  4170689372027579   38.13  73034  35.6665  -97.4798    116001   \n",
       "\n",
       "          unix_time  merch_lat  merch_long  is_fraud  gender  category  \n",
       "0        1325376018  36.011293  -82.048315         0       0         8  \n",
       "1        1325376044  49.159047 -118.186462         0       0         4  \n",
       "2        1325376051  43.150704 -112.154481         0       1         0  \n",
       "3        1325376076  47.034331 -112.561071         0       1         2  \n",
       "4        1325376186  38.674999  -78.632459         0       1         9  \n",
       "...             ...        ...         ...       ...     ...       ...  \n",
       "1852389  1388534347  39.946837  -91.333331         0       1         5  \n",
       "1852390  1388534349  29.661049  -96.186633         0       1         7  \n",
       "1852391  1388534355  46.658340 -119.715054         0       0         7  \n",
       "1852392  1388534364  44.470525 -117.080888         0       1        13  \n",
       "1852393  1388534374  36.210097  -97.036372         0       1         0  \n",
       "\n",
       "[1852394 rows x 12 columns]"
      ]
     },
     "execution_count": 30,
     "metadata": {},
     "output_type": "execute_result"
    }
   ],
   "source": [
    "CharEncoder(X_sample)"
   ]
  },
  {
   "cell_type": "code",
   "execution_count": null,
   "metadata": {
    "id": "naAEFMR_zIZ9"
   },
   "outputs": [],
   "source": [
    "y_sample=df[['is_fraud']]"
   ]
  },
  {
   "cell_type": "code",
   "execution_count": null,
   "metadata": {
    "colab": {
     "base_uri": "https://localhost:8080/"
    },
    "id": "2241966a",
    "outputId": "03c24a51-5781-4db3-e564-4594285ddfd2"
   },
   "outputs": [
    {
     "name": "stdout",
     "output_type": "stream",
     "text": [
      "X shape: (1852394, 12)\n",
      "y shape: (1852394, 1)\n"
     ]
    }
   ],
   "source": [
    "print(f'X shape: {X_sample.shape}\\ny shape: {y_sample.shape}')\n"
   ]
  },
  {
   "cell_type": "code",
   "execution_count": null,
   "metadata": {
    "id": "475a93d6"
   },
   "outputs": [],
   "source": [
    "# Run the prep_data function\n",
    "X_sample, y_sample = prep_data(df)"
   ]
  },
  {
   "cell_type": "markdown",
   "metadata": {
    "id": "XaI-u_fqmotx"
   },
   "source": [
    "### SMOTE"
   ]
  },
  {
   "cell_type": "code",
   "execution_count": 78,
   "metadata": {
    "id": "o8pV43gdmotx"
   },
   "outputs": [],
   "source": [
    "os = SMOTE(random_state=123)\n",
    "\n",
    "os_data_X,os_data_y=os.fit_resample(X_trained_filtered,y_trained_filtered)\n",
    "\n",
    "os_data_X = pd.DataFrame(data=os_data_X,columns=X_trained_filtered.columns )\n",
    "\n",
    "os_data_y= pd.DataFrame(data=os_data_y,columns=['y'])"
   ]
  },
  {
   "cell_type": "markdown",
   "metadata": {
    "id": "AyxB5OJrmoty"
   },
   "source": [
    "# Logistic Regression:\n",
    "\n",
    "1. Logistic regression is probably the most important supervised learning classification method.\n",
    "2. Logistic regression makes an excellent baseline algorithm. It works well when the relationship between the features and the target aren’t too complex.\n",
    "3. It produces feature weights that are generally interpretable, which makes it especially useful when you need to be able to explain the reasons for a decision.\n",
    "\n",
    "***IS Scaling Necessay ??***\n",
    " To be safe, it is best to scale data.\n",
    "\n",
    "***Should I remove outliers?***\n",
    "Standardizing the inputs would reduce outliers’ effects.\n",
    "\n",
    "\n",
    "***Which other assumptions really matter?***\n",
    "Observations should be independent of each other.\n",
    "\n",
    "\n",
    "***Should I do dimensionality reduction if there are lots of features?***\n",
    "Recursive Feature Elimination help us remove the least important features.\n",
    "***Alternatively, L1 regularization can drive less important feature weights to zero if we are using the saga solver.***\n",
    "\n",
    "\n",
    "***Is multicollinearity in my features a problem?***\n",
    "It is for interpretation of the feature importances. You can’t rely on the model weights to be meaningful when there is high correlation between the variables. Credit for affecting the outcome variable might go to just one of the correlated features.\n",
    "There are many ways to test for multicollinearity.\n",
    "\n",
    "The correlation coefficients is one of them however correlation coefficients alone are not sufficient to determine problematic multicollinearity with multiple features.\n",
    "\n",
    "\n",
    "***Overfitting and Regulazation: ***\n",
    "\n",
    "Overfitting is a phenomenon that occurs when a machine learning or statistics model is tailored to a particular dataset and is unable to generalise to other datasets i.e. performs poorely with test dataset.\n",
    "\n",
    "***Regularisation*** is a process of introducing additional information in order to prevent overfitting.\n",
    "\n",
    "***l1, l2 or L1 , L2 are penalty. ***  \n",
    "\n",
    "L1 and L2 in logistic regression work by using gradient descent. Gradient descent is simply a method to find the ‘right’ coefficients through iterative updates using the value of the gradient.\n",
    "\n",
    "We want less than perfectly fit model, with the hope that our model can also get close predictions with other test data.  \n",
    "\n",
    "To make the model less perfect we introduce some penalty term λ which makes us shift away from the very w (weight) that was going to cause us overfitting problems. We can prevent overfitting if we set an appropriate value of λ, though too large a value will cause the model to be severely underfitted.\n",
    "\n",
    "This is of course pointless in a 1-variable linear regression model, but will prove its effectiveness to ‘remove’ useless variables in multivariate regression models. You can also think of L1 as reducing the number of features in the model altogether.\n",
    "\n",
    "***L1 - pushing w (weight) towards 0***\n",
    "\n",
    "e.g Model:\n",
    "\n",
    "y_hat = 0.45X1 - 0.0007X2 + 0.325X3 + 0.0009X4 + 0.001X5-0.55X6\n",
    "\n",
    "in the equation above weight (w) goes to 0, we are reducing the number of features by reducing the variable importance. In the equation above, we see that X2, X4 and X55 are almost ‘useless’ because of their small coefficients, hence we can remove them from the equation. This in turn reduces the model complexity, making our model simpler. A simpler model can reduce the chances of overfitting.\n",
    "\n",
    "regularisation parameter λ > 0 is manually tuned\n",
    "\n",
    "L2 believed to be  better for classification tasks\n",
    "\n",
    "L1: new weight = (w-λ) - H, w >0\n",
    "\n",
    "               (w+λ) - H, w >0\n",
    "                 \n",
    "L2: new weight = (w-2λw) - H (doubling of regularization paramter)\n",
    "\n",
    "w (‘weight’) and b (‘bias’)\n",
    "\n",
    "H = 2X(wX + b - y)\n",
    "\n",
    "y = true value\n",
    "\n",
    "L = (y_hat - y)^2\n",
    "\n",
    "    = (wx + b - y)2\n",
    "    \n",
    "\n",
    "***Imbalance Data ***\n",
    "\n",
    "The LogisticRegression class provides the class_weight argument that can be specified as a model hyperparameter. The class_weight is a dictionary that defines each class label (e.g. 0 and 1) and the weighting to apply in the calculation of the negative log likelihood when fitting the model.\n",
    "\n",
    "For example, a 1 to 1 weighting for each class 0 and 1 can be defined as follows:\n",
    "\n",
    "\n",
    "weights = {0:1.0, 1:1.0}\n",
    "model = LogisticRegression(solver='lbfgs', class_weight=weights)\n",
    "Tuning - determined by a hyperparameter search such as a grid search.\n",
    "\n",
    "A best practice for using the class weighting is to use the inverse of the class distribution present in the training dataset.\n",
    "\n",
    "For example, the class distribution of the training dataset is a 1:100 ratio for the minority class to the majority class. The inversion of this ratio could be used with 1 for the majority class and 100 for the minority class; for example:\n",
    "\n",
    "weights = {0:1.0, 1:100.0}\n",
    "model = LogisticRegression(solver='lbfgs', class_weight=weights)\n",
    "\n",
    "\n",
    "In in this problem we are using ***SMOTE*** technique.\n",
    "\n",
    "***Cost (C)***\n",
    "C : float, default=1.0\n",
    "    Inverse of regularization strength; must be a positive float.\n",
    "    Like in support vector machines, smaller values specify stronger\n",
    "    regularization.\n",
    "    \n",
    "    C is the inverse of lambda in linear regression. For small values of C, we increase the regularization strength which will create simple models which underfit the data. For big values of C, we low the power of regularization which imples the model is allowed to increase it's complexity, and therefore, overfit the data. Our goal is to choose best C that offers the smallest difference between the training and testing accuracy"
   ]
  },
  {
   "cell_type": "markdown",
   "metadata": {
    "id": "PV83PgVxmot8"
   },
   "source": [
    "##### Logit Model on Untunned parameters\n",
    "The class_weight= “balanced” mode uses the values of y to automatically adjust weights inversely proportional to class frequencies in the input data. it basically means replicating the smaller class until you have as many samples as in the larger one, but in an implicit way.\n",
    "Another way to deal with imbalanced data is to apply a technique called SMOTE. Which we are using."
   ]
  },
  {
   "cell_type": "code",
   "execution_count": 93,
   "metadata": {
    "colab": {
     "base_uri": "https://localhost:8080/"
    },
    "id": "uO9pTZWNmot9",
    "outputId": "a9bb01ab-4f39-476e-bc5e-2fc70211c3b5"
   },
   "outputs": [
    {
     "name": "stdout",
     "output_type": "stream",
     "text": [
      "Accuracy is : 0.9961401355721147\n",
      "CPU times: user 842 ms, sys: 517 ms, total: 1.36 s\n",
      "Wall time: 865 ms\n"
     ]
    }
   ],
   "source": [
    "%%time\n",
    "# Logistic Regression\n",
    "lr_clf = LogisticRegression(penalty='l2', C=1.0, class_weight='balanced', solver='liblinear')\n",
    "\n",
    "# Train the model on Balanced data using SMOTE technique\n",
    "lr_clf.fit(X_trained_filtered,y_trained_filtered)\n",
    "# Make Prediction on test data\n",
    "yhat = lr_clf.predict(X_test_filtered)\n",
    "# Get accuracy\n",
    "accuracy = mt.accuracy_score(y_test_filtered,yhat)\n",
    "print('Accuracy is :',accuracy)"
   ]
  },
  {
   "cell_type": "markdown",
   "metadata": {
    "id": "gspRrZGomot9"
   },
   "source": [
    "### Hyper Parameter Tuning"
   ]
  },
  {
   "cell_type": "code",
   "execution_count": 94,
   "metadata": {
    "colab": {
     "base_uri": "https://localhost:8080/"
    },
    "id": "VpuTYeCMmot-",
    "outputId": "b71162b3-a03a-499b-a1f9-a379c52889c7"
   },
   "outputs": [
    {
     "name": "stdout",
     "output_type": "stream",
     "text": [
      "Best Parameters are \n",
      ": {'C': 100, 'class_weight': 'balanced', 'penalty': 'l2', 'solver': 'lbfgs'}\n",
      "CPU times: user 48.7 s, sys: 13.4 s, total: 1min 2s\n",
      "Wall time: 1h 16min 58s\n"
     ]
    }
   ],
   "source": [
    "%%time\n",
    "model = LogisticRegression()\n",
    "solvers = ['newton-cg', 'lbfgs', 'liblinear']\n",
    "penalty = ['l2','l1']\n",
    "class_weight=['balanced','None']\n",
    "c_values = [100, 10, 1.0, 0.1, 0.01]\n",
    "# define grid search\n",
    "grid = dict(solver=solvers,penalty=penalty,C=c_values,class_weight=class_weight)\n",
    "kf = KFold(n_splits = 3, shuffle = True, random_state = 123)\n",
    "grid_search = GridSearchCV(estimator=model, param_grid=grid, n_jobs=-1, cv=kf, scoring='accuracy',error_score=0)\n",
    "grid_result = grid_search.fit(X_test_filtered,y_test_filtered)\n",
    "print('Best Parameters are \\n:',grid_result.best_params_)"
   ]
  },
  {
   "cell_type": "markdown",
   "metadata": {
    "id": "WP_vjgjrmot-"
   },
   "source": [
    "### Logit Model Using Tunned Parameters"
   ]
  },
  {
   "cell_type": "code",
   "execution_count": 98,
   "metadata": {
    "colab": {
     "base_uri": "https://localhost:8080/"
    },
    "id": "5iUrSyqTmot-",
    "outputId": "396d7714-a194-4c02-9dbe-717558bc030b"
   },
   "outputs": [
    {
     "name": "stdout",
     "output_type": "stream",
     "text": [
      "Accuracy is : 0.9961401355721147\n"
     ]
    }
   ],
   "source": [
    "# Logistic Regression\n",
    "lr_clf_tunned = LogisticRegression(penalty='l2', C=100, class_weight=None, solver='newton-cg')\n",
    "# Train the model on Balanced data using SMOTE technique\n",
    "lr_clf_tunned.fit(X_trained_filtered,y_trained_filtered)\n",
    "# Make Prediction on test data\n",
    "y_hat = lr_clf_tunned.predict(X_test_filtered)\n",
    "# Get accuracy\n",
    "accuracy = mt.accuracy_score(y_test_filtered,y_hat)\n",
    "print('Accuracy is :',accuracy)"
   ]
  },
  {
   "cell_type": "code",
   "execution_count": 115,
   "metadata": {
    "colab": {
     "base_uri": "https://localhost:8080/",
     "height": 487
    },
    "id": "YnG5goT2A2Td",
    "outputId": "4800e1fa-5a5f-48b3-a3bc-236cec098a35"
   },
   "outputs": [
    {
     "data": {
      "image/png": "[encoded data removed]",
      "text/plain": [
       "<Figure size 640x480 with 1 Axes>"
      ]
     },
     "metadata": {},
     "output_type": "display_data"
    }
   ],
   "source": [
    "#Scale your data\n",
    "scaler = StandardScaler()\n",
    "scaler.fit(X_trained_filtered)\n",
    "X_scaled = pd.DataFrame(scaler.transform(X_trained_filtered),columns = X_trained_filtered.columns)\n",
    "\n",
    "clf = LogisticRegression(random_state = 0)\n",
    "clf.fit(X_scaled,y_trained_filtered)\n",
    "\n",
    "feature_importance = abs(clf.coef_[0])\n",
    "feature_importance = 100.0 * (feature_importance / feature_importance.max())\n",
    "sorted_idx = np.argsort(feature_importance)\n",
    "pos = np.arange(sorted_idx.shape[0]) + .5\n",
    "\n",
    "featfig = plt.figure()\n",
    "featax = featfig.add_subplot(1, 1, 1)\n",
    "featax.barh(pos, feature_importance[sorted_idx], align='center')\n",
    "featax.set_yticks(pos)\n",
    "featax.set_yticklabels(np.array(X_trained_filtered.columns)[sorted_idx], fontsize=8)\n",
    "featax.set_xlabel('Relative Feature Importance')\n",
    "\n",
    "plt.tight_layout()\n",
    "plt.show()"
   ]
  },
  {
   "cell_type": "code",
   "execution_count": 100,
   "metadata": {
    "colab": {
     "base_uri": "https://localhost:8080/"
    },
    "id": "Fw69mlU0sIvL",
    "outputId": "11ee8792-c2e5-42ce-b4ea-d7d8108a72cb"
   },
   "outputs": [
    {
     "name": "stdout",
     "output_type": "stream",
     "text": [
      "ShuffleSplit(n_splits=5, random_state=123, test_size=0.2, train_size=None)\n"
     ]
    }
   ],
   "source": [
    "num_cv_iterations = 5\n",
    "cv_object = ShuffleSplit(n_splits=num_cv_iterations,\n",
    "                        random_state=123,\n",
    "                        test_size  = 0.2)\n",
    "\n",
    "print(cv_object)"
   ]
  },
  {
   "cell_type": "code",
   "execution_count": 102,
   "metadata": {
    "colab": {
     "base_uri": "https://localhost:8080/"
    },
    "id": "Ec8JZx8esgv5",
    "outputId": "1c2bfa80-f3b6-4f84-f999-b19eb381e328"
   },
   "outputs": [
    {
     "name": "stdout",
     "output_type": "stream",
     "text": [
      "Cross Validation Score Accuracy:  [0.99433166 0.99411958 0.99405788 0.99391521 0.99414271]\n"
     ]
    }
   ],
   "source": [
    "cvl_score_sf = cross_val_score(lr_clf_tunned,X_test_filtered,y_test_filtered,cv=cv_object,scoring='accuracy')\n",
    "print('Cross Validation Score Accuracy: ',cvl_score_sf)"
   ]
  },
  {
   "cell_type": "code",
   "execution_count": 103,
   "metadata": {
    "colab": {
     "base_uri": "https://localhost:8080/"
    },
    "id": "37x6Fjjcskyw",
    "outputId": "902b0eb8-72bd-4e4a-82c9-de5f0f74d421"
   },
   "outputs": [
    {
     "name": "stdout",
     "output_type": "stream",
     "text": [
      "0.9941 accuracy with a standard deviation of 0.0001\n"
     ]
    }
   ],
   "source": [
    "print(\"%0.4f accuracy with a standard deviation of %0.4f\" % (cvl_score_sf.mean(), cvl_score_sf.std()))"
   ]
  },
  {
   "cell_type": "code",
   "execution_count": 104,
   "metadata": {
    "colab": {
     "base_uri": "https://localhost:8080/"
    },
    "id": "nIB8gID5snqw",
    "outputId": "196052b3-5f3d-4910-c263-afc4a0883ebe"
   },
   "outputs": [
    {
     "data": {
      "text/plain": [
       "array([[553574,      0],\n",
       "       [  2145,      0]])"
      ]
     },
     "execution_count": 104,
     "metadata": {},
     "output_type": "execute_result"
    }
   ],
   "source": [
    "cm=confusion_matrix(y_test_filtered,y_hat)\n",
    "cm"
   ]
  },
  {
   "cell_type": "code",
   "execution_count": 105,
   "metadata": {
    "colab": {
     "base_uri": "https://localhost:8080/"
    },
    "id": "MMbbB4oLsuKA",
    "outputId": "d0fcc469-5107-42ae-f73a-98c488ed1e5d"
   },
   "outputs": [
    {
     "data": {
      "text/plain": [
       "array([[0.99614014, 0.        ],\n",
       "       [0.00385986, 0.        ]])"
      ]
     },
     "execution_count": 105,
     "metadata": {},
     "output_type": "execute_result"
    }
   ],
   "source": [
    "cm/np.sum(cm)"
   ]
  },
  {
   "cell_type": "code",
   "execution_count": 106,
   "metadata": {
    "colab": {
     "base_uri": "https://localhost:8080/",
     "height": 468
    },
    "id": "WGKW68EOsuuh",
    "outputId": "47b9a4fa-df7a-4db1-dced-a7d2963df399"
   },
   "outputs": [
    {
     "data": {
      "image/png": "[encoded data removed]",
      "text/plain": [
       "<Figure size 700x500 with 2 Axes>"
      ]
     },
     "metadata": {},
     "output_type": "display_data"
    }
   ],
   "source": [
    "group_names = ['True Neg','False Pos','False Neg','True Pos']\n",
    "group_counts = ['{0:0.0f}'.format(value) for value in cm.flatten()]\n",
    "group_percentages = ['{0:.2%}'.format(value) for value in cm.flatten()/np.sum(cm)]\n",
    "labels = [f\"{var1}\\n{var2}\\n{var3}\" for var1,var2,var3 in zip(group_names,group_counts,group_percentages)]\n",
    "\n",
    "labels = np.asarray(labels).reshape(2,2)\n",
    "plt.figure(figsize=(7,5))\n",
    "sns.heatmap(cm,\n",
    "            annot=labels,\n",
    "            fmt='',\n",
    "            cmap='coolwarm',\n",
    "            xticklabels=['Negative or 0','Positive or 1'],\n",
    "            yticklabels=['Negative or 0','Positive or 1'],\n",
    "            annot_kws={'size':16})\n",
    "plt.title('Confusion Matrix')\n",
    "plt.show()"
   ]
  },
  {
   "cell_type": "code",
   "execution_count": 107,
   "metadata": {
    "colab": {
     "base_uri": "https://localhost:8080/"
    },
    "id": "vHktskDuszHg",
    "outputId": "77862b60-5f52-4fe3-9b88-701b2d4ade7f"
   },
   "outputs": [
    {
     "name": "stdout",
     "output_type": "stream",
     "text": [
      "Logistic Regression Classification Precission Is=  0.0\n"
     ]
    }
   ],
   "source": [
    "print('Logistic Regression Classification Precission Is= ', mt.precision_score(y_test_filtered,y_hat))"
   ]
  },
  {
   "cell_type": "code",
   "execution_count": 108,
   "metadata": {
    "colab": {
     "base_uri": "https://localhost:8080/"
    },
    "id": "_jIACNVDs4Jg",
    "outputId": "35a94144-0208-403f-9c67-ee67683219a9"
   },
   "outputs": [
    {
     "name": "stdout",
     "output_type": "stream",
     "text": [
      "Logistic Regression Classification Recall Is= 0.0\n"
     ]
    }
   ],
   "source": [
    "print('Logistic Regression Classification Recall Is=', mt.recall_score(y_test_filtered,y_hat))"
   ]
  },
  {
   "cell_type": "code",
   "execution_count": 109,
   "metadata": {
    "colab": {
     "base_uri": "https://localhost:8080/"
    },
    "id": "XcaF-TZns_Gw",
    "outputId": "94ebfb54-ed92-40ec-fc8f-ed1f7315f0c5"
   },
   "outputs": [
    {
     "name": "stdout",
     "output_type": "stream",
     "text": [
      "Logistic Reg Classificatin Report:\n",
      "\n",
      "              precision    recall  f1-score   support\n",
      "\n",
      "           0       1.00      1.00      1.00    553574\n",
      "           1       0.00      0.00      0.00      2145\n",
      "\n",
      "    accuracy                           1.00    555719\n",
      "   macro avg       0.50      0.50      0.50    555719\n",
      "weighted avg       0.99      1.00      0.99    555719\n",
      "\n"
     ]
    }
   ],
   "source": [
    "print('Logistic Reg Classificatin Report:\\n')\n",
    "print(mt.classification_report(y_test_filtered,y_hat))"
   ]
  },
  {
   "cell_type": "code",
   "execution_count": 110,
   "metadata": {
    "colab": {
     "base_uri": "https://localhost:8080/"
    },
    "id": "cEw6YiaStCxA",
    "outputId": "837f2f4f-4e31-4ea6-aec6-ba12729a4da6"
   },
   "outputs": [
    {
     "name": "stdout",
     "output_type": "stream",
     "text": [
      "LR ROC: 0.5\n"
     ]
    }
   ],
   "source": [
    "rf_roc_auc = roc_auc_score(y_test_filtered,y_hat)\n",
    "print('LR ROC:',rf_roc_auc)"
   ]
  },
  {
   "cell_type": "code",
   "execution_count": 111,
   "metadata": {
    "colab": {
     "base_uri": "https://localhost:8080/",
     "height": 472
    },
    "id": "_brST2SftGiX",
    "outputId": "c9ee5b38-c5f2-4e7f-e349-ec9f8fe601e1"
   },
   "outputs": [
    {
     "data": {
      "image/png": "[encoded data removed]",
      "text/plain": [
       "<Figure size 640x480 with 1 Axes>"
      ]
     },
     "metadata": {},
     "output_type": "display_data"
    }
   ],
   "source": [
    "# plot the ROC curve from SMOTE Balanced logistic regression\n",
    "logit_roc_auc = roc_auc_score(y_test_filtered, y_hat)\n",
    "fpr, tpr, thresholds = roc_curve(y_test_filtered, y_hat)\n",
    "plt.figure()\n",
    "plt.plot(fpr, tpr, label='Logistic Regression (area = %0.2f)' % logit_roc_auc)\n",
    "plt.plot([0, 1], [0, 1],'b--')\n",
    "plt.xlim([0.0, 1.0])\n",
    "plt.ylim([0.0, 1.05])\n",
    "plt.xlabel('False Positive Rate')\n",
    "plt.ylabel('True Positive Rate')\n",
    "plt.title('Receiver operating characteristic')\n",
    "plt.legend(loc=\"lower right\")\n",
    "plt.show()"
   ]
  },
  {
   "cell_type": "code",
   "execution_count": 117,
   "metadata": {
    "id": "I6BLGUBqtOUB"
   },
   "outputs": [],
   "source": [
    "# Create pandas series of features weight and column names\n",
    "features_weights_pds = pd.Series(lr_clf_tunned.coef_[0],index=X_trained_filtered.columns)\n",
    "# Arrage features weights in descending order\n",
    "features_weights_pds=features_weights_pds.sort_values(ascending=False)\n"
   ]
  },
  {
   "cell_type": "code",
   "execution_count": 118,
   "metadata": {
    "id": "9y1iumIktRFZ"
   },
   "outputs": [],
   "source": [
    "# Get only top 20 featuures\n",
    "top_20_features=features_weights_pds.head(20)"
   ]
  },
  {
   "cell_type": "code",
   "execution_count": 119,
   "metadata": {
    "colab": {
     "base_uri": "https://localhost:8080/",
     "height": 693
    },
    "id": "0q_RN19utUWj",
    "outputId": "4deca609-284e-4bd9-a731-1a1c483bf120"
   },
   "outputs": [
    {
     "data": {
      "image/png": "[encoded data removed]",
      "text/plain": [
       "<Figure size 1000x700 with 1 Axes>"
      ]
     },
     "metadata": {},
     "output_type": "display_data"
    }
   ],
   "source": [
    "plt.style.use('seaborn-whitegrid')\n",
    "plt.figure(figsize=(10,7))\n",
    "top_20_features.plot(kind='bar',)\n",
    "plt.xlabel('Features')\n",
    "plt.ylabel('Weight of the Features')\n",
    "plt.title('Top 20 Features According To Logit Model')\n",
    "plt.show()"
   ]
  },
  {
   "cell_type": "code",
   "execution_count": null,
   "metadata": {
    "id": "grmEOoANmouA",
    "outputId": "ab6721ef-9b96-4161-a1d0-990dcd2baef6"
   },
   "outputs": [
    {
     "name": "stdout",
     "output_type": "stream",
     "text": [
      "(1296675, 21) (1296675,)\n"
     ]
    }
   ],
   "source": [
    "# Splitting Target Is Fraud and Predictors\n",
    "#index_cols = ['cc_num']\n",
    "response = 'is_fraud'\n",
    "X_train, y_train = train.drop(response, axis=1), train[response]\n",
    "print(X_train.shape, y_train.shape)"
   ]
  },
  {
   "cell_type": "code",
   "execution_count": null,
   "metadata": {
    "id": "xMiOV-QFmouC",
    "outputId": "2740d5be-f934-410c-9e57-075c17092f10"
   },
   "outputs": [
    {
     "name": "stdout",
     "output_type": "stream",
     "text": [
      "(555719, 21) (555719,)\n"
     ]
    }
   ],
   "source": [
    "X_test, y_test = test.drop(response, axis=1), test[response]\n",
    "print(X_test.shape, y_test.shape)"
   ]
  },
  {
   "cell_type": "code",
   "execution_count": null,
   "metadata": {
    "id": "zCsl294EmouD",
    "outputId": "b3507989-6468-4f10-e3f6-9242040f4e5c"
   },
   "outputs": [
    {
     "name": "stdout",
     "output_type": "stream",
     "text": [
      "[0]\tTest-error:0.00386\n",
      "Will train until Test-error hasn't improved in 15 rounds.\n",
      "[1]\tTest-error:0.00386\n",
      "[2]\tTest-error:0.00386\n",
      "[3]\tTest-error:0.00304\n",
      "[4]\tTest-error:0.00386\n",
      "[5]\tTest-error:0.00386\n",
      "[6]\tTest-error:0.00386\n",
      "[7]\tTest-error:0.00386\n",
      "[8]\tTest-error:0.00386\n",
      "[9]\tTest-error:0.00386\n",
      "[10]\tTest-error:0.00386\n",
      "[11]\tTest-error:0.00353\n",
      "[12]\tTest-error:0.00344\n",
      "[13]\tTest-error:0.00352\n",
      "[14]\tTest-error:0.00358\n",
      "[15]\tTest-error:0.00346\n",
      "[16]\tTest-error:0.00354\n",
      "[17]\tTest-error:0.00327\n",
      "[18]\tTest-error:0.00347\n",
      "Stopping. Best iteration:\n",
      "[3]\tTest-error:0.00304\n",
      "\n"
     ]
    }
   ],
   "source": [
    "dtrain, dtest = xgb.DMatrix(data = X_trained_filtered, label = y_trained_filtered), xgb.DMatrix(data=X_test_filtered, label = y_test_filtered)\n",
    "\n",
    "params = {\"objective\":\"binary:logistic\", 'colsample_bytree':0.3, 'alpha':10}\n",
    "\n",
    "parameters = {'objective': 'binary:logistic',\n",
    "  'colsample_bytree': 0.9,\n",
    "  'alpha': 10,\n",
    "  'max_depth': 8,\n",
    "  'min_child_weight': 9,\n",
    "  'subsample': 0.7,\n",
    "  'enable_categorical':True,\n",
    "  'eta': 0.1}\n",
    "\n",
    "model = xgb.train( params,\n",
    "    dtrain,\n",
    "    num_boost_round=999,\n",
    "    evals=[(dtest, \"Test\")],\n",
    "    early_stopping_rounds=15\n",
    ")"
   ]
  },
  {
   "cell_type": "code",
   "execution_count": null,
   "metadata": {
    "id": "jRfmRN2wmouE",
    "outputId": "b252a185-b18c-4eef-f2e4-d8e27a776233"
   },
   "outputs": [
    {
     "data": {
      "image/png": "[encoded data removed]",
      "text/plain": [
       "<Figure size 720x720 with 1 Axes>"
      ]
     },
     "metadata": {
      "needs_background": "light"
     },
     "output_type": "display_data"
    }
   ],
   "source": [
    "#Features Important Plot provides clearly provides importance of each predictors\n",
    "feature_importance_plot(model, max_features=15,height= 0.8)"
   ]
  },
  {
   "cell_type": "markdown",
   "metadata": {
    "id": "hpJhoVJwmouF"
   },
   "source": [
    "### The Above Plot shows Importance Features UnixTime and lat, Long not important compared to others"
   ]
  },
  {
   "cell_type": "markdown",
   "metadata": {
    "id": "d446nH9emouF"
   },
   "source": [
    "### Features Summary Report [See later section/blocks]"
   ]
  },
  {
   "cell_type": "code",
   "execution_count": null,
   "metadata": {
    "id": "2Tnq1znBmouG"
   },
   "outputs": [],
   "source": [
    "logreg = LogisticRegression()\n",
    "rfe_full = RFE(logreg, n_features_to_select=20,step=1)\n",
    "#Feed scalled features into rfe\n",
    "rfe_full = rfe_full.fit(X_train,y_train)\n",
    "#Cannot Fit with Timestamp"
   ]
  },
  {
   "cell_type": "code",
   "execution_count": null,
   "metadata": {
    "id": "4Q1D4QqmmouG"
   },
   "outputs": [],
   "source": [
    "for f,i in zip(X_train.columns.values,rfe_full.ranking_):\n",
    "    print('Feature Name:',f,'Important Rank', '--->',i)\n",
    "#Need to only use selected features ,so dropped then used X_trained_filtered and y_trained_filtered used previous  blocks and got Feature Importance Report"
   ]
  },
  {
   "cell_type": "code",
   "execution_count": null,
   "metadata": {
    "id": "FHK2P6psmouG"
   },
   "outputs": [],
   "source": [
    "#Getting Summary Report\n",
    "logit_model  = sm.Logit(X_train_rus,y_train_rus)\n",
    "results = logit_model.fit()\n",
    "print(results.summary2())"
   ]
  },
  {
   "cell_type": "code",
   "execution_count": null,
   "metadata": {
    "id": "02bf5766"
   },
   "outputs": [],
   "source": [
    "# Obtain model predictions\n",
    "predicted_rus = model_lr_rus.predict(X_test_rus)\n"
   ]
  },
  {
   "cell_type": "markdown",
   "metadata": {
    "id": "MSmdgx_jmouH"
   },
   "source": [
    "### Feature Selection Summary Report"
   ]
  },
  {
   "cell_type": "code",
   "execution_count": null,
   "metadata": {
    "id": "KvATVKaL1uTF"
   },
   "outputs": [],
   "source": [
    "logreg = LogisticRegression()\n",
    "rfe_ros = RFE(logreg, n_features_to_select=20,step=1)\n",
    "# Feed scalled features into rfe\n",
    "rfe = rfe_ros.fit(X_train_rus,y_train_rus)"
   ]
  },
  {
   "cell_type": "code",
   "execution_count": null,
   "metadata": {
    "colab": {
     "base_uri": "https://localhost:8080/"
    },
    "id": "RdcHfLJp1vE9",
    "outputId": "f2de0e48-71b0-42b9-beae-894d7ae37f5c"
   },
   "outputs": [
    {
     "name": "stdout",
     "output_type": "stream",
     "text": [
      "Feature Name: cc_num Important Rank ---> 1\n",
      "Feature Name: amt Important Rank ---> 1\n",
      "Feature Name: zip Important Rank ---> 1\n",
      "Feature Name: lat Important Rank ---> 1\n",
      "Feature Name: long Important Rank ---> 1\n",
      "Feature Name: city_pop Important Rank ---> 1\n",
      "Feature Name: unix_time Important Rank ---> 1\n",
      "Feature Name: merch_lat Important Rank ---> 1\n",
      "Feature Name: merch_long Important Rank ---> 1\n",
      "Feature Name: is_fraud Important Rank ---> 1\n",
      "Feature Name: gender Important Rank ---> 1\n",
      "Feature Name: category Important Rank ---> 1\n"
     ]
    }
   ],
   "source": [
    "for f,i in zip(X_train_rus.columns.values,rfe.ranking_):\n",
    "    print('Feature Name:',f,'Important Rank', '--->',i)"
   ]
  },
  {
   "cell_type": "markdown",
   "metadata": {
    "id": "7faba34a"
   },
   "source": [
    "### Models Predictors and Feature Selection and Validation"
   ]
  },
  {
   "cell_type": "markdown",
   "metadata": {
    "id": "06372171"
   },
   "source": [
    "### Training/Testing Data Preparation"
   ]
  },
  {
   "cell_type": "code",
   "execution_count": null,
   "metadata": {
    "id": "3dfa855d"
   },
   "outputs": [],
   "source": [
    "df['trans_date_trans_time'] = pd.to_datetime(df['trans_date_trans_time'])"
   ]
  },
  {
   "cell_type": "code",
   "execution_count": null,
   "metadata": {
    "id": "7875d728",
    "outputId": "277bd2dc-8f18-48cb-f2bf-b3017418d119"
   },
   "outputs": [
    {
     "name": "stdout",
     "output_type": "stream",
     "text": [
      "Shape of Dataset = (1296675, 22) (555719, 22)\n",
      "Mean Fraud Rate  = 0.005788651743883394 0.0038598644278853163\n"
     ]
    }
   ],
   "source": [
    "\n",
    "train = df[df['trans_date_trans_time']<=pd.to_datetime('2020-06-21 12:13:37')]\n",
    "test  = df[df['trans_date_trans_time']>=pd.to_datetime('2020-06-21 12:14:25')]\n",
    "\n",
    "print('Shape of Dataset =', train.shape, test.shape)\n",
    "print('Mean Fraud Rate  =', train['is_fraud'].mean(), test['is_fraud'].mean())\n"
   ]
  },
  {
   "cell_type": "code",
   "execution_count": null,
   "metadata": {
    "id": "b3818bf0",
    "outputId": "92ae0a45-2775-49ac-e0f6-3c7933f1de5a"
   },
   "outputs": [
    {
     "data": {
      "text/plain": [
       "trans_date_trans_time    datetime64[ns]\n",
       "cc_num                            int64\n",
       "merchant                         object\n",
       "category                         object\n",
       "amt                             float64\n",
       "first                            object\n",
       "last                             object\n",
       "gender                           object\n",
       "street                           object\n",
       "city                             object\n",
       "state                            object\n",
       "zip                               int64\n",
       "lat                             float64\n",
       "long                            float64\n",
       "city_pop                          int64\n",
       "job                              object\n",
       "dob                              object\n",
       "trans_num                        object\n",
       "unix_time                         int64\n",
       "merch_lat                       float64\n",
       "merch_long                      float64\n",
       "is_fraud                          int64\n",
       "dtype: object"
      ]
     },
     "execution_count": 24,
     "metadata": {},
     "output_type": "execute_result"
    }
   ],
   "source": [
    "train.dtypes"
   ]
  },
  {
   "cell_type": "code",
   "execution_count": null,
   "metadata": {
    "id": "b525fe19",
    "outputId": "99b85faa-bbe7-40b1-a921-4227748fdf35"
   },
   "outputs": [
    {
     "name": "stdout",
     "output_type": "stream",
     "text": [
      "(1296675, 21) (1296675,)\n"
     ]
    }
   ],
   "source": [
    "# Splitting Target Is Fraud and Predictors\n",
    "#index_cols = ['cc_num']\n",
    "response = 'is_fraud'\n",
    "X_train, y_train = train.drop(response, axis=1), train[response]\n",
    "print(X_train.shape, y_train.shape)"
   ]
  },
  {
   "cell_type": "code",
   "execution_count": null,
   "metadata": {
    "id": "6b722df1",
    "outputId": "b6a50143-f341-404e-f513-935c6b263e70"
   },
   "outputs": [
    {
     "name": "stdout",
     "output_type": "stream",
     "text": [
      "(555719, 21) (555719,)\n"
     ]
    }
   ],
   "source": [
    "X_test, y_test = test.drop(response, axis=1), test[response]\n",
    "print(X_test.shape, y_test.shape)"
   ]
  },
  {
   "cell_type": "markdown",
   "metadata": {
    "id": "52170dbb"
   },
   "source": [
    "#### Still XGBoost with out encoding categorical variable only experiment support not supported in Stable Version even enable_categorical=True\n",
    "'''ValueError: Experimental support for categorical data is not implemented for current tree method yet.'''\n"
   ]
  },
  {
   "cell_type": "markdown",
   "metadata": {
    "id": "0a373631",
    "outputId": "b797ef12-57c6-4ae0-a25b-11e153403daf"
   },
   "source": [
    "### Encoding train and test's Gender and Category Values because of XGBoost not directly accepting Categorical Variables'''"
   ]
  },
  {
   "cell_type": "markdown",
   "metadata": {
    "id": "d059b5da"
   },
   "source": [
    "### Creating Train and Test Data only with Category and gender Categorical and Numerical Variables for Train and Test"
   ]
  },
  {
   "cell_type": "code",
   "execution_count": null,
   "metadata": {
    "id": "3e78622c"
   },
   "outputs": [],
   "source": [
    "#Filtering Data All Numerical Variables With Gender and Category, Since Other Categorical Variables are toomany Unique Values\n",
    "train_filtered=train[['cc_num','amt','zip','lat','long','city_pop','unix_time','merch_lat','merch_long','is_fraud','category','gender']]"
   ]
  },
  {
   "cell_type": "code",
   "execution_count": null,
   "metadata": {
    "id": "3d58d6c3",
    "outputId": "da0a42cb-cd24-4a94-f0d4-77b153149b3b"
   },
   "outputs": [
    {
     "data": {
      "text/html": [
       "<div>\n",
       "<style scoped>\n",
       "    .dataframe tbody tr th:only-of-type {\n",
       "        vertical-align: middle;\n",
       "    }\n",
       "\n",
       "    .dataframe tbody tr th {\n",
       "        vertical-align: top;\n",
       "    }\n",
       "\n",
       "    .dataframe thead th {\n",
       "        text-align: right;\n",
       "    }\n",
       "</style>\n",
       "<table border=\"1\" class=\"dataframe\">\n",
       "  <thead>\n",
       "    <tr style=\"text-align: right;\">\n",
       "      <th></th>\n",
       "      <th>cc_num</th>\n",
       "      <th>amt</th>\n",
       "      <th>zip</th>\n",
       "      <th>lat</th>\n",
       "      <th>long</th>\n",
       "      <th>city_pop</th>\n",
       "      <th>unix_time</th>\n",
       "      <th>merch_lat</th>\n",
       "      <th>merch_long</th>\n",
       "      <th>is_fraud</th>\n",
       "      <th>category</th>\n",
       "      <th>gender</th>\n",
       "    </tr>\n",
       "  </thead>\n",
       "  <tbody>\n",
       "    <tr>\n",
       "      <th>0</th>\n",
       "      <td>2703186189652095</td>\n",
       "      <td>4.97</td>\n",
       "      <td>28654</td>\n",
       "      <td>36.0788</td>\n",
       "      <td>-81.1781</td>\n",
       "      <td>3495</td>\n",
       "      <td>1325376018</td>\n",
       "      <td>36.011293</td>\n",
       "      <td>-82.048315</td>\n",
       "      <td>0</td>\n",
       "      <td>8</td>\n",
       "      <td>0</td>\n",
       "    </tr>\n",
       "    <tr>\n",
       "      <th>1</th>\n",
       "      <td>630423337322</td>\n",
       "      <td>107.23</td>\n",
       "      <td>99160</td>\n",
       "      <td>48.8878</td>\n",
       "      <td>-118.2105</td>\n",
       "      <td>149</td>\n",
       "      <td>1325376044</td>\n",
       "      <td>49.159047</td>\n",
       "      <td>-118.186462</td>\n",
       "      <td>0</td>\n",
       "      <td>4</td>\n",
       "      <td>0</td>\n",
       "    </tr>\n",
       "    <tr>\n",
       "      <th>2</th>\n",
       "      <td>38859492057661</td>\n",
       "      <td>220.11</td>\n",
       "      <td>83252</td>\n",
       "      <td>42.1808</td>\n",
       "      <td>-112.2620</td>\n",
       "      <td>4154</td>\n",
       "      <td>1325376051</td>\n",
       "      <td>43.150704</td>\n",
       "      <td>-112.154481</td>\n",
       "      <td>0</td>\n",
       "      <td>0</td>\n",
       "      <td>1</td>\n",
       "    </tr>\n",
       "    <tr>\n",
       "      <th>3</th>\n",
       "      <td>3534093764340240</td>\n",
       "      <td>45.00</td>\n",
       "      <td>59632</td>\n",
       "      <td>46.2306</td>\n",
       "      <td>-112.1138</td>\n",
       "      <td>1939</td>\n",
       "      <td>1325376076</td>\n",
       "      <td>47.034331</td>\n",
       "      <td>-112.561071</td>\n",
       "      <td>0</td>\n",
       "      <td>2</td>\n",
       "      <td>1</td>\n",
       "    </tr>\n",
       "    <tr>\n",
       "      <th>4</th>\n",
       "      <td>375534208663984</td>\n",
       "      <td>41.96</td>\n",
       "      <td>24433</td>\n",
       "      <td>38.4207</td>\n",
       "      <td>-79.4629</td>\n",
       "      <td>99</td>\n",
       "      <td>1325376186</td>\n",
       "      <td>38.674999</td>\n",
       "      <td>-78.632459</td>\n",
       "      <td>0</td>\n",
       "      <td>9</td>\n",
       "      <td>1</td>\n",
       "    </tr>\n",
       "    <tr>\n",
       "      <th>...</th>\n",
       "      <td>...</td>\n",
       "      <td>...</td>\n",
       "      <td>...</td>\n",
       "      <td>...</td>\n",
       "      <td>...</td>\n",
       "      <td>...</td>\n",
       "      <td>...</td>\n",
       "      <td>...</td>\n",
       "      <td>...</td>\n",
       "      <td>...</td>\n",
       "      <td>...</td>\n",
       "      <td>...</td>\n",
       "    </tr>\n",
       "    <tr>\n",
       "      <th>1296670</th>\n",
       "      <td>30263540414123</td>\n",
       "      <td>15.56</td>\n",
       "      <td>84735</td>\n",
       "      <td>37.7175</td>\n",
       "      <td>-112.4777</td>\n",
       "      <td>258</td>\n",
       "      <td>1371816728</td>\n",
       "      <td>36.841266</td>\n",
       "      <td>-111.690765</td>\n",
       "      <td>0</td>\n",
       "      <td>0</td>\n",
       "      <td>1</td>\n",
       "    </tr>\n",
       "    <tr>\n",
       "      <th>1296671</th>\n",
       "      <td>6011149206456997</td>\n",
       "      <td>51.70</td>\n",
       "      <td>21790</td>\n",
       "      <td>39.2667</td>\n",
       "      <td>-77.5101</td>\n",
       "      <td>100</td>\n",
       "      <td>1371816739</td>\n",
       "      <td>38.906881</td>\n",
       "      <td>-78.246528</td>\n",
       "      <td>0</td>\n",
       "      <td>1</td>\n",
       "      <td>1</td>\n",
       "    </tr>\n",
       "    <tr>\n",
       "      <th>1296672</th>\n",
       "      <td>3514865930894695</td>\n",
       "      <td>105.93</td>\n",
       "      <td>88325</td>\n",
       "      <td>32.9396</td>\n",
       "      <td>-105.8189</td>\n",
       "      <td>899</td>\n",
       "      <td>1371816752</td>\n",
       "      <td>33.619513</td>\n",
       "      <td>-105.130529</td>\n",
       "      <td>0</td>\n",
       "      <td>1</td>\n",
       "      <td>1</td>\n",
       "    </tr>\n",
       "    <tr>\n",
       "      <th>1296673</th>\n",
       "      <td>2720012583106919</td>\n",
       "      <td>74.90</td>\n",
       "      <td>57756</td>\n",
       "      <td>43.3526</td>\n",
       "      <td>-102.5411</td>\n",
       "      <td>1126</td>\n",
       "      <td>1371816816</td>\n",
       "      <td>42.788940</td>\n",
       "      <td>-103.241160</td>\n",
       "      <td>0</td>\n",
       "      <td>1</td>\n",
       "      <td>1</td>\n",
       "    </tr>\n",
       "    <tr>\n",
       "      <th>1296674</th>\n",
       "      <td>4292902571056973207</td>\n",
       "      <td>4.30</td>\n",
       "      <td>59871</td>\n",
       "      <td>45.8433</td>\n",
       "      <td>-113.8748</td>\n",
       "      <td>218</td>\n",
       "      <td>1371816817</td>\n",
       "      <td>46.565983</td>\n",
       "      <td>-114.186110</td>\n",
       "      <td>0</td>\n",
       "      <td>1</td>\n",
       "      <td>1</td>\n",
       "    </tr>\n",
       "  </tbody>\n",
       "</table>\n",
       "<p>1296675 rows × 12 columns</p>\n",
       "</div>"
      ],
      "text/plain": [
       "                      cc_num     amt    zip      lat      long  city_pop  \\\n",
       "0           2703186189652095    4.97  28654  36.0788  -81.1781      3495   \n",
       "1               630423337322  107.23  99160  48.8878 -118.2105       149   \n",
       "2             38859492057661  220.11  83252  42.1808 -112.2620      4154   \n",
       "3           3534093764340240   45.00  59632  46.2306 -112.1138      1939   \n",
       "4            375534208663984   41.96  24433  38.4207  -79.4629        99   \n",
       "...                      ...     ...    ...      ...       ...       ...   \n",
       "1296670       30263540414123   15.56  84735  37.7175 -112.4777       258   \n",
       "1296671     6011149206456997   51.70  21790  39.2667  -77.5101       100   \n",
       "1296672     3514865930894695  105.93  88325  32.9396 -105.8189       899   \n",
       "1296673     2720012583106919   74.90  57756  43.3526 -102.5411      1126   \n",
       "1296674  4292902571056973207    4.30  59871  45.8433 -113.8748       218   \n",
       "\n",
       "          unix_time  merch_lat  merch_long  is_fraud  category  gender  \n",
       "0        1325376018  36.011293  -82.048315         0         8       0  \n",
       "1        1325376044  49.159047 -118.186462         0         4       0  \n",
       "2        1325376051  43.150704 -112.154481         0         0       1  \n",
       "3        1325376076  47.034331 -112.561071         0         2       1  \n",
       "4        1325376186  38.674999  -78.632459         0         9       1  \n",
       "...             ...        ...         ...       ...       ...     ...  \n",
       "1296670  1371816728  36.841266 -111.690765         0         0       1  \n",
       "1296671  1371816739  38.906881  -78.246528         0         1       1  \n",
       "1296672  1371816752  33.619513 -105.130529         0         1       1  \n",
       "1296673  1371816816  42.788940 -103.241160         0         1       1  \n",
       "1296674  1371816817  46.565983 -114.186110         0         1       1  \n",
       "\n",
       "[1296675 rows x 12 columns]"
      ]
     },
     "execution_count": 51,
     "metadata": {},
     "output_type": "execute_result"
    }
   ],
   "source": [
    "CharEncoder(train_filtered)"
   ]
  },
  {
   "cell_type": "code",
   "execution_count": null,
   "metadata": {
    "id": "d77314f7",
    "outputId": "ebbb4928-6ae8-4aa9-98b9-d2989c75713e"
   },
   "outputs": [
    {
     "data": {
      "text/plain": [
       "(1296675, 12)"
      ]
     },
     "execution_count": 52,
     "metadata": {},
     "output_type": "execute_result"
    }
   ],
   "source": [
    "train_filtered.shape"
   ]
  },
  {
   "cell_type": "code",
   "execution_count": null,
   "metadata": {
    "id": "eb2937cc",
    "outputId": "10fb987f-98d5-43c4-eeac-57bbcd5d1b31"
   },
   "outputs": [
    {
     "name": "stdout",
     "output_type": "stream",
     "text": [
      "(1296675, 11) (1296675,)\n"
     ]
    }
   ],
   "source": [
    "responsetrain_filtered = 'is_fraud'\n",
    "X_trained_filtered, y_trained_filtered = train_filtered.drop(responsetrain_filtered, axis=1), train[responsetrain_filtered]\n",
    "print(X_trained_filtered.shape, y_trained_filtered.shape)"
   ]
  },
  {
   "cell_type": "code",
   "execution_count": null,
   "metadata": {
    "id": "6f28aaca"
   },
   "outputs": [],
   "source": [
    "test_filtered=test[['cc_num','amt','zip','lat','long','city_pop','unix_time','merch_lat','merch_long','is_fraud','category','gender']]"
   ]
  },
  {
   "cell_type": "code",
   "execution_count": null,
   "metadata": {
    "id": "c3cea37e",
    "outputId": "6a654f33-65fd-4080-ea8f-3bbff89f505d"
   },
   "outputs": [
    {
     "data": {
      "text/html": [
       "<div>\n",
       "<style scoped>\n",
       "    .dataframe tbody tr th:only-of-type {\n",
       "        vertical-align: middle;\n",
       "    }\n",
       "\n",
       "    .dataframe tbody tr th {\n",
       "        vertical-align: top;\n",
       "    }\n",
       "\n",
       "    .dataframe thead th {\n",
       "        text-align: right;\n",
       "    }\n",
       "</style>\n",
       "<table border=\"1\" class=\"dataframe\">\n",
       "  <thead>\n",
       "    <tr style=\"text-align: right;\">\n",
       "      <th></th>\n",
       "      <th>cc_num</th>\n",
       "      <th>amt</th>\n",
       "      <th>zip</th>\n",
       "      <th>lat</th>\n",
       "      <th>long</th>\n",
       "      <th>city_pop</th>\n",
       "      <th>unix_time</th>\n",
       "      <th>merch_lat</th>\n",
       "      <th>merch_long</th>\n",
       "      <th>is_fraud</th>\n",
       "      <th>category</th>\n",
       "      <th>gender</th>\n",
       "    </tr>\n",
       "  </thead>\n",
       "  <tbody>\n",
       "    <tr>\n",
       "      <th>1296675</th>\n",
       "      <td>2291163933867244</td>\n",
       "      <td>2.86</td>\n",
       "      <td>29209</td>\n",
       "      <td>33.9659</td>\n",
       "      <td>-80.9355</td>\n",
       "      <td>333497</td>\n",
       "      <td>1371816865</td>\n",
       "      <td>33.986391</td>\n",
       "      <td>-81.200714</td>\n",
       "      <td>0</td>\n",
       "      <td>10</td>\n",
       "      <td>1</td>\n",
       "    </tr>\n",
       "    <tr>\n",
       "      <th>1296676</th>\n",
       "      <td>3573030041201292</td>\n",
       "      <td>29.84</td>\n",
       "      <td>84002</td>\n",
       "      <td>40.3207</td>\n",
       "      <td>-110.4360</td>\n",
       "      <td>302</td>\n",
       "      <td>1371816873</td>\n",
       "      <td>39.450498</td>\n",
       "      <td>-109.960431</td>\n",
       "      <td>0</td>\n",
       "      <td>10</td>\n",
       "      <td>0</td>\n",
       "    </tr>\n",
       "    <tr>\n",
       "      <th>1296677</th>\n",
       "      <td>3598215285024754</td>\n",
       "      <td>41.28</td>\n",
       "      <td>11710</td>\n",
       "      <td>40.6729</td>\n",
       "      <td>-73.5365</td>\n",
       "      <td>34496</td>\n",
       "      <td>1371816893</td>\n",
       "      <td>40.495810</td>\n",
       "      <td>-74.196111</td>\n",
       "      <td>0</td>\n",
       "      <td>5</td>\n",
       "      <td>0</td>\n",
       "    </tr>\n",
       "    <tr>\n",
       "      <th>1296678</th>\n",
       "      <td>3591919803438423</td>\n",
       "      <td>60.05</td>\n",
       "      <td>32780</td>\n",
       "      <td>28.5697</td>\n",
       "      <td>-80.8191</td>\n",
       "      <td>54767</td>\n",
       "      <td>1371816915</td>\n",
       "      <td>28.812398</td>\n",
       "      <td>-80.883061</td>\n",
       "      <td>0</td>\n",
       "      <td>9</td>\n",
       "      <td>1</td>\n",
       "    </tr>\n",
       "    <tr>\n",
       "      <th>1296679</th>\n",
       "      <td>3526826139003047</td>\n",
       "      <td>3.19</td>\n",
       "      <td>49632</td>\n",
       "      <td>44.2529</td>\n",
       "      <td>-85.0170</td>\n",
       "      <td>1126</td>\n",
       "      <td>1371816917</td>\n",
       "      <td>44.959148</td>\n",
       "      <td>-85.884734</td>\n",
       "      <td>0</td>\n",
       "      <td>13</td>\n",
       "      <td>1</td>\n",
       "    </tr>\n",
       "    <tr>\n",
       "      <th>...</th>\n",
       "      <td>...</td>\n",
       "      <td>...</td>\n",
       "      <td>...</td>\n",
       "      <td>...</td>\n",
       "      <td>...</td>\n",
       "      <td>...</td>\n",
       "      <td>...</td>\n",
       "      <td>...</td>\n",
       "      <td>...</td>\n",
       "      <td>...</td>\n",
       "      <td>...</td>\n",
       "      <td>...</td>\n",
       "    </tr>\n",
       "    <tr>\n",
       "      <th>1852389</th>\n",
       "      <td>30560609640617</td>\n",
       "      <td>43.77</td>\n",
       "      <td>63453</td>\n",
       "      <td>40.4931</td>\n",
       "      <td>-91.8912</td>\n",
       "      <td>519</td>\n",
       "      <td>1388534347</td>\n",
       "      <td>39.946837</td>\n",
       "      <td>-91.333331</td>\n",
       "      <td>0</td>\n",
       "      <td>5</td>\n",
       "      <td>1</td>\n",
       "    </tr>\n",
       "    <tr>\n",
       "      <th>1852390</th>\n",
       "      <td>3556613125071656</td>\n",
       "      <td>111.84</td>\n",
       "      <td>77566</td>\n",
       "      <td>29.0393</td>\n",
       "      <td>-95.4401</td>\n",
       "      <td>28739</td>\n",
       "      <td>1388534349</td>\n",
       "      <td>29.661049</td>\n",
       "      <td>-96.186633</td>\n",
       "      <td>0</td>\n",
       "      <td>7</td>\n",
       "      <td>1</td>\n",
       "    </tr>\n",
       "    <tr>\n",
       "      <th>1852391</th>\n",
       "      <td>6011724471098086</td>\n",
       "      <td>86.88</td>\n",
       "      <td>99323</td>\n",
       "      <td>46.1966</td>\n",
       "      <td>-118.9017</td>\n",
       "      <td>3684</td>\n",
       "      <td>1388534355</td>\n",
       "      <td>46.658340</td>\n",
       "      <td>-119.715054</td>\n",
       "      <td>0</td>\n",
       "      <td>7</td>\n",
       "      <td>0</td>\n",
       "    </tr>\n",
       "    <tr>\n",
       "      <th>1852392</th>\n",
       "      <td>4079773899158</td>\n",
       "      <td>7.99</td>\n",
       "      <td>83643</td>\n",
       "      <td>44.6255</td>\n",
       "      <td>-116.4493</td>\n",
       "      <td>129</td>\n",
       "      <td>1388534364</td>\n",
       "      <td>44.470525</td>\n",
       "      <td>-117.080888</td>\n",
       "      <td>0</td>\n",
       "      <td>13</td>\n",
       "      <td>1</td>\n",
       "    </tr>\n",
       "    <tr>\n",
       "      <th>1852393</th>\n",
       "      <td>4170689372027579</td>\n",
       "      <td>38.13</td>\n",
       "      <td>73034</td>\n",
       "      <td>35.6665</td>\n",
       "      <td>-97.4798</td>\n",
       "      <td>116001</td>\n",
       "      <td>1388534374</td>\n",
       "      <td>36.210097</td>\n",
       "      <td>-97.036372</td>\n",
       "      <td>0</td>\n",
       "      <td>0</td>\n",
       "      <td>1</td>\n",
       "    </tr>\n",
       "  </tbody>\n",
       "</table>\n",
       "<p>555719 rows × 12 columns</p>\n",
       "</div>"
      ],
      "text/plain": [
       "                   cc_num     amt    zip      lat      long  city_pop  \\\n",
       "1296675  2291163933867244    2.86  29209  33.9659  -80.9355    333497   \n",
       "1296676  3573030041201292   29.84  84002  40.3207 -110.4360       302   \n",
       "1296677  3598215285024754   41.28  11710  40.6729  -73.5365     34496   \n",
       "1296678  3591919803438423   60.05  32780  28.5697  -80.8191     54767   \n",
       "1296679  3526826139003047    3.19  49632  44.2529  -85.0170      1126   \n",
       "...                   ...     ...    ...      ...       ...       ...   \n",
       "1852389    30560609640617   43.77  63453  40.4931  -91.8912       519   \n",
       "1852390  3556613125071656  111.84  77566  29.0393  -95.4401     28739   \n",
       "1852391  6011724471098086   86.88  99323  46.1966 -118.9017      3684   \n",
       "1852392     4079773899158    7.99  83643  44.6255 -116.4493       129   \n",
       "1852393  4170689372027579   38.13  73034  35.6665  -97.4798    116001   \n",
       "\n",
       "          unix_time  merch_lat  merch_long  is_fraud  category  gender  \n",
       "1296675  1371816865  33.986391  -81.200714         0        10       1  \n",
       "1296676  1371816873  39.450498 -109.960431         0        10       0  \n",
       "1296677  1371816893  40.495810  -74.196111         0         5       0  \n",
       "1296678  1371816915  28.812398  -80.883061         0         9       1  \n",
       "1296679  1371816917  44.959148  -85.884734         0        13       1  \n",
       "...             ...        ...         ...       ...       ...     ...  \n",
       "1852389  1388534347  39.946837  -91.333331         0         5       1  \n",
       "1852390  1388534349  29.661049  -96.186633         0         7       1  \n",
       "1852391  1388534355  46.658340 -119.715054         0         7       0  \n",
       "1852392  1388534364  44.470525 -117.080888         0        13       1  \n",
       "1852393  1388534374  36.210097  -97.036372         0         0       1  \n",
       "\n",
       "[555719 rows x 12 columns]"
      ]
     },
     "execution_count": 56,
     "metadata": {},
     "output_type": "execute_result"
    }
   ],
   "source": [
    "CharEncoder(test_filtered)"
   ]
  },
  {
   "cell_type": "code",
   "execution_count": null,
   "metadata": {
    "id": "bb0deabd",
    "outputId": "1b2da5ee-56df-4948-cda3-aaebbeda4c8a"
   },
   "outputs": [
    {
     "data": {
      "text/plain": [
       "(555719, 12)"
      ]
     },
     "execution_count": 57,
     "metadata": {},
     "output_type": "execute_result"
    }
   ],
   "source": [
    "test_filtered.shape"
   ]
  },
  {
   "cell_type": "code",
   "execution_count": null,
   "metadata": {
    "id": "f946e901",
    "outputId": "c4615b5c-18bb-409f-cf09-604300916922"
   },
   "outputs": [
    {
     "name": "stdout",
     "output_type": "stream",
     "text": [
      "(555719, 11) (555719,)\n"
     ]
    }
   ],
   "source": [
    "responsetest_filtered = 'is_fraud'\n",
    "X_test_filtered, y_test_filtered = test_filtered.drop(responsetest_filtered, axis=1), test_filtered[responsetest_filtered]\n",
    "print(X_test_filtered.shape, y_test_filtered.shape)"
   ]
  },
  {
   "cell_type": "code",
   "execution_count": null,
   "metadata": {
    "id": "4e203054",
    "outputId": "f2ba22c0-7b1a-4b45-be76-64bd7791e60b"
   },
   "outputs": [
    {
     "data": {
      "text/html": [
       "<div>\n",
       "<style scoped>\n",
       "    .dataframe tbody tr th:only-of-type {\n",
       "        vertical-align: middle;\n",
       "    }\n",
       "\n",
       "    .dataframe tbody tr th {\n",
       "        vertical-align: top;\n",
       "    }\n",
       "\n",
       "    .dataframe thead th {\n",
       "        text-align: right;\n",
       "    }\n",
       "</style>\n",
       "<table border=\"1\" class=\"dataframe\">\n",
       "  <thead>\n",
       "    <tr style=\"text-align: right;\">\n",
       "      <th></th>\n",
       "      <th>cc_num</th>\n",
       "      <th>amt</th>\n",
       "      <th>zip</th>\n",
       "      <th>lat</th>\n",
       "      <th>long</th>\n",
       "      <th>city_pop</th>\n",
       "      <th>unix_time</th>\n",
       "      <th>merch_lat</th>\n",
       "      <th>merch_long</th>\n",
       "      <th>category</th>\n",
       "      <th>gender</th>\n",
       "    </tr>\n",
       "  </thead>\n",
       "  <tbody>\n",
       "    <tr>\n",
       "      <th>1296675</th>\n",
       "      <td>2291163933867244</td>\n",
       "      <td>2.86</td>\n",
       "      <td>29209</td>\n",
       "      <td>33.9659</td>\n",
       "      <td>-80.9355</td>\n",
       "      <td>333497</td>\n",
       "      <td>1371816865</td>\n",
       "      <td>33.986391</td>\n",
       "      <td>-81.200714</td>\n",
       "      <td>10</td>\n",
       "      <td>1</td>\n",
       "    </tr>\n",
       "    <tr>\n",
       "      <th>1296676</th>\n",
       "      <td>3573030041201292</td>\n",
       "      <td>29.84</td>\n",
       "      <td>84002</td>\n",
       "      <td>40.3207</td>\n",
       "      <td>-110.4360</td>\n",
       "      <td>302</td>\n",
       "      <td>1371816873</td>\n",
       "      <td>39.450498</td>\n",
       "      <td>-109.960431</td>\n",
       "      <td>10</td>\n",
       "      <td>0</td>\n",
       "    </tr>\n",
       "    <tr>\n",
       "      <th>1296677</th>\n",
       "      <td>3598215285024754</td>\n",
       "      <td>41.28</td>\n",
       "      <td>11710</td>\n",
       "      <td>40.6729</td>\n",
       "      <td>-73.5365</td>\n",
       "      <td>34496</td>\n",
       "      <td>1371816893</td>\n",
       "      <td>40.495810</td>\n",
       "      <td>-74.196111</td>\n",
       "      <td>5</td>\n",
       "      <td>0</td>\n",
       "    </tr>\n",
       "    <tr>\n",
       "      <th>1296678</th>\n",
       "      <td>3591919803438423</td>\n",
       "      <td>60.05</td>\n",
       "      <td>32780</td>\n",
       "      <td>28.5697</td>\n",
       "      <td>-80.8191</td>\n",
       "      <td>54767</td>\n",
       "      <td>1371816915</td>\n",
       "      <td>28.812398</td>\n",
       "      <td>-80.883061</td>\n",
       "      <td>9</td>\n",
       "      <td>1</td>\n",
       "    </tr>\n",
       "    <tr>\n",
       "      <th>1296679</th>\n",
       "      <td>3526826139003047</td>\n",
       "      <td>3.19</td>\n",
       "      <td>49632</td>\n",
       "      <td>44.2529</td>\n",
       "      <td>-85.0170</td>\n",
       "      <td>1126</td>\n",
       "      <td>1371816917</td>\n",
       "      <td>44.959148</td>\n",
       "      <td>-85.884734</td>\n",
       "      <td>13</td>\n",
       "      <td>1</td>\n",
       "    </tr>\n",
       "    <tr>\n",
       "      <th>...</th>\n",
       "      <td>...</td>\n",
       "      <td>...</td>\n",
       "      <td>...</td>\n",
       "      <td>...</td>\n",
       "      <td>...</td>\n",
       "      <td>...</td>\n",
       "      <td>...</td>\n",
       "      <td>...</td>\n",
       "      <td>...</td>\n",
       "      <td>...</td>\n",
       "      <td>...</td>\n",
       "    </tr>\n",
       "    <tr>\n",
       "      <th>1852389</th>\n",
       "      <td>30560609640617</td>\n",
       "      <td>43.77</td>\n",
       "      <td>63453</td>\n",
       "      <td>40.4931</td>\n",
       "      <td>-91.8912</td>\n",
       "      <td>519</td>\n",
       "      <td>1388534347</td>\n",
       "      <td>39.946837</td>\n",
       "      <td>-91.333331</td>\n",
       "      <td>5</td>\n",
       "      <td>1</td>\n",
       "    </tr>\n",
       "    <tr>\n",
       "      <th>1852390</th>\n",
       "      <td>3556613125071656</td>\n",
       "      <td>111.84</td>\n",
       "      <td>77566</td>\n",
       "      <td>29.0393</td>\n",
       "      <td>-95.4401</td>\n",
       "      <td>28739</td>\n",
       "      <td>1388534349</td>\n",
       "      <td>29.661049</td>\n",
       "      <td>-96.186633</td>\n",
       "      <td>7</td>\n",
       "      <td>1</td>\n",
       "    </tr>\n",
       "    <tr>\n",
       "      <th>1852391</th>\n",
       "      <td>6011724471098086</td>\n",
       "      <td>86.88</td>\n",
       "      <td>99323</td>\n",
       "      <td>46.1966</td>\n",
       "      <td>-118.9017</td>\n",
       "      <td>3684</td>\n",
       "      <td>1388534355</td>\n",
       "      <td>46.658340</td>\n",
       "      <td>-119.715054</td>\n",
       "      <td>7</td>\n",
       "      <td>0</td>\n",
       "    </tr>\n",
       "    <tr>\n",
       "      <th>1852392</th>\n",
       "      <td>4079773899158</td>\n",
       "      <td>7.99</td>\n",
       "      <td>83643</td>\n",
       "      <td>44.6255</td>\n",
       "      <td>-116.4493</td>\n",
       "      <td>129</td>\n",
       "      <td>1388534364</td>\n",
       "      <td>44.470525</td>\n",
       "      <td>-117.080888</td>\n",
       "      <td>13</td>\n",
       "      <td>1</td>\n",
       "    </tr>\n",
       "    <tr>\n",
       "      <th>1852393</th>\n",
       "      <td>4170689372027579</td>\n",
       "      <td>38.13</td>\n",
       "      <td>73034</td>\n",
       "      <td>35.6665</td>\n",
       "      <td>-97.4798</td>\n",
       "      <td>116001</td>\n",
       "      <td>1388534374</td>\n",
       "      <td>36.210097</td>\n",
       "      <td>-97.036372</td>\n",
       "      <td>0</td>\n",
       "      <td>1</td>\n",
       "    </tr>\n",
       "  </tbody>\n",
       "</table>\n",
       "<p>555719 rows × 11 columns</p>\n",
       "</div>"
      ],
      "text/plain": [
       "                   cc_num     amt    zip      lat      long  city_pop  \\\n",
       "1296675  2291163933867244    2.86  29209  33.9659  -80.9355    333497   \n",
       "1296676  3573030041201292   29.84  84002  40.3207 -110.4360       302   \n",
       "1296677  3598215285024754   41.28  11710  40.6729  -73.5365     34496   \n",
       "1296678  3591919803438423   60.05  32780  28.5697  -80.8191     54767   \n",
       "1296679  3526826139003047    3.19  49632  44.2529  -85.0170      1126   \n",
       "...                   ...     ...    ...      ...       ...       ...   \n",
       "1852389    30560609640617   43.77  63453  40.4931  -91.8912       519   \n",
       "1852390  3556613125071656  111.84  77566  29.0393  -95.4401     28739   \n",
       "1852391  6011724471098086   86.88  99323  46.1966 -118.9017      3684   \n",
       "1852392     4079773899158    7.99  83643  44.6255 -116.4493       129   \n",
       "1852393  4170689372027579   38.13  73034  35.6665  -97.4798    116001   \n",
       "\n",
       "          unix_time  merch_lat  merch_long  category  gender  \n",
       "1296675  1371816865  33.986391  -81.200714        10       1  \n",
       "1296676  1371816873  39.450498 -109.960431        10       0  \n",
       "1296677  1371816893  40.495810  -74.196111         5       0  \n",
       "1296678  1371816915  28.812398  -80.883061         9       1  \n",
       "1296679  1371816917  44.959148  -85.884734        13       1  \n",
       "...             ...        ...         ...       ...     ...  \n",
       "1852389  1388534347  39.946837  -91.333331         5       1  \n",
       "1852390  1388534349  29.661049  -96.186633         7       1  \n",
       "1852391  1388534355  46.658340 -119.715054         7       0  \n",
       "1852392  1388534364  44.470525 -117.080888        13       1  \n",
       "1852393  1388534374  36.210097  -97.036372         0       1  \n",
       "\n",
       "[555719 rows x 11 columns]"
      ]
     },
     "execution_count": 34,
     "metadata": {},
     "output_type": "execute_result"
    }
   ],
   "source": [
    "X_test_filtered"
   ]
  },
  {
   "cell_type": "markdown",
   "metadata": {
    "id": "2d8f1bb7"
   },
   "source": [
    "## Features Selection Validation/ Features Importance and  Summary Report"
   ]
  },
  {
   "cell_type": "markdown",
   "metadata": {
    "id": "cdd1e4cd"
   },
   "source": [
    "### Feature Selection\n",
    "##### Recursive Feature Elimination(RFE)\n",
    "The feature selection used in python is Recursive Feature Elimination(RFE), which recursively selects smaller and smaller amount of features until the final recommended features are selected."
   ]
  },
  {
   "cell_type": "code",
   "execution_count": null,
   "metadata": {
    "id": "2cc5eac6"
   },
   "outputs": [],
   "source": [
    "#Recursive Feature Elimination to identify features\n",
    "logreg = LogisticRegression()\n",
    "rfe = RFE(logreg, n_features_to_select=20,step=1)\n",
    "# Feed scalled features into rfe\n",
    "rfe = rfe.fit(X_trained_filtered,y_trained_filtered)"
   ]
  },
  {
   "cell_type": "code",
   "execution_count": null,
   "metadata": {
    "id": "2e98ed20",
    "outputId": "f50216d5-c14e-498c-fcd5-efac3200e4b6"
   },
   "outputs": [
    {
     "name": "stdout",
     "output_type": "stream",
     "text": [
      "Feature Name: cc_num Important Rank ---> 1\n",
      "Feature Name: amt Important Rank ---> 1\n",
      "Feature Name: zip Important Rank ---> 1\n",
      "Feature Name: lat Important Rank ---> 1\n",
      "Feature Name: long Important Rank ---> 1\n",
      "Feature Name: city_pop Important Rank ---> 1\n",
      "Feature Name: unix_time Important Rank ---> 1\n",
      "Feature Name: merch_lat Important Rank ---> 1\n",
      "Feature Name: merch_long Important Rank ---> 1\n",
      "Feature Name: category Important Rank ---> 1\n",
      "Feature Name: gender Important Rank ---> 1\n"
     ]
    }
   ],
   "source": [
    "for f,i in zip(X_trained_filtered.columns.values,rfe.ranking_):\n",
    "    print('Feature Name:',f,'Important Rank', '--->',i)"
   ]
  },
  {
   "cell_type": "code",
   "execution_count": null,
   "metadata": {
    "id": "626fc9f5",
    "outputId": "f68d7fb6-07eb-4ec4-e51d-6deedcbc8bf0"
   },
   "outputs": [
    {
     "name": "stdout",
     "output_type": "stream",
     "text": [
      "Optimization terminated successfully.\n",
      "         Current function value: 0.032000\n",
      "         Iterations 9\n",
      "                         Results: Logit\n",
      "=================================================================\n",
      "Model:              Logit            Pseudo R-squared: 0.101     \n",
      "Dependent Variable: is_fraud         AIC:              82996.3091\n",
      "Date:               2023-10-25 04:52 BIC:              83044.6103\n",
      "No. Observations:   1296675          Log-Likelihood:   -41494.   \n",
      "Df Model:           3                LL-Null:          -46154.   \n",
      "Df Residuals:       1296671          LLR p-value:      0.0000    \n",
      "Converged:          1.0000           Scale:            1.0000    \n",
      "No. Iterations:     9.0000                                       \n",
      "------------------------------------------------------------------\n",
      "              Coef.   Std.Err.     z      P>|z|    [0.025   0.975]\n",
      "------------------------------------------------------------------\n",
      "cc_num       -0.0000    0.0000   -1.0962  0.2730  -0.0000   0.0000\n",
      "amt           0.0027    0.0000   84.7536  0.0000   0.0026   0.0028\n",
      "zip          -0.0000    0.0000   -0.6365  0.5245  -0.0000   0.0000\n",
      "lat           0.0388    0.0211    1.8392  0.0659  -0.0026   0.0802\n",
      "long          0.0055    0.0211    0.2621  0.7932  -0.0358   0.0468\n",
      "city_pop      0.0000    0.0000    2.4198  0.0155   0.0000   0.0000\n",
      "unix_time    -0.0000    0.0000  -37.9519  0.0000  -0.0000  -0.0000\n",
      "merch_lat    -0.0317    0.0210   -1.5125  0.1304  -0.0728   0.0094\n",
      "merch_long   -0.0054    0.0209   -0.2563  0.7977  -0.0464   0.0357\n",
      "category      0.0136    0.0032    4.2199  0.0000   0.0073   0.0199\n",
      "gender        0.2199    0.0243    9.0462  0.0000   0.1722   0.2675\n",
      "=================================================================\n",
      "\n"
     ]
    }
   ],
   "source": [
    "#Getting Summary Report\n",
    "logit_model  = sm.Logit(y_trained_filtered,X_trained_filtered)\n",
    "results = logit_model.fit()\n",
    "print(results.summary2())"
   ]
  },
  {
   "cell_type": "markdown",
   "metadata": {
    "id": "55b978fd",
    "outputId": "12e8e2d7-4133-44e6-b064-661202167700"
   },
   "source": [
    "### Found Zip , cc_num lat, long, merch_long and mech_lat not influencing much on finding is fraud or not'''"
   ]
  },
  {
   "cell_type": "markdown",
   "metadata": {
    "id": "edb957f7"
   },
   "source": [
    "## Feature Selection /Engineering Findings/Summary"
   ]
  },
  {
   "cell_type": "markdown",
   "metadata": {
    "id": "e4b60199"
   },
   "source": [
    "### 1)Features Category and Gender only able to Encode ,but other features no influence in target as well as over 700 or hundred of factors level not able to encode"
   ]
  },
  {
   "cell_type": "markdown",
   "metadata": {
    "id": "b0c64568"
   },
   "source": [
    "### 2)Features Selections Report and Summary Report Already Provided"
   ]
  },
  {
   "cell_type": "markdown",
   "metadata": {
    "id": "IUPEKyCcmouf"
   },
   "source": [
    "### 3)Grid Search CV Hyper Parameters Used"
   ]
  },
  {
   "cell_type": "markdown",
   "metadata": {
    "id": "_Krw_YT0_K-9"
   },
   "source": [
    "### 4)Lasso, Ridge and Elastic Net Regularization Used"
   ]
  },
  {
   "cell_type": "markdown",
   "metadata": {
    "id": "df942372"
   },
   "source": [
    "### 5) Used above features in the Model\n"
   ]
  },
  {
   "cell_type": "markdown",
   "metadata": {
    "id": "hcWRaMvxCC6S"
   },
   "source": [
    "### **6) Logistic Regression Model with Balanced SMOTE with Grid Search Hyper Parameteres and Lasso, Ridge ,Elastic Net Regularization model used and got my all Performance Metrics also got in this Note Book,\n",
    "### which was was missed in my Model Notebook"
   ]
  },
  {
   "cell_type": "markdown",
   "metadata": {},
   "source": [
    "### 7) Balanced SMOTE Model with Logistic Regression in this Notebook"
   ]
  },
  {
   "cell_type": "markdown",
   "metadata": {
    "id": "a6aceba0"
   },
   "source": [
    "## Future Work"
   ]
  },
  {
   "cell_type": "markdown",
   "metadata": {
    "id": "583cb9fa"
   },
   "source": [
    "### 1)If We have Transactions Locations Lat and Long able to get from Browser Cookies or if used Chrome Browser able to get from Google Analytics then using Havershine Distance able to find out distance which are outside of United States would help to mark as Fraudulent Transaction Easily\n",
    "### Can be used as one of the important Feature"
   ]
  }
 ],
 "metadata": {
  "accelerator": "GPU",
  "colab": {
   "gpuType": "T4",
   "machine_shape": "hm",
   "provenance": []
  },
  "kernelspec": {
   "display_name": "Python 3",
   "language": "python",
   "name": "python3"
  },
  "language_info": {
   "codemirror_mode": {
    "name": "ipython",
    "version": 3
   },
   "file_extension": ".py",
   "mimetype": "text/x-python",
   "name": "python",
   "nbconvert_exporter": "python",
   "pygments_lexer": "ipython3",
   "version": "3.7.4"
  }
 },
 "nbformat": 4,
 "nbformat_minor": 5
}
